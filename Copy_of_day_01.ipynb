{
  "nbformat": 4,
  "nbformat_minor": 0,
  "metadata": {
    "colab": {
      "provenance": [],
      "authorship_tag": "ABX9TyNJYKmydw3OJVvX3FnAi+8N",
      "include_colab_link": true
    },
    "kernelspec": {
      "name": "python3",
      "display_name": "Python 3"
    },
    "language_info": {
      "name": "python"
    }
  },
  "cells": [
    {
      "cell_type": "markdown",
      "metadata": {
        "id": "view-in-github",
        "colab_type": "text"
      },
      "source": [
        "<a href=\"https://colab.research.google.com/github/SAJIDABBAS-DATA-WEB/python/blob/main/Copy_of_day_01.ipynb\" target=\"_parent\"><img src=\"https://colab.research.google.com/assets/colab-badge.svg\" alt=\"Open In Colab\"/></a>"
      ]
    },
    {
      "cell_type": "code",
      "execution_count": null,
      "metadata": {
        "colab": {
          "base_uri": "https://localhost:8080/"
        },
        "id": "OA97l9btPOZC",
        "outputId": "c452801a-d560-457b-8445-acdd8cf36bb7"
      },
      "outputs": [
        {
          "output_type": "stream",
          "name": "stdout",
          "text": [
            "hello world\n"
          ]
        }
      ],
      "source": [
        "print(\"hello world\")"
      ]
    },
    {
      "cell_type": "code",
      "source": [
        "print(\"hello world\\nhello world\\nhello world\")"
      ],
      "metadata": {
        "colab": {
          "base_uri": "https://localhost:8080/"
        },
        "id": "vhiZRgDgPo4b",
        "outputId": "ae4c3fe6-8365-47b9-c167-6e7f34ddce5f"
      },
      "execution_count": null,
      "outputs": [
        {
          "output_type": "stream",
          "name": "stdout",
          "text": [
            "hello world\n",
            "hello world\n",
            "hello world\n"
          ]
        }
      ]
    },
    {
      "cell_type": "code",
      "source": [
        "print(\"hello\" + \"sajid\")\n",
        "#adding space inbetween strings\n",
        "print(\"hello\" +\" \"+\"sajid\")\n"
      ],
      "metadata": {
        "colab": {
          "base_uri": "https://localhost:8080/"
        },
        "id": "UUWSDwVsPt40",
        "outputId": "8fa92926-96d8-44ea-e710-cb1caf0fe61d"
      },
      "execution_count": null,
      "outputs": [
        {
          "output_type": "stream",
          "name": "stdout",
          "text": [
            "hell0sajid\n",
            "hello sajid\n"
          ]
        }
      ]
    },
    {
      "cell_type": "code",
      "source": [
        "print(\"hello \"+\" world\")\n",
        "print('print(\"hello\" + \"world\")')\n",
        "\n",
        "#fixing the string concatenation \n",
        "print('hello \"+\" world')\n",
        "\n"
      ],
      "metadata": {
        "colab": {
          "base_uri": "https://localhost:8080/"
        },
        "id": "ql6uExjzRgHP",
        "outputId": "aad1c280-fc47-4c12-b416-0d33047c7dc9"
      },
      "execution_count": null,
      "outputs": [
        {
          "output_type": "stream",
          "name": "stdout",
          "text": [
            "hello  world\n",
            "hello \"+\" world\n",
            "print(\"hello\" + \"world\")\n"
          ]
        }
      ]
    },
    {
      "cell_type": "code",
      "source": [
        "#input function\n",
        "input(\"what are you doing\")"
      ],
      "metadata": {
        "colab": {
          "base_uri": "https://localhost:8080/",
          "height": 52
        },
        "id": "xrBWpaXMTExl",
        "outputId": "583c91b7-0334-4199-ad8d-35cd87648727"
      },
      "execution_count": null,
      "outputs": [
        {
          "name": "stdout",
          "output_type": "stream",
          "text": [
            "what are you doings\n"
          ]
        },
        {
          "output_type": "execute_result",
          "data": {
            "text/plain": [
              "'s'"
            ],
            "application/vnd.google.colaboratory.intrinsic+json": {
              "type": "string"
            }
          },
          "metadata": {},
          "execution_count": 12
        }
      ]
    },
    {
      "cell_type": "code",
      "source": [
        "# input function inside print function to say hello to the user\n",
        "print(\"hello \" + input(\"what is your name\"+ \" \")+ \"!\")"
      ],
      "metadata": {
        "colab": {
          "base_uri": "https://localhost:8080/"
        },
        "id": "43pUjeh_T2qp",
        "outputId": "b26898c3-76d7-4f6d-f5ce-69df39663a9f"
      },
      "execution_count": null,
      "outputs": [
        {
          "output_type": "stream",
          "name": "stdout",
          "text": [
            "what is your name sajid\n",
            "hello sajid!\n"
          ]
        }
      ]
    },
    {
      "cell_type": "code",
      "source": [
        "#writing a program that prints\n",
        "#how many character in ur user name\n",
        "\n",
        "#1 finding the lenght of the input using lenght\n",
        "print(len(input(\"what is your name? \")))"
      ],
      "metadata": {
        "colab": {
          "base_uri": "https://localhost:8080/"
        },
        "id": "-_o0IDwSVlwO",
        "outputId": "e681998c-f31a-412b-e75d-4e88171c6c99"
      },
      "execution_count": null,
      "outputs": [
        {
          "output_type": "stream",
          "name": "stdout",
          "text": [
            "what is your name? REhan\n",
            "5\n"
          ]
        }
      ]
    },
    {
      "cell_type": "code",
      "source": [
        "#variables in python\n",
        "#name is variables here\n",
        "name = input(\"what is your name \")\n",
        "print(name)"
      ],
      "metadata": {
        "colab": {
          "base_uri": "https://localhost:8080/"
        },
        "id": "Yr6KmGtvM_Xp",
        "outputId": "0c2838a3-f216-4eb3-dbfa-574d734edb47"
      },
      "execution_count": null,
      "outputs": [
        {
          "output_type": "stream",
          "name": "stdout",
          "text": [
            "what is your name sajid\n",
            "sajid\n"
          ]
        }
      ]
    },
    {
      "cell_type": "code",
      "source": [
        "# now name is holding on value as jack\n",
        "name = \"jack\"\n",
        "#the name now updated as angela\n",
        "name = \"angela\"\n",
        "print(name)"
      ],
      "metadata": {
        "colab": {
          "base_uri": "https://localhost:8080/"
        },
        "id": "_YeckrLMOQnr",
        "outputId": "d939c7c4-6bf9-4421-dc6c-cde87efd3f70"
      },
      "execution_count": null,
      "outputs": [
        {
          "output_type": "stream",
          "name": "stdout",
          "text": [
            "angela\n"
          ]
        }
      ]
    },
    {
      "cell_type": "code",
      "source": [
        "#asking user to enter is name and \n",
        "#finding the lenght of character in the name \n",
        "\n",
        "name = input(\"what is your name \")\n",
        "lenght = len(name)\n",
        "print(lenght)"
      ],
      "metadata": {
        "colab": {
          "base_uri": "https://localhost:8080/"
        },
        "id": "7nbx8Zu0O0DO",
        "outputId": "524e1f70-ec66-4976-f9ad-bf44c668945c"
      },
      "execution_count": null,
      "outputs": [
        {
          "output_type": "stream",
          "name": "stdout",
          "text": [
            "what is your name sajid\n",
            "5\n"
          ]
        }
      ]
    },
    {
      "cell_type": "code",
      "source": [
        "#switches the values stored in the variables a and b\n",
        "\n",
        "a = input(\"a: \")\n",
        "b = input(\"b: \")\n",
        "\n",
        "c = a\n",
        "a = b\n",
        "b = c\n",
        "\n",
        "print(a)\n",
        "print(b)"
      ],
      "metadata": {
        "colab": {
          "base_uri": "https://localhost:8080/"
        },
        "id": "oFEnyGdhP5I8",
        "outputId": "afed51cb-ca84-4f22-b5f1-fd88574b018e"
      },
      "execution_count": null,
      "outputs": [
        {
          "output_type": "stream",
          "name": "stdout",
          "text": [
            "a: 50\n",
            "b: 10\n",
            "10\n",
            "50\n"
          ]
        }
      ]
    },
    {
      "cell_type": "code",
      "source": [
        "#band name generator\n",
        "#1.creating a greeting for the program\n",
        "print(\"welcome to the band name generator.\")\n",
        "#2.asking the user for the city that they grew up in.\n",
        "city_user = input(\"which city did you grew up in\\n \")\n",
        "#askinf the user for their pet name\n",
        "user_pet = input(\"what is your pet name?\\n \")\n",
        "#4.combing the name of their city and pet and show them their band name\n",
        "band_name_generator = city_user + \" \" + user_pet\n",
        "print(band_name_generator)"
      ],
      "metadata": {
        "colab": {
          "base_uri": "https://localhost:8080/"
        },
        "id": "SmxiJLU0Xua5",
        "outputId": "5a22a88d-e755-46fa-895d-988e5ac478a1"
      },
      "execution_count": null,
      "outputs": [
        {
          "output_type": "stream",
          "name": "stdout",
          "text": [
            "welcome to the band name generator.\n",
            "which city did you grew up in\n",
            " vellore\n",
            "what is your pet name?\n",
            " meenu\n",
            "vellore meenu\n"
          ]
        }
      ]
    },
    {
      "cell_type": "code",
      "source": [],
      "metadata": {
        "id": "WbzMEFlHZfPZ"
      },
      "execution_count": null,
      "outputs": []
    }
  ]
}