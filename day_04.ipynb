{
  "nbformat": 4,
  "nbformat_minor": 0,
  "metadata": {
    "colab": {
      "provenance": [],
      "authorship_tag": "ABX9TyNVri7iS9woQaWAtdWSqmgr",
      "include_colab_link": true
    },
    "kernelspec": {
      "name": "python3",
      "display_name": "Python 3"
    },
    "language_info": {
      "name": "python"
    }
  },
  "cells": [
    {
      "cell_type": "markdown",
      "metadata": {
        "id": "view-in-github",
        "colab_type": "text"
      },
      "source": [
        "<a href=\"https://colab.research.google.com/github/sajid-the-data-guy/python/blob/main/day_04.ipynb\" target=\"_parent\"><img src=\"https://colab.research.google.com/assets/colab-badge.svg\" alt=\"Open In Colab\"/></a>"
      ]
    },
    {
      "cell_type": "code",
      "execution_count": null,
      "metadata": {
        "colab": {
          "base_uri": "https://localhost:8080/"
        },
        "id": "ZfmiqzlIdVvH",
        "outputId": "e85cd3ef-8beb-49f4-e36e-43ecee2a8747"
      },
      "outputs": [
        {
          "output_type": "stream",
          "name": "stdout",
          "text": [
            "138\n"
          ]
        }
      ],
      "source": [
        "#Day_04 \n",
        "#Randomization\n",
        "import random\n",
        "#inside randint function (a,b) first number is a starting int and b is ending int\n",
        "c = random.randint(100,200)\n",
        "print(c)"
      ]
    },
    {
      "cell_type": "code",
      "source": [
        "#to get a random floating point\n",
        "#0.00000 to 0.999999 it will give as inbetween this numbers\n",
        "random_float = random.random()\n",
        "print(random_float)\n",
        "#multipling with 5\n",
        "random_float * 5"
      ],
      "metadata": {
        "colab": {
          "base_uri": "https://localhost:8080/"
        },
        "id": "-KxyGho8_uly",
        "outputId": "43c32689-e000-4167-880b-2f824dfafafa"
      },
      "execution_count": null,
      "outputs": [
        {
          "output_type": "stream",
          "name": "stdout",
          "text": [
            "0.6390266542337408\n"
          ]
        },
        {
          "output_type": "execute_result",
          "data": {
            "text/plain": [
              "3.195133271168704"
            ]
          },
          "metadata": {},
          "execution_count": 21
        }
      ]
    },
    {
      "cell_type": "code",
      "source": [
        "#heads or tails function\n",
        "import random\n",
        "print(\"Welcome to toss program\")\n",
        "\n",
        "toss = random.randint(0,1)\n",
        "if toss == 1:\n",
        "  print(\"Heads\")\n",
        "else:\n",
        "  print(\"Tails\")\n"
      ],
      "metadata": {
        "colab": {
          "base_uri": "https://localhost:8080/"
        },
        "id": "lhvGlSHjC173",
        "outputId": "85264f3a-8f5e-4e45-a69e-4ba3bf8583b8"
      },
      "execution_count": null,
      "outputs": [
        {
          "output_type": "stream",
          "name": "stdout",
          "text": [
            "Welcome to toss program\n",
            "Tails\n"
          ]
        }
      ]
    },
    {
      "cell_type": "code",
      "source": [
        "#list in python\n",
        "#its a data structure its just a way of organizing and storing data in python\n",
        "\n",
        "states_in_india = [\"khasmir\", \"delhi\", \"himachal pradesh\",\"tamil nadu\",\"mumbai\",\"uttar pradesh\",\"karnataka\",\"kerala\",\"goa\",\"kolkata\",\"punjab\"]\n",
        "\n",
        "#calling  a item from the list from first(0)\n",
        "states_in_india[0]\n",
        "#calling  a item from the list from last(-1)\n",
        "states_in_india[-1]\n",
        "#calling a item in list from center\n",
        "states_in_india[4]\n",
        "\n",
        "#editing or altering a list item \n",
        "states_in_india[4] = \"Bombay\"\n",
        "print(states_in_india)\n"
      ],
      "metadata": {
        "colab": {
          "base_uri": "https://localhost:8080/"
        },
        "id": "jAm1HErYDEl8",
        "outputId": "5fb2f13f-68bd-4b01-cf1c-b82dc21dd273"
      },
      "execution_count": null,
      "outputs": [
        {
          "output_type": "stream",
          "name": "stdout",
          "text": [
            "['khasmir', 'delhi', 'himachal pradesh', 'tamil nadu', 'Bombay', 'uttar pradesh', 'karnataka', 'kerala', 'goa', 'kolkata', 'punjab']\n"
          ]
        }
      ]
    },
    {
      "cell_type": "code",
      "source": [
        "#addind a item in the list\n",
        "\n",
        "states_in_india.append(\"uttrakand\")\n",
        "print(states_in_india)"
      ],
      "metadata": {
        "colab": {
          "base_uri": "https://localhost:8080/"
        },
        "id": "nC-kIzj4hql0",
        "outputId": "009626d2-3c0c-41ab-85d9-30c4fa41a27c"
      },
      "execution_count": null,
      "outputs": [
        {
          "output_type": "stream",
          "name": "stdout",
          "text": [
            "['khasmir', 'delhi', 'himachal pradesh', 'tamil nadu', 'Bombay', 'uttar pradesh', 'karnataka', 'kerala', 'goa', 'kolkata', 'punjab', 'uttrakand', 'uttrakand', 'orrisa', 'nepal', 'uttrakand']\n"
          ]
        }
      ]
    },
    {
      "cell_type": "code",
      "source": [
        "states_in_india.extend([\"orrisa\",\"nepal\"])"
      ],
      "metadata": {
        "id": "nUkOpIURjhrT"
      },
      "execution_count": null,
      "outputs": []
    },
    {
      "cell_type": "code",
      "source": [
        "#split function\n",
        "names = input(\"Enter your names: \")\n",
        "names = names.split(\",\")\n",
        "print(names)"
      ],
      "metadata": {
        "colab": {
          "base_uri": "https://localhost:8080/"
        },
        "id": "5dxJv6LE2RcG",
        "outputId": "4b1ba64a-e9e3-4cad-df69-9921ee6eed46"
      },
      "execution_count": null,
      "outputs": [
        {
          "output_type": "stream",
          "name": "stdout",
          "text": [
            "Enter your names: SAJID,abbas,rehan,khan\n",
            "['SAJID', 'abbas', 'rehan', 'khan']\n"
          ]
        }
      ]
    },
    {
      "cell_type": "markdown",
      "source": [
        "# who should pay the bill\n"
      ],
      "metadata": {
        "id": "6O3WljSA2Ly2"
      }
    },
    {
      "cell_type": "code",
      "source": [
        "#bill paying project \n",
        "import random\n",
        "names = input(\"Enter your names: \")\n",
        "names = names.split(\",\")\n",
        "print(names)\n",
        "name_len = len(names)\n",
        "print(name_len)\n",
        "paying_bill = random.randint(0, name_len -1)\n",
        "person_paying_bill = names[paying_bill]\n",
        "print(f\"{person_paying_bill} should pay the bill \")"
      ],
      "metadata": {
        "colab": {
          "base_uri": "https://localhost:8080/"
        },
        "id": "xPYonngc2JZh",
        "outputId": "6ae6be0d-36f6-4658-ce97-e19d8ee823df"
      },
      "execution_count": 3,
      "outputs": [
        {
          "output_type": "stream",
          "name": "stdout",
          "text": [
            "Enter your names: arjun, sajid, monojeet, rupek, munj,arnab\n",
            "['arjun', ' sajid', ' monojeet', ' rupek', ' munj', 'arnab']\n",
            "6\n",
            "arjun should pay the bill \n"
          ]
        }
      ]
    },
    {
      "cell_type": "code",
      "source": [
        "#combining two list into one single list(nested list)\n",
        "\n",
        "vegitables = [\"tomato\",\" potato\",\" onion\",\"kale\",\" drumstick\"]\n",
        "\n",
        "fruits=[\"banana\",\" mango \",\" grapes\",\" strawberries\",\"apple \",\" pears\"]\n",
        "\n",
        "shop = [fruits,vegitables]\n",
        "print(shop)"
      ],
      "metadata": {
        "colab": {
          "base_uri": "https://localhost:8080/"
        },
        "id": "RNTdm92lQdWl",
        "outputId": "95da2ce7-7bae-4ce0-b485-dda61db28a9c"
      },
      "execution_count": 7,
      "outputs": [
        {
          "output_type": "stream",
          "name": "stdout",
          "text": [
            "[['banana', ' mango ', ' grapes', ' strawberries', 'apple ', ' pears'], ['tomato', ' potato', ' onion', 'kale', ' drumstick']]\n"
          ]
        }
      ]
    },
    {
      "cell_type": "code",
      "source": [
        "fruits = [\"Strawberries\", \"Nectarines\", \"Apples\", \"Grapes\", \"Peaches\", \"Cherries\", \"Pears\"]\n",
        "vegetables = [\"Spinach\", \"Kale\", \"Tomatoes\", \"Celery\", \"Potatoes\"]\n",
        " \n",
        "dirty_dozen = [fruits, vegetables]\n",
        " \n",
        "print(dirty_dozen[1][1])"
      ],
      "metadata": {
        "colab": {
          "base_uri": "https://localhost:8080/"
        },
        "id": "HtnvHhXKTvUC",
        "outputId": "d21d6187-76aa-4f64-bc6c-29b587756451"
      },
      "execution_count": 9,
      "outputs": [
        {
          "output_type": "stream",
          "name": "stdout",
          "text": [
            "Nectarines\n"
          ]
        }
      ]
    },
    {
      "cell_type": "code",
      "source": [
        "#Treasure Map\n",
        "\n",
        "row1=[\"😁\",\"😛\",\"😋\"]\n",
        "row2=[\"😁\",\"😛\",\"😋\"]\n",
        "row3=[\"😁\",\"😛\",\"😋\"]\n",
        "map = [row1,row2,row3]\n",
        "#print(map)\n",
        "\n",
        "\n",
        "position = input(\"where do you want to put the tresure?\")\n",
        "#if input inside the position is 23\n",
        "horizonal = int(position[0]) #this will be 2 \n",
        "vertical = int(position[1])  #this will be 3\n",
        "\n",
        "selected_row = map[vertical-1]\n",
        "selected_row[horizonal -1] = \"X\"\n",
        "print(f\"{row1}\\n{row2}\\n{row3}\\n\")"
      ],
      "metadata": {
        "colab": {
          "base_uri": "https://localhost:8080/"
        },
        "id": "TUO1FPSybSUj",
        "outputId": "6c8cb19c-9109-4593-b59d-076156879d8b"
      },
      "execution_count": 27,
      "outputs": [
        {
          "output_type": "stream",
          "name": "stdout",
          "text": [
            "where do you want to put the tresure?22\n",
            "['😁', '😛', '😋']\n",
            "['😁', 'X', '😋']\n",
            "['😁', '😛', '😋']\n",
            "\n"
          ]
        }
      ]
    },
    {
      "cell_type": "markdown",
      "source": [
        "#Rules for rock paper scissor game\n",
        "rock wins against scissors.\n",
        "scissors win against paper.\n",
        "paper win against rock."
      ],
      "metadata": {
        "id": "7P2A6MBsl3MH"
      }
    },
    {
      "cell_type": "code",
      "source": [
        "rock = '''\n",
        "    _______\n",
        "---'   ____)\n",
        "      (_____)\n",
        "      (_____)\n",
        "      (____)\n",
        "---.__(___)\n",
        "'''\n",
        "\n",
        "paper = '''\n",
        "    _______\n",
        "---'   ____)____\n",
        "          ______)\n",
        "          _______)\n",
        "         _______)\n",
        "---.__________)\n",
        "'''\n",
        "\n",
        "scissors = '''\n",
        "    _______\n",
        "---'   ____)____\n",
        "          ______)\n",
        "       __________)\n",
        "      (____)\n",
        "---.__(___)\n",
        "'''\n",
        "\n",
        "#import random module for randomization\n",
        "import random\n",
        "print(\"Welcome to rock,paper,scissor game\")\n",
        "user_choice = input(\"choose 0 for rock,\\n 1 for paper,\\n 2 scissor: \")\n",
        "user_choice = int(user_choice)\n",
        "print()\n",
        "#making a list for the game \n",
        "computer = [rock, paper, scissors]\n",
        "print(computer[user_choice])\n",
        "computer_choice = random.randint(0,2)\n",
        "#print(computer_choice)\n",
        "print(computer[computer_choice])\n",
        "if user_choice >= 3 or user_choice < 0: \n",
        "  print(\"You typed an invalid number, you lose!\")\n",
        "elif (computer_choice == user_choice) :\n",
        "  print(\"user and computer got same its drawn match, so try again\")\n",
        "elif (computer_choice == 0) and (user_choice == 1) :\n",
        "  print(\"Congrats, You Win!!\")\n",
        "elif(computer_choice == 0) and (user_choice == 2) :\n",
        "  print(\"You lose, computer wins!\")\n",
        "elif(computer_choice == 1) and (user_choice == 0) :\n",
        "  print(\"You win!\")\n",
        "elif(computer_choice == 1) and (user_choice == 2) :\n",
        "  print(\"You win!\")\n",
        "elif(computer_choice == 2) and (user_choice == 1) :\n",
        "  print(\"You lose, computer wins!\")\n",
        "elif(computer_choice == 2) and (user_choice == 0) :\n",
        "  print(\"You win!\")\n",
        "elif(user_choice >= 3) and (user_choice <= 0):\n",
        "  print(\"Select the valid number, which is displayed in your screen\")\n",
        "\n"
      ],
      "metadata": {
        "colab": {
          "base_uri": "https://localhost:8080/"
        },
        "id": "B1fcti4Bi_BX",
        "outputId": "8f1dedbe-d7b7-4772-ce04-09b8706ec630"
      },
      "execution_count": 23,
      "outputs": [
        {
          "output_type": "stream",
          "name": "stdout",
          "text": [
            "Welcome to rock,paper,scissor game\n",
            "choose 0 for rock,\n",
            " 1 for paper,\n",
            " 2 scissor: 0\n",
            "\n",
            "\n",
            "    _______\n",
            "---'   ____)\n",
            "      (_____)\n",
            "      (_____)\n",
            "      (____)\n",
            "---.__(___)\n",
            "\n",
            "\n",
            "    _______\n",
            "---'   ____)____\n",
            "          ______)\n",
            "          _______)\n",
            "         _______)\n",
            "---.__________)\n",
            "\n",
            "You win!\n"
          ]
        }
      ]
    }
  ]
}