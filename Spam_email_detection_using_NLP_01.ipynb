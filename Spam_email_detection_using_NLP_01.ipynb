{
 "cells": [
  {
   "cell_type": "markdown",
   "id": "9c89e600",
   "metadata": {},
   "source": [
    "# Notebook Imports"
   ]
  },
  {
   "cell_type": "code",
   "execution_count": 1,
   "id": "743b3168",
   "metadata": {},
   "outputs": [],
   "source": [
    "from os import walk\n",
    "from os.path import join\n",
    "\n",
    "import pandas as pd\n",
    "import numpy as np\n",
    "import matplotlib.pyplot as plt\n",
    "\n",
    "\n",
    "import nltk\n",
    "from nltk.stem import PorterStemmer\n",
    "from nltk.corpus import stopwords\n",
    "from nltk.tokenize import word_tokenize\n",
    "from nltk.stem import SnowballStemmer \n",
    "\n",
    "from bs4 import BeautifulSoup #to remove html tags in email\n",
    "\n",
    "from wordcloud import WordCloud\n",
    "\n",
    "\n",
    "%matplotlib inline\n"
   ]
  },
  {
   "cell_type": "markdown",
   "id": "3a21dd3a",
   "metadata": {},
   "source": [
    "## Constants"
   ]
  },
  {
   "cell_type": "code",
   "execution_count": 119,
   "id": "c5fba282",
   "metadata": {},
   "outputs": [],
   "source": [
    "example_file = \"practice_email.txt\"\n",
    "\n",
    "\n",
    "spam_1_path = \"C:\\\\SpamData\\\\01_Processing\\\\spam_assassin_corpus\\\\spam_1\"\n",
    "\n",
    "\n",
    "spam_2_path =  \"C:\\\\SpamData\\\\01_Processing\\\\spam_assassin_corpus\\\\spam_2\"\n",
    "\n",
    "easy_ham_1 = \"C:\\\\SpamData\\\\01_Processing\\\\spam_assassin_corpus\\\\easy_ham_1\"\n",
    "easy_ham_2 = \"C:\\\\SpamData\\\\01_Processing\\\\spam_assassin_corpus\\\\easy_ham_2\"\n",
    "\n",
    "\n",
    "#setting the categories\n",
    "spam_m = 1\n",
    "ham_m = 0\n",
    "\n",
    "data_json_file = \"C:\\\\SpamData\\\\01_Processing\\\\email-text-data.json\"\n",
    "word_id_file = \"C:\\\\SpamData\\\\01_Processing\\\\word_ids.csv\""
   ]
  },
  {
   "cell_type": "code",
   "execution_count": 3,
   "id": "8ed4abbc",
   "metadata": {},
   "outputs": [
    {
     "name": "stdout",
     "output_type": "stream",
     "text": [
      "From exmh-workers-admin@redhat.com  Thu Aug 22 12:36:23 2002\n",
      "Return-Path: <exmh-workers-admin@spamassassin.taint.org>\n",
      "Delivered-To: zzzz@localhost.netnoteinc.com\n",
      "Received: from localhost (localhost [127.0.0.1])\n",
      "\tby phobos.labs.netnoteinc.com (Postfix) with ESMTP id D03E543C36\n",
      "\tfor <zzzz@localhost>; Thu, 22 Aug 2002 07:36:16 -0400 (EDT)\n",
      "Received: from phobos [127.0.0.1]\n",
      "\tby localhost with IMAP (fetchmail-5.9.0)\n",
      "\tfor zzzz@localhost (single-drop); Thu, 22 Aug 2002 12:36:16 +0100 (IST)\n",
      "Received: from listman.spamassassin.taint.org (listman.spamassassin.taint.org [66.187.233.211]) by\n",
      "    dogma.slashnull.org (8.11.6/8.11.6) with ESMTP id g7MBYrZ04811 for\n",
      "    <zzzz-exmh@spamassassin.taint.org>; Thu, 22 Aug 2002 12:34:53 +0100\n",
      "Received: from listman.spamassassin.taint.org (localhost.localdomain [127.0.0.1]) by\n",
      "    listman.redhat.com (Postfix) with ESMTP id 8386540858; Thu, 22 Aug 2002\n",
      "    07:35:02 -0400 (EDT)\n",
      "Delivered-To: exmh-workers@listman.spamassassin.taint.org\n",
      "Received: from int-mx1.corp.spamassassin.taint.org (int-mx1.corp.spamassassin.taint.org\n",
      "    [172.16.52.254]) by listman.redhat.com (Postfix) with ESMTP id 10CF8406D7\n",
      "    for <exmh-workers@listman.redhat.com>; Thu, 22 Aug 2002 07:34:10 -0400\n",
      "    (EDT)\n",
      "Received: (from mail@localhost) by int-mx1.corp.spamassassin.taint.org (8.11.6/8.11.6)\n",
      "    id g7MBY7g11259 for exmh-workers@listman.redhat.com; Thu, 22 Aug 2002\n",
      "    07:34:07 -0400\n",
      "Received: from mx1.spamassassin.taint.org (mx1.spamassassin.taint.org [172.16.48.31]) by\n",
      "    int-mx1.corp.redhat.com (8.11.6/8.11.6) with SMTP id g7MBY7Y11255 for\n",
      "    <exmh-workers@redhat.com>; Thu, 22 Aug 2002 07:34:07 -0400\n",
      "Received: from ratree.psu.ac.th ([202.28.97.6]) by mx1.spamassassin.taint.org\n",
      "    (8.11.6/8.11.6) with SMTP id g7MBIhl25223 for <exmh-workers@redhat.com>;\n",
      "    Thu, 22 Aug 2002 07:18:55 -0400\n",
      "Received: from delta.cs.mu.OZ.AU (delta.coe.psu.ac.th [172.30.0.98]) by\n",
      "    ratree.psu.ac.th (8.11.6/8.11.6) with ESMTP id g7MBWel29762;\n",
      "    Thu, 22 Aug 2002 18:32:40 +0700 (ICT)\n",
      "Received: from munnari.OZ.AU (localhost [127.0.0.1]) by delta.cs.mu.OZ.AU\n",
      "    (8.11.6/8.11.6) with ESMTP id g7MBQPW13260; Thu, 22 Aug 2002 18:26:25\n",
      "    +0700 (ICT)\n",
      "From: Robert Elz <kre@munnari.OZ.AU>\n",
      "To: Chris Garrigues <cwg-dated-1030377287.06fa6d@DeepEddy.Com>\n",
      "Cc: exmh-workers@spamassassin.taint.org\n",
      "Subject: Re: New Sequences Window\n",
      "In-Reply-To: <1029945287.4797.TMDA@deepeddy.vircio.com>\n",
      "References: <1029945287.4797.TMDA@deepeddy.vircio.com>\n",
      "    <1029882468.3116.TMDA@deepeddy.vircio.com> <9627.1029933001@munnari.OZ.AU>\n",
      "    <1029943066.26919.TMDA@deepeddy.vircio.com>\n",
      "    <1029944441.398.TMDA@deepeddy.vircio.com>\n",
      "MIME-Version: 1.0\n",
      "Content-Type: text/plain; charset=us-ascii\n",
      "Message-Id: <13258.1030015585@munnari.OZ.AU>\n",
      "X-Loop: exmh-workers@spamassassin.taint.org\n",
      "Sender: exmh-workers-admin@spamassassin.taint.org\n",
      "Errors-To: exmh-workers-admin@spamassassin.taint.org\n",
      "X-Beenthere: exmh-workers@spamassassin.taint.org\n",
      "X-Mailman-Version: 2.0.1\n",
      "Precedence: bulk\n",
      "List-Help: <mailto:exmh-workers-request@spamassassin.taint.org?subject=help>\n",
      "List-Post: <mailto:exmh-workers@spamassassin.taint.org>\n",
      "List-Subscribe: <https://listman.spamassassin.taint.org/mailman/listinfo/exmh-workers>,\n",
      "    <mailto:exmh-workers-request@redhat.com?subject=subscribe>\n",
      "List-Id: Discussion list for EXMH developers <exmh-workers.spamassassin.taint.org>\n",
      "List-Unsubscribe: <https://listman.spamassassin.taint.org/mailman/listinfo/exmh-workers>,\n",
      "    <mailto:exmh-workers-request@redhat.com?subject=unsubscribe>\n",
      "List-Archive: <https://listman.spamassassin.taint.org/mailman/private/exmh-workers/>\n",
      "Date: Thu, 22 Aug 2002 18:26:25 +0700\n",
      "\n",
      "\n",
      "Dear Mr Still\n",
      "\n",
      "Good tidings to you and all your staff for the festive season ahead (Christmas).\n",
      "Now to the crux of the matter-in-hand: I am a fully qualified Santa Claus and am wondering whether you might consider me to run my own \"Santa's Grotto\" in your store.\n",
      "But WAIT! You're probably thinking: \"What makes him so special?\"\n",
      "Well, first of all, I have made several changes to the characterisation of Father Christmas. Rather than greeting the children with shouts of \"Ho, ho, ho!\" I prefer to whisper the phrase \"Dependence is not unfathomable in this cruel world we live in\". In addition, my gifts are ALL hand-made, ranging from felt hoops to vanilla-pod holders.\n",
      "You will note also, from the enclosed sketch, that I have radically redesigned Santa's outfit and have renamed my character \"Lord Buckles\". Would you be interested in employing me? I promise NEVER to let you down.\n",
      "I look forward to hearing from you.\n",
      "\n",
      "Best wishes\n",
      "Robin Cooper\n",
      "[Excerpt from the book: The Timewaster Letters by Robin Cooper]\n",
      "\n"
     ]
    }
   ],
   "source": [
    "stream = open(example_file, \"r\")\n",
    "message = stream.read()\n",
    "stream.close()\n",
    "\n",
    "print(message)"
   ]
  },
  {
   "cell_type": "code",
   "execution_count": 4,
   "id": "5e7d93c7",
   "metadata": {},
   "outputs": [
    {
     "name": "stdout",
     "output_type": "stream",
     "text": [
      "\n",
      "\n",
      "Dear Mr Still\n",
      "\n",
      "\n",
      "\n",
      "Good tidings to you and all your staff for the festive season ahead (Christmas).\n",
      "\n",
      "Now to the crux of the matter-in-hand: I am a fully qualified Santa Claus and am wondering whether you might consider me to run my own \"Santa's Grotto\" in your store.\n",
      "\n",
      "But WAIT! You're probably thinking: \"What makes him so special?\"\n",
      "\n",
      "Well, first of all, I have made several changes to the characterisation of Father Christmas. Rather than greeting the children with shouts of \"Ho, ho, ho!\" I prefer to whisper the phrase \"Dependence is not unfathomable in this cruel world we live in\". In addition, my gifts are ALL hand-made, ranging from felt hoops to vanilla-pod holders.\n",
      "\n",
      "You will note also, from the enclosed sketch, that I have radically redesigned Santa's outfit and have renamed my character \"Lord Buckles\". Would you be interested in employing me? I promise NEVER to let you down.\n",
      "\n",
      "I look forward to hearing from you.\n",
      "\n",
      "\n",
      "\n",
      "Best wishes\n",
      "\n",
      "Robin Cooper\n",
      "\n",
      "[Excerpt from the book: The Timewaster Letters by Robin Cooper]\n",
      "\n"
     ]
    }
   ],
   "source": [
    "stream = open(example_file,encoding='latin-1' )\n",
    "#creating a boolean variable\n",
    "is_body = False\n",
    "#lines list\n",
    "lines =[]\n",
    "\n",
    "for line in stream:\n",
    "    if is_body:\n",
    "        lines.append(line)\n",
    "    elif line == '\\n':\n",
    "        is_body = True\n",
    "\n",
    "stream.close()\n",
    "\n",
    "#to print the body line by line\n",
    "email_body = '\\n'.join(lines)\n",
    "print(email_body)\n",
    "\n"
   ]
  },
  {
   "cell_type": "code",
   "execution_count": 5,
   "id": "8d2631fb",
   "metadata": {},
   "outputs": [],
   "source": [
    "def generat_squares(x):\n",
    "    for my_num in range(x):\n",
    "        yield my_num **2"
   ]
  },
  {
   "cell_type": "code",
   "execution_count": 6,
   "id": "2ca8c161",
   "metadata": {},
   "outputs": [
    {
     "name": "stdout",
     "output_type": "stream",
     "text": [
      "0->1->4->9->16->25->36->49->64->81->"
     ]
    }
   ],
   "source": [
    "\n",
    "for i in generat_squares(10):\n",
    "    print(i, end='->')"
   ]
  },
  {
   "cell_type": "code",
   "execution_count": 7,
   "id": "67406f31",
   "metadata": {},
   "outputs": [],
   "source": [
    "def df_from_directory(path, classification):\n",
    "    rows = []\n",
    "    row_names = []\n",
    "    \n",
    "    for file_name, email_body in email_body_generator(path):\n",
    "        rows.append({'MESSAGE': email_body, 'CATEGORY': classification})\n",
    "        row_names.append(file_name)\n",
    "        \n",
    "    return pd.DataFrame(rows, index=row_names)\n"
   ]
  },
  {
   "cell_type": "code",
   "execution_count": 8,
   "id": "9ff08219",
   "metadata": {},
   "outputs": [],
   "source": [
    "def email_body_generator(path):\n",
    "    # Walk function will go from first to last in the corpus\n",
    "    for root, dirnames, filenames in walk(path):\n",
    "        for file_name in filenames:\n",
    "            filepath = join(root, file_name)\n",
    "            \n",
    "            stream = open(filepath, encoding='latin-1')\n",
    "            \n",
    "            # Creating a boolean variable\n",
    "            is_body = False\n",
    "            # Lines list\n",
    "            lines = []\n",
    "\n",
    "            for line in stream:\n",
    "                if is_body:\n",
    "                    lines.append(line)\n",
    "                elif line == '\\n':\n",
    "                    is_body = True\n",
    "\n",
    "            stream.close()\n",
    "\n",
    "            # To print the body line by line\n",
    "            email_body = '\\n'.join(lines)\n",
    "            \n",
    "            yield file_name, email_body\n"
   ]
  },
  {
   "cell_type": "code",
   "execution_count": 9,
   "id": "9055cb15",
   "metadata": {},
   "outputs": [
    {
     "data": {
      "text/html": [
       "<div>\n",
       "<style scoped>\n",
       "    .dataframe tbody tr th:only-of-type {\n",
       "        vertical-align: middle;\n",
       "    }\n",
       "\n",
       "    .dataframe tbody tr th {\n",
       "        vertical-align: top;\n",
       "    }\n",
       "\n",
       "    .dataframe thead th {\n",
       "        text-align: right;\n",
       "    }\n",
       "</style>\n",
       "<table border=\"1\" class=\"dataframe\">\n",
       "  <thead>\n",
       "    <tr style=\"text-align: right;\">\n",
       "      <th></th>\n",
       "      <th>MESSAGE</th>\n",
       "      <th>CATEGORY</th>\n",
       "    </tr>\n",
       "  </thead>\n",
       "  <tbody>\n",
       "    <tr>\n",
       "      <th>00001.7848dde101aa985090474a91ec93fcf0</th>\n",
       "      <td>&lt;!DOCTYPE HTML PUBLIC \"-//W3C//DTD HTML 4.0 Tr...</td>\n",
       "      <td>1</td>\n",
       "    </tr>\n",
       "    <tr>\n",
       "      <th>00002.d94f1b97e48ed3b553b3508d116e6a09</th>\n",
       "      <td>1) Fight The Risk of Cancer!\\n\\nhttp://www.adc...</td>\n",
       "      <td>1</td>\n",
       "    </tr>\n",
       "    <tr>\n",
       "      <th>00003.2ee33bc6eacdb11f38d052c44819ba6c</th>\n",
       "      <td>1) Fight The Risk of Cancer!\\n\\nhttp://www.adc...</td>\n",
       "      <td>1</td>\n",
       "    </tr>\n",
       "    <tr>\n",
       "      <th>00004.eac8de8d759b7e74154f142194282724</th>\n",
       "      <td>##############################################...</td>\n",
       "      <td>1</td>\n",
       "    </tr>\n",
       "    <tr>\n",
       "      <th>00005.57696a39d7d84318ce497886896bf90d</th>\n",
       "      <td>I thought you might like these:\\n\\n1) Slim Dow...</td>\n",
       "      <td>1</td>\n",
       "    </tr>\n",
       "  </tbody>\n",
       "</table>\n",
       "</div>"
      ],
      "text/plain": [
       "                                                                                  MESSAGE  \\\n",
       "00001.7848dde101aa985090474a91ec93fcf0  <!DOCTYPE HTML PUBLIC \"-//W3C//DTD HTML 4.0 Tr...   \n",
       "00002.d94f1b97e48ed3b553b3508d116e6a09  1) Fight The Risk of Cancer!\\n\\nhttp://www.adc...   \n",
       "00003.2ee33bc6eacdb11f38d052c44819ba6c  1) Fight The Risk of Cancer!\\n\\nhttp://www.adc...   \n",
       "00004.eac8de8d759b7e74154f142194282724  ##############################################...   \n",
       "00005.57696a39d7d84318ce497886896bf90d  I thought you might like these:\\n\\n1) Slim Dow...   \n",
       "\n",
       "                                        CATEGORY  \n",
       "00001.7848dde101aa985090474a91ec93fcf0         1  \n",
       "00002.d94f1b97e48ed3b553b3508d116e6a09         1  \n",
       "00003.2ee33bc6eacdb11f38d052c44819ba6c         1  \n",
       "00004.eac8de8d759b7e74154f142194282724         1  \n",
       "00005.57696a39d7d84318ce497886896bf90d         1  "
      ]
     },
     "execution_count": 9,
     "metadata": {},
     "output_type": "execute_result"
    }
   ],
   "source": [
    "spam_emails = df_from_directory(spam_1_path, 1)\n",
    "#concatinating the both emails s1 and s2\n",
    "spam_emails = spam_emails.append(df_from_directory(spam_2_path, 1))\n",
    "\n",
    "spam_emails.head()"
   ]
  },
  {
   "cell_type": "code",
   "execution_count": 10,
   "id": "02b74f2b",
   "metadata": {},
   "outputs": [
    {
     "data": {
      "text/plain": [
       "(1898, 2)"
      ]
     },
     "execution_count": 10,
     "metadata": {},
     "output_type": "execute_result"
    }
   ],
   "source": [
    "spam_emails.shape"
   ]
  },
  {
   "cell_type": "code",
   "execution_count": 11,
   "id": "ea4cc042",
   "metadata": {},
   "outputs": [
    {
     "data": {
      "text/html": [
       "<div>\n",
       "<style scoped>\n",
       "    .dataframe tbody tr th:only-of-type {\n",
       "        vertical-align: middle;\n",
       "    }\n",
       "\n",
       "    .dataframe tbody tr th {\n",
       "        vertical-align: top;\n",
       "    }\n",
       "\n",
       "    .dataframe thead th {\n",
       "        text-align: right;\n",
       "    }\n",
       "</style>\n",
       "<table border=\"1\" class=\"dataframe\">\n",
       "  <thead>\n",
       "    <tr style=\"text-align: right;\">\n",
       "      <th></th>\n",
       "      <th>MESSAGE</th>\n",
       "      <th>CATEGORY</th>\n",
       "    </tr>\n",
       "  </thead>\n",
       "  <tbody>\n",
       "    <tr>\n",
       "      <th>00001.7848dde101aa985090474a91ec93fcf0</th>\n",
       "      <td>&lt;!DOCTYPE HTML PUBLIC \"-//W3C//DTD HTML 4.0 Tr...</td>\n",
       "      <td>1</td>\n",
       "    </tr>\n",
       "    <tr>\n",
       "      <th>00002.d94f1b97e48ed3b553b3508d116e6a09</th>\n",
       "      <td>1) Fight The Risk of Cancer!\\n\\nhttp://www.adc...</td>\n",
       "      <td>1</td>\n",
       "    </tr>\n",
       "    <tr>\n",
       "      <th>00003.2ee33bc6eacdb11f38d052c44819ba6c</th>\n",
       "      <td>1) Fight The Risk of Cancer!\\n\\nhttp://www.adc...</td>\n",
       "      <td>1</td>\n",
       "    </tr>\n",
       "    <tr>\n",
       "      <th>00004.eac8de8d759b7e74154f142194282724</th>\n",
       "      <td>##############################################...</td>\n",
       "      <td>1</td>\n",
       "    </tr>\n",
       "    <tr>\n",
       "      <th>00005.57696a39d7d84318ce497886896bf90d</th>\n",
       "      <td>I thought you might like these:\\n\\n1) Slim Dow...</td>\n",
       "      <td>1</td>\n",
       "    </tr>\n",
       "  </tbody>\n",
       "</table>\n",
       "</div>"
      ],
      "text/plain": [
       "                                                                                  MESSAGE  \\\n",
       "00001.7848dde101aa985090474a91ec93fcf0  <!DOCTYPE HTML PUBLIC \"-//W3C//DTD HTML 4.0 Tr...   \n",
       "00002.d94f1b97e48ed3b553b3508d116e6a09  1) Fight The Risk of Cancer!\\n\\nhttp://www.adc...   \n",
       "00003.2ee33bc6eacdb11f38d052c44819ba6c  1) Fight The Risk of Cancer!\\n\\nhttp://www.adc...   \n",
       "00004.eac8de8d759b7e74154f142194282724  ##############################################...   \n",
       "00005.57696a39d7d84318ce497886896bf90d  I thought you might like these:\\n\\n1) Slim Dow...   \n",
       "\n",
       "                                        CATEGORY  \n",
       "00001.7848dde101aa985090474a91ec93fcf0         1  \n",
       "00002.d94f1b97e48ed3b553b3508d116e6a09         1  \n",
       "00003.2ee33bc6eacdb11f38d052c44819ba6c         1  \n",
       "00004.eac8de8d759b7e74154f142194282724         1  \n",
       "00005.57696a39d7d84318ce497886896bf90d         1  "
      ]
     },
     "execution_count": 11,
     "metadata": {},
     "output_type": "execute_result"
    }
   ],
   "source": [
    "ham_emails = df_from_directory(easy_ham_1, ham_m)\n",
    "#concatinating the both emails s1 and s2\n",
    "ham_emails = spam_emails.append(df_from_directory(easy_ham_2, ham_m))\n",
    "\n",
    "ham_emails.head()"
   ]
  },
  {
   "cell_type": "code",
   "execution_count": 12,
   "id": "2502e45f",
   "metadata": {},
   "outputs": [
    {
     "data": {
      "text/plain": [
       "(3298, 2)"
      ]
     },
     "execution_count": 12,
     "metadata": {},
     "output_type": "execute_result"
    }
   ],
   "source": [
    "ham_emails.shape"
   ]
  },
  {
   "cell_type": "code",
   "execution_count": 13,
   "id": "b23e13fa",
   "metadata": {},
   "outputs": [
    {
     "name": "stdout",
     "output_type": "stream",
     "text": [
      "Shape of entire dataframe is (5196, 2)\n"
     ]
    },
    {
     "data": {
      "text/html": [
       "<div>\n",
       "<style scoped>\n",
       "    .dataframe tbody tr th:only-of-type {\n",
       "        vertical-align: middle;\n",
       "    }\n",
       "\n",
       "    .dataframe tbody tr th {\n",
       "        vertical-align: top;\n",
       "    }\n",
       "\n",
       "    .dataframe thead th {\n",
       "        text-align: right;\n",
       "    }\n",
       "</style>\n",
       "<table border=\"1\" class=\"dataframe\">\n",
       "  <thead>\n",
       "    <tr style=\"text-align: right;\">\n",
       "      <th></th>\n",
       "      <th>MESSAGE</th>\n",
       "      <th>CATEGORY</th>\n",
       "    </tr>\n",
       "  </thead>\n",
       "  <tbody>\n",
       "    <tr>\n",
       "      <th>00001.7848dde101aa985090474a91ec93fcf0</th>\n",
       "      <td>&lt;!DOCTYPE HTML PUBLIC \"-//W3C//DTD HTML 4.0 Tr...</td>\n",
       "      <td>1</td>\n",
       "    </tr>\n",
       "    <tr>\n",
       "      <th>00002.d94f1b97e48ed3b553b3508d116e6a09</th>\n",
       "      <td>1) Fight The Risk of Cancer!\\n\\nhttp://www.adc...</td>\n",
       "      <td>1</td>\n",
       "    </tr>\n",
       "    <tr>\n",
       "      <th>00003.2ee33bc6eacdb11f38d052c44819ba6c</th>\n",
       "      <td>1) Fight The Risk of Cancer!\\n\\nhttp://www.adc...</td>\n",
       "      <td>1</td>\n",
       "    </tr>\n",
       "    <tr>\n",
       "      <th>00004.eac8de8d759b7e74154f142194282724</th>\n",
       "      <td>##############################################...</td>\n",
       "      <td>1</td>\n",
       "    </tr>\n",
       "    <tr>\n",
       "      <th>00005.57696a39d7d84318ce497886896bf90d</th>\n",
       "      <td>I thought you might like these:\\n\\n1) Slim Dow...</td>\n",
       "      <td>1</td>\n",
       "    </tr>\n",
       "  </tbody>\n",
       "</table>\n",
       "</div>"
      ],
      "text/plain": [
       "                                                                                  MESSAGE  \\\n",
       "00001.7848dde101aa985090474a91ec93fcf0  <!DOCTYPE HTML PUBLIC \"-//W3C//DTD HTML 4.0 Tr...   \n",
       "00002.d94f1b97e48ed3b553b3508d116e6a09  1) Fight The Risk of Cancer!\\n\\nhttp://www.adc...   \n",
       "00003.2ee33bc6eacdb11f38d052c44819ba6c  1) Fight The Risk of Cancer!\\n\\nhttp://www.adc...   \n",
       "00004.eac8de8d759b7e74154f142194282724  ##############################################...   \n",
       "00005.57696a39d7d84318ce497886896bf90d  I thought you might like these:\\n\\n1) Slim Dow...   \n",
       "\n",
       "                                        CATEGORY  \n",
       "00001.7848dde101aa985090474a91ec93fcf0         1  \n",
       "00002.d94f1b97e48ed3b553b3508d116e6a09         1  \n",
       "00003.2ee33bc6eacdb11f38d052c44819ba6c         1  \n",
       "00004.eac8de8d759b7e74154f142194282724         1  \n",
       "00005.57696a39d7d84318ce497886896bf90d         1  "
      ]
     },
     "execution_count": 13,
     "metadata": {},
     "output_type": "execute_result"
    }
   ],
   "source": [
    "\n",
    "data = pd.concat([spam_emails, ham_emails])\n",
    "print('Shape of entire dataframe is', data.shape)\n",
    "data.head()"
   ]
  },
  {
   "cell_type": "code",
   "execution_count": 14,
   "id": "25557a72",
   "metadata": {},
   "outputs": [
    {
     "data": {
      "text/html": [
       "<div>\n",
       "<style scoped>\n",
       "    .dataframe tbody tr th:only-of-type {\n",
       "        vertical-align: middle;\n",
       "    }\n",
       "\n",
       "    .dataframe tbody tr th {\n",
       "        vertical-align: top;\n",
       "    }\n",
       "\n",
       "    .dataframe thead th {\n",
       "        text-align: right;\n",
       "    }\n",
       "</style>\n",
       "<table border=\"1\" class=\"dataframe\">\n",
       "  <thead>\n",
       "    <tr style=\"text-align: right;\">\n",
       "      <th></th>\n",
       "      <th>MESSAGE</th>\n",
       "      <th>CATEGORY</th>\n",
       "    </tr>\n",
       "  </thead>\n",
       "  <tbody>\n",
       "    <tr>\n",
       "      <th>01396.61983fbe6ec43f55fd44e30fce24ffa6</th>\n",
       "      <td>http://news.bbc.co.uk/1/hi/england/2515127.stm...</td>\n",
       "      <td>0</td>\n",
       "    </tr>\n",
       "    <tr>\n",
       "      <th>01397.9f9ef4c2a8dc012d80f2ce2d3473d3b7</th>\n",
       "      <td>&gt; &gt;-- be careful when using this one.) Also, t...</td>\n",
       "      <td>0</td>\n",
       "    </tr>\n",
       "    <tr>\n",
       "      <th>01398.169b51731fe569f42169ae8f948ec676</th>\n",
       "      <td>&gt;&gt;&gt;&gt;&gt; \"SM\" == Skip Montanaro &lt;skip@pobox.com&gt; ...</td>\n",
       "      <td>0</td>\n",
       "    </tr>\n",
       "    <tr>\n",
       "      <th>01399.ca6b00b7b341bbde9a9ea3dd6a7bf896</th>\n",
       "      <td>So then, \"Mark Hammond\" &lt;mhammond@skippinet.co...</td>\n",
       "      <td>0</td>\n",
       "    </tr>\n",
       "    <tr>\n",
       "      <th>01400.f897f0931e461e7b2e964d28e927c35e</th>\n",
       "      <td>Hi there,\\n\\n\\n\\nNow this is probably of no us...</td>\n",
       "      <td>0</td>\n",
       "    </tr>\n",
       "  </tbody>\n",
       "</table>\n",
       "</div>"
      ],
      "text/plain": [
       "                                                                                  MESSAGE  \\\n",
       "01396.61983fbe6ec43f55fd44e30fce24ffa6  http://news.bbc.co.uk/1/hi/england/2515127.stm...   \n",
       "01397.9f9ef4c2a8dc012d80f2ce2d3473d3b7  > >-- be careful when using this one.) Also, t...   \n",
       "01398.169b51731fe569f42169ae8f948ec676  >>>>> \"SM\" == Skip Montanaro <skip@pobox.com> ...   \n",
       "01399.ca6b00b7b341bbde9a9ea3dd6a7bf896  So then, \"Mark Hammond\" <mhammond@skippinet.co...   \n",
       "01400.f897f0931e461e7b2e964d28e927c35e  Hi there,\\n\\n\\n\\nNow this is probably of no us...   \n",
       "\n",
       "                                        CATEGORY  \n",
       "01396.61983fbe6ec43f55fd44e30fce24ffa6         0  \n",
       "01397.9f9ef4c2a8dc012d80f2ce2d3473d3b7         0  \n",
       "01398.169b51731fe569f42169ae8f948ec676         0  \n",
       "01399.ca6b00b7b341bbde9a9ea3dd6a7bf896         0  \n",
       "01400.f897f0931e461e7b2e964d28e927c35e         0  "
      ]
     },
     "execution_count": 14,
     "metadata": {},
     "output_type": "execute_result"
    }
   ],
   "source": [
    "data.tail()"
   ]
  },
  {
   "cell_type": "code",
   "execution_count": 15,
   "id": "2b256227",
   "metadata": {},
   "outputs": [],
   "source": [
    "document_ids = range(0, len(data.index))\n",
    "data['DOC_ID'] = document_ids"
   ]
  },
  {
   "cell_type": "code",
   "execution_count": 16,
   "id": "b084859d",
   "metadata": {},
   "outputs": [
    {
     "data": {
      "text/plain": [
       "00001.7848dde101aa985090474a91ec93fcf0       0\n",
       "00002.d94f1b97e48ed3b553b3508d116e6a09       1\n",
       "00003.2ee33bc6eacdb11f38d052c44819ba6c       2\n",
       "00004.eac8de8d759b7e74154f142194282724       3\n",
       "00005.57696a39d7d84318ce497886896bf90d       4\n",
       "                                          ... \n",
       "01396.61983fbe6ec43f55fd44e30fce24ffa6    5191\n",
       "01397.9f9ef4c2a8dc012d80f2ce2d3473d3b7    5192\n",
       "01398.169b51731fe569f42169ae8f948ec676    5193\n",
       "01399.ca6b00b7b341bbde9a9ea3dd6a7bf896    5194\n",
       "01400.f897f0931e461e7b2e964d28e927c35e    5195\n",
       "Name: DOC_ID, Length: 5196, dtype: int64"
      ]
     },
     "execution_count": 16,
     "metadata": {},
     "output_type": "execute_result"
    }
   ],
   "source": [
    "data.DOC_ID\n"
   ]
  },
  {
   "cell_type": "code",
   "execution_count": 17,
   "id": "8c20a407",
   "metadata": {},
   "outputs": [
    {
     "data": {
      "text/html": [
       "<div>\n",
       "<style scoped>\n",
       "    .dataframe tbody tr th:only-of-type {\n",
       "        vertical-align: middle;\n",
       "    }\n",
       "\n",
       "    .dataframe tbody tr th {\n",
       "        vertical-align: top;\n",
       "    }\n",
       "\n",
       "    .dataframe thead th {\n",
       "        text-align: right;\n",
       "    }\n",
       "</style>\n",
       "<table border=\"1\" class=\"dataframe\">\n",
       "  <thead>\n",
       "    <tr style=\"text-align: right;\">\n",
       "      <th></th>\n",
       "      <th>MESSAGE</th>\n",
       "      <th>CATEGORY</th>\n",
       "      <th>DOC_ID</th>\n",
       "      <th>FILE_NAME</th>\n",
       "    </tr>\n",
       "  </thead>\n",
       "  <tbody>\n",
       "    <tr>\n",
       "      <th>00001.7848dde101aa985090474a91ec93fcf0</th>\n",
       "      <td>&lt;!DOCTYPE HTML PUBLIC \"-//W3C//DTD HTML 4.0 Tr...</td>\n",
       "      <td>1</td>\n",
       "      <td>0</td>\n",
       "      <td>00001.7848dde101aa985090474a91ec93fcf0</td>\n",
       "    </tr>\n",
       "    <tr>\n",
       "      <th>00002.d94f1b97e48ed3b553b3508d116e6a09</th>\n",
       "      <td>1) Fight The Risk of Cancer!\\n\\nhttp://www.adc...</td>\n",
       "      <td>1</td>\n",
       "      <td>1</td>\n",
       "      <td>00002.d94f1b97e48ed3b553b3508d116e6a09</td>\n",
       "    </tr>\n",
       "    <tr>\n",
       "      <th>00003.2ee33bc6eacdb11f38d052c44819ba6c</th>\n",
       "      <td>1) Fight The Risk of Cancer!\\n\\nhttp://www.adc...</td>\n",
       "      <td>1</td>\n",
       "      <td>2</td>\n",
       "      <td>00003.2ee33bc6eacdb11f38d052c44819ba6c</td>\n",
       "    </tr>\n",
       "    <tr>\n",
       "      <th>00004.eac8de8d759b7e74154f142194282724</th>\n",
       "      <td>##############################################...</td>\n",
       "      <td>1</td>\n",
       "      <td>3</td>\n",
       "      <td>00004.eac8de8d759b7e74154f142194282724</td>\n",
       "    </tr>\n",
       "    <tr>\n",
       "      <th>00005.57696a39d7d84318ce497886896bf90d</th>\n",
       "      <td>I thought you might like these:\\n\\n1) Slim Dow...</td>\n",
       "      <td>1</td>\n",
       "      <td>4</td>\n",
       "      <td>00005.57696a39d7d84318ce497886896bf90d</td>\n",
       "    </tr>\n",
       "  </tbody>\n",
       "</table>\n",
       "</div>"
      ],
      "text/plain": [
       "                                                                                  MESSAGE  \\\n",
       "00001.7848dde101aa985090474a91ec93fcf0  <!DOCTYPE HTML PUBLIC \"-//W3C//DTD HTML 4.0 Tr...   \n",
       "00002.d94f1b97e48ed3b553b3508d116e6a09  1) Fight The Risk of Cancer!\\n\\nhttp://www.adc...   \n",
       "00003.2ee33bc6eacdb11f38d052c44819ba6c  1) Fight The Risk of Cancer!\\n\\nhttp://www.adc...   \n",
       "00004.eac8de8d759b7e74154f142194282724  ##############################################...   \n",
       "00005.57696a39d7d84318ce497886896bf90d  I thought you might like these:\\n\\n1) Slim Dow...   \n",
       "\n",
       "                                        CATEGORY  DOC_ID  \\\n",
       "00001.7848dde101aa985090474a91ec93fcf0         1       0   \n",
       "00002.d94f1b97e48ed3b553b3508d116e6a09         1       1   \n",
       "00003.2ee33bc6eacdb11f38d052c44819ba6c         1       2   \n",
       "00004.eac8de8d759b7e74154f142194282724         1       3   \n",
       "00005.57696a39d7d84318ce497886896bf90d         1       4   \n",
       "\n",
       "                                                                     FILE_NAME  \n",
       "00001.7848dde101aa985090474a91ec93fcf0  00001.7848dde101aa985090474a91ec93fcf0  \n",
       "00002.d94f1b97e48ed3b553b3508d116e6a09  00002.d94f1b97e48ed3b553b3508d116e6a09  \n",
       "00003.2ee33bc6eacdb11f38d052c44819ba6c  00003.2ee33bc6eacdb11f38d052c44819ba6c  \n",
       "00004.eac8de8d759b7e74154f142194282724  00004.eac8de8d759b7e74154f142194282724  \n",
       "00005.57696a39d7d84318ce497886896bf90d  00005.57696a39d7d84318ce497886896bf90d  "
      ]
     },
     "execution_count": 17,
     "metadata": {},
     "output_type": "execute_result"
    }
   ],
   "source": [
    "data['FILE_NAME']=data.index\n",
    "data.head()"
   ]
  },
  {
   "cell_type": "code",
   "execution_count": 18,
   "id": "d54b1b79",
   "metadata": {},
   "outputs": [
    {
     "data": {
      "text/html": [
       "<div>\n",
       "<style scoped>\n",
       "    .dataframe tbody tr th:only-of-type {\n",
       "        vertical-align: middle;\n",
       "    }\n",
       "\n",
       "    .dataframe tbody tr th {\n",
       "        vertical-align: top;\n",
       "    }\n",
       "\n",
       "    .dataframe thead th {\n",
       "        text-align: right;\n",
       "    }\n",
       "</style>\n",
       "<table border=\"1\" class=\"dataframe\">\n",
       "  <thead>\n",
       "    <tr style=\"text-align: right;\">\n",
       "      <th></th>\n",
       "      <th>MESSAGE</th>\n",
       "      <th>CATEGORY</th>\n",
       "      <th>DOC_ID</th>\n",
       "      <th>FILE_NAME</th>\n",
       "    </tr>\n",
       "  </thead>\n",
       "  <tbody>\n",
       "    <tr>\n",
       "      <th>01396.61983fbe6ec43f55fd44e30fce24ffa6</th>\n",
       "      <td>http://news.bbc.co.uk/1/hi/england/2515127.stm...</td>\n",
       "      <td>0</td>\n",
       "      <td>5191</td>\n",
       "      <td>01396.61983fbe6ec43f55fd44e30fce24ffa6</td>\n",
       "    </tr>\n",
       "    <tr>\n",
       "      <th>01397.9f9ef4c2a8dc012d80f2ce2d3473d3b7</th>\n",
       "      <td>&gt; &gt;-- be careful when using this one.) Also, t...</td>\n",
       "      <td>0</td>\n",
       "      <td>5192</td>\n",
       "      <td>01397.9f9ef4c2a8dc012d80f2ce2d3473d3b7</td>\n",
       "    </tr>\n",
       "    <tr>\n",
       "      <th>01398.169b51731fe569f42169ae8f948ec676</th>\n",
       "      <td>&gt;&gt;&gt;&gt;&gt; \"SM\" == Skip Montanaro &lt;skip@pobox.com&gt; ...</td>\n",
       "      <td>0</td>\n",
       "      <td>5193</td>\n",
       "      <td>01398.169b51731fe569f42169ae8f948ec676</td>\n",
       "    </tr>\n",
       "    <tr>\n",
       "      <th>01399.ca6b00b7b341bbde9a9ea3dd6a7bf896</th>\n",
       "      <td>So then, \"Mark Hammond\" &lt;mhammond@skippinet.co...</td>\n",
       "      <td>0</td>\n",
       "      <td>5194</td>\n",
       "      <td>01399.ca6b00b7b341bbde9a9ea3dd6a7bf896</td>\n",
       "    </tr>\n",
       "    <tr>\n",
       "      <th>01400.f897f0931e461e7b2e964d28e927c35e</th>\n",
       "      <td>Hi there,\\n\\n\\n\\nNow this is probably of no us...</td>\n",
       "      <td>0</td>\n",
       "      <td>5195</td>\n",
       "      <td>01400.f897f0931e461e7b2e964d28e927c35e</td>\n",
       "    </tr>\n",
       "  </tbody>\n",
       "</table>\n",
       "</div>"
      ],
      "text/plain": [
       "                                                                                  MESSAGE  \\\n",
       "01396.61983fbe6ec43f55fd44e30fce24ffa6  http://news.bbc.co.uk/1/hi/england/2515127.stm...   \n",
       "01397.9f9ef4c2a8dc012d80f2ce2d3473d3b7  > >-- be careful when using this one.) Also, t...   \n",
       "01398.169b51731fe569f42169ae8f948ec676  >>>>> \"SM\" == Skip Montanaro <skip@pobox.com> ...   \n",
       "01399.ca6b00b7b341bbde9a9ea3dd6a7bf896  So then, \"Mark Hammond\" <mhammond@skippinet.co...   \n",
       "01400.f897f0931e461e7b2e964d28e927c35e  Hi there,\\n\\n\\n\\nNow this is probably of no us...   \n",
       "\n",
       "                                        CATEGORY  DOC_ID  \\\n",
       "01396.61983fbe6ec43f55fd44e30fce24ffa6         0    5191   \n",
       "01397.9f9ef4c2a8dc012d80f2ce2d3473d3b7         0    5192   \n",
       "01398.169b51731fe569f42169ae8f948ec676         0    5193   \n",
       "01399.ca6b00b7b341bbde9a9ea3dd6a7bf896         0    5194   \n",
       "01400.f897f0931e461e7b2e964d28e927c35e         0    5195   \n",
       "\n",
       "                                                                     FILE_NAME  \n",
       "01396.61983fbe6ec43f55fd44e30fce24ffa6  01396.61983fbe6ec43f55fd44e30fce24ffa6  \n",
       "01397.9f9ef4c2a8dc012d80f2ce2d3473d3b7  01397.9f9ef4c2a8dc012d80f2ce2d3473d3b7  \n",
       "01398.169b51731fe569f42169ae8f948ec676  01398.169b51731fe569f42169ae8f948ec676  \n",
       "01399.ca6b00b7b341bbde9a9ea3dd6a7bf896  01399.ca6b00b7b341bbde9a9ea3dd6a7bf896  \n",
       "01400.f897f0931e461e7b2e964d28e927c35e  01400.f897f0931e461e7b2e964d28e927c35e  "
      ]
     },
     "execution_count": 18,
     "metadata": {},
     "output_type": "execute_result"
    }
   ],
   "source": [
    "data.tail()"
   ]
  },
  {
   "cell_type": "code",
   "execution_count": 19,
   "id": "178a72b8",
   "metadata": {},
   "outputs": [],
   "source": [
    "data = data.reindex(columns=['DOC_ID','CATEGORY','MESSAGE', 'FILE_NAME'] + list(data.columns.drop(['DOC_ID','CATEGORY','MESSAGE', 'FILE_NAME'])))\n"
   ]
  },
  {
   "cell_type": "code",
   "execution_count": null,
   "id": "a1b57a79",
   "metadata": {},
   "outputs": [],
   "source": []
  },
  {
   "cell_type": "code",
   "execution_count": null,
   "id": "7de1d88b",
   "metadata": {},
   "outputs": [],
   "source": []
  },
  {
   "cell_type": "code",
   "execution_count": 20,
   "id": "d28f178f",
   "metadata": {},
   "outputs": [
    {
     "data": {
      "text/html": [
       "<div>\n",
       "<style scoped>\n",
       "    .dataframe tbody tr th:only-of-type {\n",
       "        vertical-align: middle;\n",
       "    }\n",
       "\n",
       "    .dataframe tbody tr th {\n",
       "        vertical-align: top;\n",
       "    }\n",
       "\n",
       "    .dataframe thead th {\n",
       "        text-align: right;\n",
       "    }\n",
       "</style>\n",
       "<table border=\"1\" class=\"dataframe\">\n",
       "  <thead>\n",
       "    <tr style=\"text-align: right;\">\n",
       "      <th></th>\n",
       "      <th>DOC_ID</th>\n",
       "      <th>CATEGORY</th>\n",
       "      <th>MESSAGE</th>\n",
       "      <th>FILE_NAME</th>\n",
       "    </tr>\n",
       "  </thead>\n",
       "  <tbody>\n",
       "    <tr>\n",
       "      <th>00001.7848dde101aa985090474a91ec93fcf0</th>\n",
       "      <td>0</td>\n",
       "      <td>1</td>\n",
       "      <td>&lt;!DOCTYPE HTML PUBLIC \"-//W3C//DTD HTML 4.0 Tr...</td>\n",
       "      <td>00001.7848dde101aa985090474a91ec93fcf0</td>\n",
       "    </tr>\n",
       "    <tr>\n",
       "      <th>00002.d94f1b97e48ed3b553b3508d116e6a09</th>\n",
       "      <td>1</td>\n",
       "      <td>1</td>\n",
       "      <td>1) Fight The Risk of Cancer!\\n\\nhttp://www.adc...</td>\n",
       "      <td>00002.d94f1b97e48ed3b553b3508d116e6a09</td>\n",
       "    </tr>\n",
       "    <tr>\n",
       "      <th>00003.2ee33bc6eacdb11f38d052c44819ba6c</th>\n",
       "      <td>2</td>\n",
       "      <td>1</td>\n",
       "      <td>1) Fight The Risk of Cancer!\\n\\nhttp://www.adc...</td>\n",
       "      <td>00003.2ee33bc6eacdb11f38d052c44819ba6c</td>\n",
       "    </tr>\n",
       "    <tr>\n",
       "      <th>00004.eac8de8d759b7e74154f142194282724</th>\n",
       "      <td>3</td>\n",
       "      <td>1</td>\n",
       "      <td>##############################################...</td>\n",
       "      <td>00004.eac8de8d759b7e74154f142194282724</td>\n",
       "    </tr>\n",
       "    <tr>\n",
       "      <th>00005.57696a39d7d84318ce497886896bf90d</th>\n",
       "      <td>4</td>\n",
       "      <td>1</td>\n",
       "      <td>I thought you might like these:\\n\\n1) Slim Dow...</td>\n",
       "      <td>00005.57696a39d7d84318ce497886896bf90d</td>\n",
       "    </tr>\n",
       "  </tbody>\n",
       "</table>\n",
       "</div>"
      ],
      "text/plain": [
       "                                        DOC_ID  CATEGORY  \\\n",
       "00001.7848dde101aa985090474a91ec93fcf0       0         1   \n",
       "00002.d94f1b97e48ed3b553b3508d116e6a09       1         1   \n",
       "00003.2ee33bc6eacdb11f38d052c44819ba6c       2         1   \n",
       "00004.eac8de8d759b7e74154f142194282724       3         1   \n",
       "00005.57696a39d7d84318ce497886896bf90d       4         1   \n",
       "\n",
       "                                                                                  MESSAGE  \\\n",
       "00001.7848dde101aa985090474a91ec93fcf0  <!DOCTYPE HTML PUBLIC \"-//W3C//DTD HTML 4.0 Tr...   \n",
       "00002.d94f1b97e48ed3b553b3508d116e6a09  1) Fight The Risk of Cancer!\\n\\nhttp://www.adc...   \n",
       "00003.2ee33bc6eacdb11f38d052c44819ba6c  1) Fight The Risk of Cancer!\\n\\nhttp://www.adc...   \n",
       "00004.eac8de8d759b7e74154f142194282724  ##############################################...   \n",
       "00005.57696a39d7d84318ce497886896bf90d  I thought you might like these:\\n\\n1) Slim Dow...   \n",
       "\n",
       "                                                                     FILE_NAME  \n",
       "00001.7848dde101aa985090474a91ec93fcf0  00001.7848dde101aa985090474a91ec93fcf0  \n",
       "00002.d94f1b97e48ed3b553b3508d116e6a09  00002.d94f1b97e48ed3b553b3508d116e6a09  \n",
       "00003.2ee33bc6eacdb11f38d052c44819ba6c  00003.2ee33bc6eacdb11f38d052c44819ba6c  \n",
       "00004.eac8de8d759b7e74154f142194282724  00004.eac8de8d759b7e74154f142194282724  \n",
       "00005.57696a39d7d84318ce497886896bf90d  00005.57696a39d7d84318ce497886896bf90d  "
      ]
     },
     "execution_count": 20,
     "metadata": {},
     "output_type": "execute_result"
    }
   ],
   "source": [
    "data.head()"
   ]
  },
  {
   "cell_type": "code",
   "execution_count": null,
   "id": "8c658455",
   "metadata": {},
   "outputs": [],
   "source": []
  },
  {
   "cell_type": "code",
   "execution_count": 21,
   "id": "0cec1884",
   "metadata": {},
   "outputs": [
    {
     "data": {
      "text/plain": [
       "(5196, 4)"
      ]
     },
     "execution_count": 21,
     "metadata": {},
     "output_type": "execute_result"
    }
   ],
   "source": [
    "data.shape"
   ]
  },
  {
   "cell_type": "markdown",
   "id": "f53ef797",
   "metadata": {},
   "source": [
    "## Removing file entries from dataframe"
   ]
  },
  {
   "cell_type": "code",
   "execution_count": null,
   "id": "78c9ad1b",
   "metadata": {},
   "outputs": [],
   "source": []
  },
  {
   "cell_type": "code",
   "execution_count": 22,
   "id": "da1181dd",
   "metadata": {},
   "outputs": [
    {
     "data": {
      "text/plain": [
       "(5196, 4)"
      ]
     },
     "execution_count": 22,
     "metadata": {},
     "output_type": "execute_result"
    }
   ],
   "source": [
    "data.shape"
   ]
  },
  {
   "cell_type": "code",
   "execution_count": 23,
   "id": "3a308c56",
   "metadata": {},
   "outputs": [
    {
     "name": "stdout",
     "output_type": "stream",
     "text": [
      "Shape of entire dataframe is (5196, 4)\n"
     ]
    }
   ],
   "source": [
    "print('Shape of entire dataframe is', data.shape)\n"
   ]
  },
  {
   "cell_type": "code",
   "execution_count": 24,
   "id": "264646be",
   "metadata": {},
   "outputs": [
    {
     "data": {
      "text/html": [
       "<div>\n",
       "<style scoped>\n",
       "    .dataframe tbody tr th:only-of-type {\n",
       "        vertical-align: middle;\n",
       "    }\n",
       "\n",
       "    .dataframe tbody tr th {\n",
       "        vertical-align: top;\n",
       "    }\n",
       "\n",
       "    .dataframe thead th {\n",
       "        text-align: right;\n",
       "    }\n",
       "</style>\n",
       "<table border=\"1\" class=\"dataframe\">\n",
       "  <thead>\n",
       "    <tr style=\"text-align: right;\">\n",
       "      <th></th>\n",
       "      <th>DOC_ID</th>\n",
       "      <th>CATEGORY</th>\n",
       "      <th>MESSAGE</th>\n",
       "      <th>FILE_NAME</th>\n",
       "    </tr>\n",
       "  </thead>\n",
       "  <tbody>\n",
       "    <tr>\n",
       "      <th>00001.7848dde101aa985090474a91ec93fcf0</th>\n",
       "      <td>0</td>\n",
       "      <td>1</td>\n",
       "      <td>&lt;!DOCTYPE HTML PUBLIC \"-//W3C//DTD HTML 4.0 Tr...</td>\n",
       "      <td>00001.7848dde101aa985090474a91ec93fcf0</td>\n",
       "    </tr>\n",
       "    <tr>\n",
       "      <th>00002.d94f1b97e48ed3b553b3508d116e6a09</th>\n",
       "      <td>1</td>\n",
       "      <td>1</td>\n",
       "      <td>1) Fight The Risk of Cancer!\\n\\nhttp://www.adc...</td>\n",
       "      <td>00002.d94f1b97e48ed3b553b3508d116e6a09</td>\n",
       "    </tr>\n",
       "    <tr>\n",
       "      <th>00003.2ee33bc6eacdb11f38d052c44819ba6c</th>\n",
       "      <td>2</td>\n",
       "      <td>1</td>\n",
       "      <td>1) Fight The Risk of Cancer!\\n\\nhttp://www.adc...</td>\n",
       "      <td>00003.2ee33bc6eacdb11f38d052c44819ba6c</td>\n",
       "    </tr>\n",
       "    <tr>\n",
       "      <th>00004.eac8de8d759b7e74154f142194282724</th>\n",
       "      <td>3</td>\n",
       "      <td>1</td>\n",
       "      <td>##############################################...</td>\n",
       "      <td>00004.eac8de8d759b7e74154f142194282724</td>\n",
       "    </tr>\n",
       "    <tr>\n",
       "      <th>00005.57696a39d7d84318ce497886896bf90d</th>\n",
       "      <td>4</td>\n",
       "      <td>1</td>\n",
       "      <td>I thought you might like these:\\n\\n1) Slim Dow...</td>\n",
       "      <td>00005.57696a39d7d84318ce497886896bf90d</td>\n",
       "    </tr>\n",
       "  </tbody>\n",
       "</table>\n",
       "</div>"
      ],
      "text/plain": [
       "                                        DOC_ID  CATEGORY  \\\n",
       "00001.7848dde101aa985090474a91ec93fcf0       0         1   \n",
       "00002.d94f1b97e48ed3b553b3508d116e6a09       1         1   \n",
       "00003.2ee33bc6eacdb11f38d052c44819ba6c       2         1   \n",
       "00004.eac8de8d759b7e74154f142194282724       3         1   \n",
       "00005.57696a39d7d84318ce497886896bf90d       4         1   \n",
       "\n",
       "                                                                                  MESSAGE  \\\n",
       "00001.7848dde101aa985090474a91ec93fcf0  <!DOCTYPE HTML PUBLIC \"-//W3C//DTD HTML 4.0 Tr...   \n",
       "00002.d94f1b97e48ed3b553b3508d116e6a09  1) Fight The Risk of Cancer!\\n\\nhttp://www.adc...   \n",
       "00003.2ee33bc6eacdb11f38d052c44819ba6c  1) Fight The Risk of Cancer!\\n\\nhttp://www.adc...   \n",
       "00004.eac8de8d759b7e74154f142194282724  ##############################################...   \n",
       "00005.57696a39d7d84318ce497886896bf90d  I thought you might like these:\\n\\n1) Slim Dow...   \n",
       "\n",
       "                                                                     FILE_NAME  \n",
       "00001.7848dde101aa985090474a91ec93fcf0  00001.7848dde101aa985090474a91ec93fcf0  \n",
       "00002.d94f1b97e48ed3b553b3508d116e6a09  00002.d94f1b97e48ed3b553b3508d116e6a09  \n",
       "00003.2ee33bc6eacdb11f38d052c44819ba6c  00003.2ee33bc6eacdb11f38d052c44819ba6c  \n",
       "00004.eac8de8d759b7e74154f142194282724  00004.eac8de8d759b7e74154f142194282724  \n",
       "00005.57696a39d7d84318ce497886896bf90d  00005.57696a39d7d84318ce497886896bf90d  "
      ]
     },
     "execution_count": 24,
     "metadata": {},
     "output_type": "execute_result"
    }
   ],
   "source": [
    "data.head()"
   ]
  },
  {
   "cell_type": "code",
   "execution_count": 25,
   "id": "5bb9be95",
   "metadata": {},
   "outputs": [],
   "source": [
    "data = data.set_index('DOC_ID')\n"
   ]
  },
  {
   "cell_type": "code",
   "execution_count": 26,
   "id": "3d932b42",
   "metadata": {},
   "outputs": [
    {
     "data": {
      "text/html": [
       "<div>\n",
       "<style scoped>\n",
       "    .dataframe tbody tr th:only-of-type {\n",
       "        vertical-align: middle;\n",
       "    }\n",
       "\n",
       "    .dataframe tbody tr th {\n",
       "        vertical-align: top;\n",
       "    }\n",
       "\n",
       "    .dataframe thead th {\n",
       "        text-align: right;\n",
       "    }\n",
       "</style>\n",
       "<table border=\"1\" class=\"dataframe\">\n",
       "  <thead>\n",
       "    <tr style=\"text-align: right;\">\n",
       "      <th></th>\n",
       "      <th>CATEGORY</th>\n",
       "      <th>MESSAGE</th>\n",
       "      <th>FILE_NAME</th>\n",
       "    </tr>\n",
       "    <tr>\n",
       "      <th>DOC_ID</th>\n",
       "      <th></th>\n",
       "      <th></th>\n",
       "      <th></th>\n",
       "    </tr>\n",
       "  </thead>\n",
       "  <tbody>\n",
       "    <tr>\n",
       "      <th>5191</th>\n",
       "      <td>0</td>\n",
       "      <td>http://news.bbc.co.uk/1/hi/england/2515127.stm...</td>\n",
       "      <td>01396.61983fbe6ec43f55fd44e30fce24ffa6</td>\n",
       "    </tr>\n",
       "    <tr>\n",
       "      <th>5192</th>\n",
       "      <td>0</td>\n",
       "      <td>&gt; &gt;-- be careful when using this one.) Also, t...</td>\n",
       "      <td>01397.9f9ef4c2a8dc012d80f2ce2d3473d3b7</td>\n",
       "    </tr>\n",
       "    <tr>\n",
       "      <th>5193</th>\n",
       "      <td>0</td>\n",
       "      <td>&gt;&gt;&gt;&gt;&gt; \"SM\" == Skip Montanaro &lt;skip@pobox.com&gt; ...</td>\n",
       "      <td>01398.169b51731fe569f42169ae8f948ec676</td>\n",
       "    </tr>\n",
       "    <tr>\n",
       "      <th>5194</th>\n",
       "      <td>0</td>\n",
       "      <td>So then, \"Mark Hammond\" &lt;mhammond@skippinet.co...</td>\n",
       "      <td>01399.ca6b00b7b341bbde9a9ea3dd6a7bf896</td>\n",
       "    </tr>\n",
       "    <tr>\n",
       "      <th>5195</th>\n",
       "      <td>0</td>\n",
       "      <td>Hi there,\\n\\n\\n\\nNow this is probably of no us...</td>\n",
       "      <td>01400.f897f0931e461e7b2e964d28e927c35e</td>\n",
       "    </tr>\n",
       "  </tbody>\n",
       "</table>\n",
       "</div>"
      ],
      "text/plain": [
       "        CATEGORY                                            MESSAGE  \\\n",
       "DOC_ID                                                                \n",
       "5191           0  http://news.bbc.co.uk/1/hi/england/2515127.stm...   \n",
       "5192           0  > >-- be careful when using this one.) Also, t...   \n",
       "5193           0  >>>>> \"SM\" == Skip Montanaro <skip@pobox.com> ...   \n",
       "5194           0  So then, \"Mark Hammond\" <mhammond@skippinet.co...   \n",
       "5195           0  Hi there,\\n\\n\\n\\nNow this is probably of no us...   \n",
       "\n",
       "                                     FILE_NAME  \n",
       "DOC_ID                                          \n",
       "5191    01396.61983fbe6ec43f55fd44e30fce24ffa6  \n",
       "5192    01397.9f9ef4c2a8dc012d80f2ce2d3473d3b7  \n",
       "5193    01398.169b51731fe569f42169ae8f948ec676  \n",
       "5194    01399.ca6b00b7b341bbde9a9ea3dd6a7bf896  \n",
       "5195    01400.f897f0931e461e7b2e964d28e927c35e  "
      ]
     },
     "execution_count": 26,
     "metadata": {},
     "output_type": "execute_result"
    }
   ],
   "source": [
    "data.tail()"
   ]
  },
  {
   "cell_type": "markdown",
   "id": "7a81f8b3",
   "metadata": {},
   "source": [
    "## Save to file using pandas"
   ]
  },
  {
   "cell_type": "code",
   "execution_count": 27,
   "id": "aa587b73",
   "metadata": {},
   "outputs": [],
   "source": [
    "data.to_json(data_json_file)"
   ]
  },
  {
   "cell_type": "markdown",
   "id": "94a19d46",
   "metadata": {},
   "source": [
    "## Number of spam messages visualised(Pie Charts)"
   ]
  },
  {
   "cell_type": "code",
   "execution_count": 28,
   "id": "b5bd0a3b",
   "metadata": {},
   "outputs": [
    {
     "data": {
      "text/plain": [
       "1    3796\n",
       "0    1400\n",
       "Name: CATEGORY, dtype: int64"
      ]
     },
     "execution_count": 28,
     "metadata": {},
     "output_type": "execute_result"
    }
   ],
   "source": [
    "data.CATEGORY.value_counts()"
   ]
  },
  {
   "cell_type": "code",
   "execution_count": 29,
   "id": "07293ac7",
   "metadata": {},
   "outputs": [],
   "source": [
    "amount_of_spam = data.CATEGORY.value_counts()[0]\n",
    "amount_of_ham = data.CATEGORY.value_counts()[1]"
   ]
  },
  {
   "cell_type": "code",
   "execution_count": 30,
   "id": "6793387b",
   "metadata": {},
   "outputs": [
    {
     "data": {
      "image/png": "[encoded data removed]",
      "text/plain": [
       "<Figure size 454x454 with 1 Axes>"
      ]
     },
     "metadata": {},
     "output_type": "display_data"
    }
   ],
   "source": [
    "category_names = ['Spam', 'Legit Mail']\n",
    "sizes = [amount_of_spam, amount_of_ham]\n",
    "\n",
    "custom_colours=['#25CCF7', '#FC427B']\n",
    "plt.figure(figsize=(2,2), dpi=227)\n",
    "plt.pie(sizes, labels=category_names, textprops={'fontsize': 6}, startangle = 90,\n",
    "       autopct='%1.1f%%',colors=custom_colours,explode=[0,0.122])\n",
    "plt.show()"
   ]
  },
  {
   "cell_type": "code",
   "execution_count": 31,
   "id": "91423091",
   "metadata": {},
   "outputs": [
    {
     "data": {
      "image/png": "[encoded data removed]",
      "text/plain": [
       "<Figure size 454x454 with 1 Axes>"
      ]
     },
     "metadata": {},
     "output_type": "display_data"
    }
   ],
   "source": [
    "category_names = ['Spam', 'Legit Mail']\n",
    "sizes = [amount_of_spam, amount_of_ham]\n",
    "\n",
    "custom_colours=['#25CCF7', '#FC427B']\n",
    "plt.figure(figsize=(2,2), dpi=227)\n",
    "plt.pie(sizes, labels=category_names, textprops={'fontsize': 6}, startangle = 90,\n",
    "       autopct='%1.1f%%',colors=custom_colours, pctdistance=0.8)\n",
    "\n",
    "#draw circle in the piechart\n",
    "centre_circle = plt.Circle((0,0),radius=0.6,fc='white')\n",
    "plt.gca().add_artist(centre_circle)\n",
    "plt.show()"
   ]
  },
  {
   "cell_type": "code",
   "execution_count": 32,
   "id": "5869e357",
   "metadata": {},
   "outputs": [
    {
     "data": {
      "image/png": "[encoded data removed]",
      "text/plain": [
       "<Figure size 454x454 with 1 Axes>"
      ]
     },
     "metadata": {},
     "output_type": "display_data"
    }
   ],
   "source": [
    "category_names = ['Spam', 'Legit Mail','Updates','Promotions']\n",
    "sizes = [25, 43, 19, 22]\n",
    "custom_colours=['#25CCF7', '#FC427B', '#9AECDB', '#F97F51']\n",
    "\n",
    "offset = [0.05, 0.05, 0.05,0.05]\n",
    "\n",
    "plt.figure(figsize=(2,2), dpi=227)\n",
    "plt.pie(sizes, labels=category_names, textprops={'fontsize': 6}, startangle = 90,\n",
    "         autopct='%1.1f%%',colors=custom_colours, pctdistance=0.8, explode=offset)\n",
    "\n",
    "#draw circle in the piechart\n",
    "centre_circle = plt.Circle((0,0),radius=0.6,fc='white')\n",
    "plt.gca().add_artist(centre_circle)\n",
    "plt.show()"
   ]
  },
  {
   "cell_type": "markdown",
   "id": "6d85c2cd",
   "metadata": {},
   "source": [
    "# Natural Language Processing\n",
    "\n",
    "## Text Pre-Processing"
   ]
  },
  {
   "cell_type": "code",
   "execution_count": 33,
   "id": "eab8e9c9",
   "metadata": {},
   "outputs": [
    {
     "data": {
      "text/plain": [
       "'all work an no play makes jack a dull boy.'"
      ]
     },
     "execution_count": 33,
     "metadata": {},
     "output_type": "execute_result"
    }
   ],
   "source": [
    "#converting to lower case #nltk for all nlp functions \n",
    "\n",
    "msg = 'All work an no play makes jack a dull boy.'\n",
    "msg.lower()"
   ]
  },
  {
   "cell_type": "markdown",
   "id": "e1b6c870",
   "metadata": {},
   "source": [
    "## Downloading the NLTK Resourse(Tolkenizer & Stopwords)"
   ]
  },
  {
   "cell_type": "code",
   "execution_count": 34,
   "id": "13148811",
   "metadata": {},
   "outputs": [
    {
     "name": "stderr",
     "output_type": "stream",
     "text": [
      "[nltk_data] Downloading package punkt to\n",
      "[nltk_data]     C:\\Users\\sajid\\AppData\\Roaming\\nltk_data...\n",
      "[nltk_data]   Package punkt is already up-to-date!\n"
     ]
    },
    {
     "data": {
      "text/plain": [
       "True"
      ]
     },
     "execution_count": 34,
     "metadata": {},
     "output_type": "execute_result"
    }
   ],
   "source": [
    "#downloading package\n",
    "nltk.download('punkt')"
   ]
  },
  {
   "cell_type": "code",
   "execution_count": 35,
   "id": "4a9b84c5",
   "metadata": {},
   "outputs": [
    {
     "name": "stderr",
     "output_type": "stream",
     "text": [
      "[nltk_data] Downloading package stopwords to\n",
      "[nltk_data]     C:\\Users\\sajid\\AppData\\Roaming\\nltk_data...\n",
      "[nltk_data]   Package stopwords is already up-to-date!\n"
     ]
    },
    {
     "data": {
      "text/plain": [
       "True"
      ]
     },
     "execution_count": 35,
     "metadata": {},
     "output_type": "execute_result"
    }
   ],
   "source": [
    "nltk.download('stopwords')"
   ]
  },
  {
   "cell_type": "markdown",
   "id": "3baad4e0",
   "metadata": {},
   "source": [
    "# Removing Stop words"
   ]
  },
  {
   "cell_type": "code",
   "execution_count": 36,
   "id": "cbc743bf",
   "metadata": {},
   "outputs": [
    {
     "data": {
      "text/plain": [
       "['i',\n",
       " 'me',\n",
       " 'my',\n",
       " 'myself',\n",
       " 'we',\n",
       " 'our',\n",
       " 'ours',\n",
       " 'ourselves',\n",
       " 'you',\n",
       " \"you're\",\n",
       " \"you've\",\n",
       " \"you'll\",\n",
       " \"you'd\",\n",
       " 'your',\n",
       " 'yours',\n",
       " 'yourself',\n",
       " 'yourselves',\n",
       " 'he',\n",
       " 'him',\n",
       " 'his',\n",
       " 'himself',\n",
       " 'she',\n",
       " \"she's\",\n",
       " 'her',\n",
       " 'hers',\n",
       " 'herself',\n",
       " 'it',\n",
       " \"it's\",\n",
       " 'its',\n",
       " 'itself',\n",
       " 'they',\n",
       " 'them',\n",
       " 'their',\n",
       " 'theirs',\n",
       " 'themselves',\n",
       " 'what',\n",
       " 'which',\n",
       " 'who',\n",
       " 'whom',\n",
       " 'this',\n",
       " 'that',\n",
       " \"that'll\",\n",
       " 'these',\n",
       " 'those',\n",
       " 'am',\n",
       " 'is',\n",
       " 'are',\n",
       " 'was',\n",
       " 'were',\n",
       " 'be',\n",
       " 'been',\n",
       " 'being',\n",
       " 'have',\n",
       " 'has',\n",
       " 'had',\n",
       " 'having',\n",
       " 'do',\n",
       " 'does',\n",
       " 'did',\n",
       " 'doing',\n",
       " 'a',\n",
       " 'an',\n",
       " 'the',\n",
       " 'and',\n",
       " 'but',\n",
       " 'if',\n",
       " 'or',\n",
       " 'because',\n",
       " 'as',\n",
       " 'until',\n",
       " 'while',\n",
       " 'of',\n",
       " 'at',\n",
       " 'by',\n",
       " 'for',\n",
       " 'with',\n",
       " 'about',\n",
       " 'against',\n",
       " 'between',\n",
       " 'into',\n",
       " 'through',\n",
       " 'during',\n",
       " 'before',\n",
       " 'after',\n",
       " 'above',\n",
       " 'below',\n",
       " 'to',\n",
       " 'from',\n",
       " 'up',\n",
       " 'down',\n",
       " 'in',\n",
       " 'out',\n",
       " 'on',\n",
       " 'off',\n",
       " 'over',\n",
       " 'under',\n",
       " 'again',\n",
       " 'further',\n",
       " 'then',\n",
       " 'once',\n",
       " 'here',\n",
       " 'there',\n",
       " 'when',\n",
       " 'where',\n",
       " 'why',\n",
       " 'how',\n",
       " 'all',\n",
       " 'any',\n",
       " 'both',\n",
       " 'each',\n",
       " 'few',\n",
       " 'more',\n",
       " 'most',\n",
       " 'other',\n",
       " 'some',\n",
       " 'such',\n",
       " 'no',\n",
       " 'nor',\n",
       " 'not',\n",
       " 'only',\n",
       " 'own',\n",
       " 'same',\n",
       " 'so',\n",
       " 'than',\n",
       " 'too',\n",
       " 'very',\n",
       " 's',\n",
       " 't',\n",
       " 'can',\n",
       " 'will',\n",
       " 'just',\n",
       " 'don',\n",
       " \"don't\",\n",
       " 'should',\n",
       " \"should've\",\n",
       " 'now',\n",
       " 'd',\n",
       " 'll',\n",
       " 'm',\n",
       " 'o',\n",
       " 're',\n",
       " 've',\n",
       " 'y',\n",
       " 'ain',\n",
       " 'aren',\n",
       " \"aren't\",\n",
       " 'couldn',\n",
       " \"couldn't\",\n",
       " 'didn',\n",
       " \"didn't\",\n",
       " 'doesn',\n",
       " \"doesn't\",\n",
       " 'hadn',\n",
       " \"hadn't\",\n",
       " 'hasn',\n",
       " \"hasn't\",\n",
       " 'haven',\n",
       " \"haven't\",\n",
       " 'isn',\n",
       " \"isn't\",\n",
       " 'ma',\n",
       " 'mightn',\n",
       " \"mightn't\",\n",
       " 'mustn',\n",
       " \"mustn't\",\n",
       " 'needn',\n",
       " \"needn't\",\n",
       " 'shan',\n",
       " \"shan't\",\n",
       " 'shouldn',\n",
       " \"shouldn't\",\n",
       " 'wasn',\n",
       " \"wasn't\",\n",
       " 'weren',\n",
       " \"weren't\",\n",
       " 'won',\n",
       " \"won't\",\n",
       " 'wouldn',\n",
       " \"wouldn't\"]"
      ]
     },
     "execution_count": 36,
     "metadata": {},
     "output_type": "execute_result"
    }
   ],
   "source": [
    "stopwords.words('english')"
   ]
  },
  {
   "cell_type": "code",
   "execution_count": 37,
   "id": "9b13a8e8",
   "metadata": {},
   "outputs": [
    {
     "data": {
      "text/plain": [
       "list"
      ]
     },
     "execution_count": 37,
     "metadata": {},
     "output_type": "execute_result"
    }
   ],
   "source": [
    "type(stopwords.words('english'))"
   ]
  },
  {
   "cell_type": "code",
   "execution_count": 38,
   "id": "8f568705",
   "metadata": {},
   "outputs": [],
   "source": [
    "stop_words = set(stopwords.words('english'))"
   ]
  },
  {
   "cell_type": "code",
   "execution_count": 39,
   "id": "f911cf70",
   "metadata": {},
   "outputs": [
    {
     "data": {
      "text/plain": [
       "set"
      ]
     },
     "execution_count": 39,
     "metadata": {},
     "output_type": "execute_result"
    }
   ],
   "source": [
    "type(stop_words)"
   ]
  },
  {
   "cell_type": "code",
   "execution_count": null,
   "id": "511d4ea2",
   "metadata": {},
   "outputs": [],
   "source": []
  },
  {
   "cell_type": "code",
   "execution_count": null,
   "id": "80e50d73",
   "metadata": {},
   "outputs": [],
   "source": []
  },
  {
   "cell_type": "markdown",
   "id": "ab6dd124",
   "metadata": {},
   "source": [
    "## Tokensing"
   ]
  },
  {
   "cell_type": "code",
   "execution_count": 40,
   "id": "8159675a",
   "metadata": {},
   "outputs": [
    {
     "data": {
      "text/plain": [
       "['salmon', 'is', 'a', 'fish', 'all', 'fishes', 'are', 'not', 's', 'almon']"
      ]
     },
     "execution_count": 40,
     "metadata": {},
     "output_type": "execute_result"
    }
   ],
   "source": [
    "msg = 'Salmon is a fish all fishes are not S almon'\n",
    "word_tokenize(msg.lower())"
   ]
  },
  {
   "cell_type": "code",
   "execution_count": 41,
   "id": "cc6a2d4d",
   "metadata": {},
   "outputs": [
    {
     "name": "stdout",
     "output_type": "stream",
     "text": [
      "Fount it!\n"
     ]
    }
   ],
   "source": [
    "if 'this' in stop_words: \n",
    "    print('Fount it!')"
   ]
  },
  {
   "cell_type": "code",
   "execution_count": 42,
   "id": "cb41ddeb",
   "metadata": {},
   "outputs": [
    {
     "name": "stdout",
     "output_type": "stream",
     "text": [
      "Not here!\n"
     ]
    }
   ],
   "source": [
    "if 'play' not in stop_words: \n",
    "    print('Not here!')\n",
    "else:\n",
    "    print('its here')"
   ]
  },
  {
   "cell_type": "code",
   "execution_count": 43,
   "id": "6622af3c",
   "metadata": {},
   "outputs": [
    {
     "name": "stdout",
     "output_type": "stream",
     "text": [
      "['works', 'play', 'makes', 'jack', 'dull', 'boy', '.', '.']\n"
     ]
    }
   ],
   "source": [
    "msg = 'ALL works and no play makes jack a dull boy. To be or not to be.'\n",
    "words = word_tokenize(msg.lower())\n",
    "\n",
    "stop_words = set(stopwords.words('english'))\n",
    "\n",
    "\n",
    "\n",
    "\n",
    "filtered_words = []\n",
    "for word in words:\n",
    "    if word not in stop_words:\n",
    "        filtered_words.append(word)\n",
    "\n",
    "print(filtered_words)"
   ]
  },
  {
   "cell_type": "markdown",
   "id": "5f6b25b4",
   "metadata": {},
   "source": [
    "## Word Stemming "
   ]
  },
  {
   "cell_type": "code",
   "execution_count": 44,
   "id": "1468cc18",
   "metadata": {},
   "outputs": [],
   "source": [
    "# fishing, fisher, fishlike = fish\n"
   ]
  },
  {
   "cell_type": "code",
   "execution_count": null,
   "id": "0fb2a46a",
   "metadata": {},
   "outputs": [],
   "source": []
  },
  {
   "cell_type": "code",
   "execution_count": 45,
   "id": "bbfe96c4",
   "metadata": {},
   "outputs": [
    {
     "name": "stdout",
     "output_type": "stream",
     "text": [
      "['work', 'play', 'make', 'jack', 'dull', 'boy', '.', '.', 'nobodi', 'expect', 'spanish', 'inquisit']\n"
     ]
    }
   ],
   "source": [
    "\n",
    "\n",
    "msg = 'ALL works and no play makes jack a dull boy. To be or not to be. Nobody expects the Spanish Inquisition'\n",
    "words = word_tokenize(msg.lower())\n",
    "\n",
    "stop_words = set(stopwords.words('english'))\n",
    "\n",
    "stemmer = SnowballStemmer('english')\n",
    "\n",
    "filtered_words = []\n",
    "\n",
    "for word in words:\n",
    "    if word not in stop_words:\n",
    "        stemmed_word = stemmer.stem(word)\n",
    "        filtered_words.append(stemmed_word)\n",
    "\n",
    "print(filtered_words)\n"
   ]
  },
  {
   "cell_type": "markdown",
   "id": "60355d21",
   "metadata": {},
   "source": [
    "## Removing Punctuation"
   ]
  },
  {
   "cell_type": "code",
   "execution_count": 46,
   "id": "451a8dd3",
   "metadata": {},
   "outputs": [
    {
     "data": {
      "text/plain": [
       "True"
      ]
     },
     "execution_count": 46,
     "metadata": {},
     "output_type": "execute_result"
    }
   ],
   "source": [
    "'p'.isalpha()"
   ]
  },
  {
   "cell_type": "code",
   "execution_count": 47,
   "id": "f34bb773",
   "metadata": {},
   "outputs": [
    {
     "data": {
      "text/plain": [
       "False"
      ]
     },
     "execution_count": 47,
     "metadata": {},
     "output_type": "execute_result"
    }
   ],
   "source": [
    "'?'.isalpha()"
   ]
  },
  {
   "cell_type": "markdown",
   "id": "633615e9",
   "metadata": {},
   "source": [
    "# Removing HTML tags from emails"
   ]
  },
  {
   "cell_type": "code",
   "execution_count": 48,
   "id": "7fc5ebe6",
   "metadata": {},
   "outputs": [
    {
     "data": {
      "text/plain": [
       "\"1) Fight The Risk of Cancer!\\n\\nhttp://www.adclick.ws/p.cfm?o=315&s=pk007\\n\\n\\n\\n2) Slim Down - Guaranteed to lose 10-12 lbs in 30 days\\n\\nhttp://www.adclick.ws/p.cfm?o=249&s=pk007\\n\\n\\n\\n3) Get the Child Support You Deserve - Free Legal Advice\\n\\nhttp://www.adclick.ws/p.cfm?o=245&s=pk002\\n\\n\\n\\n4) Join the Web's Fastest Growing Singles Community\\n\\nhttp://www.adclick.ws/p.cfm?o=259&s=pk007\\n\\n\\n\\n5) Start Your Private Photo Album Online!\\n\\nhttp://www.adclick.ws/p.cfm?o=283&s=pk007\\n\\n\\n\\nHave a Wonderful Day,\\n\\nOffer Manager\\n\\nPrizeMama\\n\\n\\n\\n\\n\\n\\n\\n\\n\\n\\n\\n\\n\\n\\n\\n\\n\\n\\n\\n\\n\\n\\n\\n\\n\\n\\n\\nIf you wish to leave this list please use the link below.\\n\\nhttp://www.qves.com/trim/?zzzz@spamassassin.taint.org%7C17%7C308417\\n\\n\\n\""
      ]
     },
     "execution_count": 48,
     "metadata": {},
     "output_type": "execute_result"
    }
   ],
   "source": [
    "data.at[2, 'MESSAGE']"
   ]
  },
  {
   "cell_type": "code",
   "execution_count": 49,
   "id": "7248f77a",
   "metadata": {},
   "outputs": [
    {
     "name": "stdout",
     "output_type": "stream",
     "text": [
      "1) Fight The Risk of Cancer!\n",
      "\n",
      "http://www.adclick.ws/p.cfm?o=315&amp;s=pk007\n",
      "\n",
      "\n",
      "\n",
      "2) Slim Down - Guaranteed to lose 10-12 lbs in 30 days\n",
      "\n",
      "http://www.adclick.ws/p.cfm?o=249&amp;s=pk007\n",
      "\n",
      "\n",
      "\n",
      "3) Get the Child Support You Deserve - Free Legal Advice\n",
      "\n",
      "http://www.adclick.ws/p.cfm?o=245&amp;s=pk002\n",
      "\n",
      "\n",
      "\n",
      "4) Join the Web's Fastest Growing Singles Community\n",
      "\n",
      "http://www.adclick.ws/p.cfm?o=259&amp;s=pk007\n",
      "\n",
      "\n",
      "\n",
      "5) Start Your Private Photo Album Online!\n",
      "\n",
      "http://www.adclick.ws/p.cfm?o=283&amp;s=pk007\n",
      "\n",
      "\n",
      "\n",
      "Have a Wonderful Day,\n",
      "\n",
      "Offer Manager\n",
      "\n",
      "PrizeMama\n",
      "\n",
      "\n",
      "\n",
      "\n",
      "\n",
      "\n",
      "\n",
      "\n",
      "\n",
      "\n",
      "\n",
      "\n",
      "\n",
      "\n",
      "\n",
      "\n",
      "\n",
      "\n",
      "\n",
      "\n",
      "\n",
      "\n",
      "\n",
      "\n",
      "\n",
      "\n",
      "\n",
      "If you wish to leave this list please use the link below.\n",
      "\n",
      "http://www.qves.com/trim/?zzzz@spamassassin.taint.org%7C17%7C308417\n",
      "\n"
     ]
    }
   ],
   "source": [
    "#importing BeautifulSoup\n",
    "#\n",
    "soup = BeautifulSoup(data.at[2, 'MESSAGE'], 'html.parser')\n",
    "print(soup.prettify())\n"
   ]
  },
  {
   "cell_type": "code",
   "execution_count": 50,
   "id": "5c75c259",
   "metadata": {},
   "outputs": [
    {
     "data": {
      "text/plain": [
       "\"1) Fight The Risk of Cancer!\\n\\nhttp://www.adclick.ws/p.cfm?o=315&s=pk007\\n\\n\\n\\n2) Slim Down - Guaranteed to lose 10-12 lbs in 30 days\\n\\nhttp://www.adclick.ws/p.cfm?o=249&s=pk007\\n\\n\\n\\n3) Get the Child Support You Deserve - Free Legal Advice\\n\\nhttp://www.adclick.ws/p.cfm?o=245&s=pk002\\n\\n\\n\\n4) Join the Web's Fastest Growing Singles Community\\n\\nhttp://www.adclick.ws/p.cfm?o=259&s=pk007\\n\\n\\n\\n5) Start Your Private Photo Album Online!\\n\\nhttp://www.adclick.ws/p.cfm?o=283&s=pk007\\n\\n\\n\\nHave a Wonderful Day,\\n\\nOffer Manager\\n\\nPrizeMama\\n\\n\\n\\n\\n\\n\\n\\n\\n\\n\\n\\n\\n\\n\\n\\n\\n\\n\\n\\n\\n\\n\\n\\n\\n\\n\\n\\nIf you wish to leave this list please use the link below.\\n\\nhttp://www.qves.com/trim/?zzzz@spamassassin.taint.org%7C17%7C308417\\n\\n\\n\""
      ]
     },
     "execution_count": 50,
     "metadata": {},
     "output_type": "execute_result"
    }
   ],
   "source": [
    "#all the html tags are removed from the email\n",
    "soup.get_text()"
   ]
  },
  {
   "cell_type": "markdown",
   "id": "0bd19de1",
   "metadata": {},
   "source": [
    "# Creating a Function for email processing"
   ]
  },
  {
   "cell_type": "code",
   "execution_count": 51,
   "id": "0e392d05",
   "metadata": {},
   "outputs": [],
   "source": [
    "def clean_message(message, stemmer=PorterStemmer(), stop_words=set(stopwords.words('english'))):\n",
    "     \n",
    "                  \n",
    "    #converting to lower case and splits up the words\n",
    "    \n",
    "    words = word_tokenize(message.lower())\n",
    "                  \n",
    "    filtered_words = []\n",
    "    \n",
    "    for word in words:\n",
    "        #removes the stop words and punctuation\n",
    "        if word not in stop_words and word.isalpha():\n",
    "            filtered_words.append(stemmer.stem(word))\n",
    "                  \n",
    "    return filtered_words\n",
    "    "
   ]
  },
  {
   "cell_type": "code",
   "execution_count": 52,
   "id": "e25263ca",
   "metadata": {},
   "outputs": [
    {
     "data": {
      "text/plain": [
       "['dear',\n",
       " 'mr',\n",
       " 'still',\n",
       " 'good',\n",
       " 'tide',\n",
       " 'staff',\n",
       " 'festiv',\n",
       " 'season',\n",
       " 'ahead',\n",
       " 'christma',\n",
       " 'crux',\n",
       " 'fulli',\n",
       " 'qualifi',\n",
       " 'santa',\n",
       " 'clau',\n",
       " 'wonder',\n",
       " 'whether',\n",
       " 'might',\n",
       " 'consid',\n",
       " 'run',\n",
       " 'santa',\n",
       " 'grotto',\n",
       " 'store',\n",
       " 'wait',\n",
       " 'probabl',\n",
       " 'think',\n",
       " 'make',\n",
       " 'special',\n",
       " 'well',\n",
       " 'first',\n",
       " 'made',\n",
       " 'sever',\n",
       " 'chang',\n",
       " 'characteris',\n",
       " 'father',\n",
       " 'christma',\n",
       " 'rather',\n",
       " 'greet',\n",
       " 'children',\n",
       " 'shout',\n",
       " 'ho',\n",
       " 'ho',\n",
       " 'ho',\n",
       " 'prefer',\n",
       " 'whisper',\n",
       " 'phrase',\n",
       " 'depend',\n",
       " 'unfathom',\n",
       " 'cruel',\n",
       " 'world',\n",
       " 'live',\n",
       " 'addit',\n",
       " 'gift',\n",
       " 'rang',\n",
       " 'felt',\n",
       " 'hoop',\n",
       " 'holder',\n",
       " 'note',\n",
       " 'also',\n",
       " 'enclos',\n",
       " 'sketch',\n",
       " 'radic',\n",
       " 'redesign',\n",
       " 'santa',\n",
       " 'outfit',\n",
       " 'renam',\n",
       " 'charact',\n",
       " 'lord',\n",
       " 'buckl',\n",
       " 'would',\n",
       " 'interest',\n",
       " 'employ',\n",
       " 'promis',\n",
       " 'never',\n",
       " 'let',\n",
       " 'look',\n",
       " 'forward',\n",
       " 'hear',\n",
       " 'best',\n",
       " 'wish',\n",
       " 'robin',\n",
       " 'cooper',\n",
       " 'excerpt',\n",
       " 'book',\n",
       " 'timewast',\n",
       " 'letter',\n",
       " 'robin',\n",
       " 'cooper']"
      ]
     },
     "execution_count": 52,
     "metadata": {},
     "output_type": "execute_result"
    }
   ],
   "source": [
    "clean_message(email_body)"
   ]
  },
  {
   "cell_type": "code",
   "execution_count": 92,
   "id": "6af43bd4",
   "metadata": {},
   "outputs": [],
   "source": [
    "def clean_msg_no_html_tags(message, stemmer=PorterStemmer(), stop_words=set(stopwords.words('english'))):\n",
    "     \n",
    "        \n",
    "    #remove HTML tags\n",
    "    soup = BeautifulSoup(message, 'html.parser')\n",
    "    cleaned_text = soup.get_text()\n",
    "                  \n",
    "    #converting to lower case and splits up the words\n",
    "    \n",
    "    words = word_tokenize(cleaned_text.lower())\n",
    "                  \n",
    "    filtered_words = []\n",
    "    \n",
    "    for word in words:\n",
    "        #removes the stop words and punctuation\n",
    "        if word not in stop_words and word.isalpha():\n",
    "            filtered_words.append(stemmer.stem(word))\n",
    "#            filtered_words.append(word)\n",
    "                  \n",
    "    return filtered_words\n",
    "    "
   ]
  },
  {
   "cell_type": "code",
   "execution_count": 54,
   "id": "10339876",
   "metadata": {},
   "outputs": [
    {
     "data": {
      "text/plain": [
       "['fight',\n",
       " 'risk',\n",
       " 'cancer',\n",
       " 'http',\n",
       " 'slim',\n",
       " 'guarante',\n",
       " 'lose',\n",
       " 'lb',\n",
       " 'day',\n",
       " 'http',\n",
       " 'get',\n",
       " 'child',\n",
       " 'support',\n",
       " 'deserv',\n",
       " 'free',\n",
       " 'legal',\n",
       " 'advic',\n",
       " 'http',\n",
       " 'join',\n",
       " 'web',\n",
       " 'fastest',\n",
       " 'grow',\n",
       " 'singl',\n",
       " 'commun',\n",
       " 'http',\n",
       " 'start',\n",
       " 'privat',\n",
       " 'photo',\n",
       " 'album',\n",
       " 'onlin',\n",
       " 'http',\n",
       " 'wonder',\n",
       " 'day',\n",
       " 'offer',\n",
       " 'manag',\n",
       " 'prizemama',\n",
       " 'wish',\n",
       " 'leav',\n",
       " 'list',\n",
       " 'pleas',\n",
       " 'use',\n",
       " 'link',\n",
       " 'http',\n",
       " 'zzzz']"
      ]
     },
     "execution_count": 54,
     "metadata": {},
     "output_type": "execute_result"
    }
   ],
   "source": [
    "clean_msg_no_html_tags(data.at[2, 'MESSAGE'])"
   ]
  },
  {
   "cell_type": "markdown",
   "id": "ecaf595d",
   "metadata": {},
   "source": [
    "# Apply Cleaning and Tokenisation to all message \n",
    "  \n",
    "### Slicing Dataframes and Series & Creating Subset"
   ]
  },
  {
   "cell_type": "code",
   "execution_count": 55,
   "id": "f9f71ef9",
   "metadata": {},
   "outputs": [
    {
     "data": {
      "text/plain": [
       "\"1) Fight The Risk of Cancer!\\n\\nhttp://www.adclick.ws/p.cfm?o=315&s=pk007\\n\\n\\n\\n2) Slim Down - Guaranteed to lose 10-12 lbs in 30 days\\n\\nhttp://www.adclick.ws/p.cfm?o=249&s=pk007\\n\\n\\n\\n3) Get the Child Support You Deserve - Free Legal Advice\\n\\nhttp://www.adclick.ws/p.cfm?o=245&s=pk002\\n\\n\\n\\n4) Join the Web's Fastest Growing Singles Community\\n\\nhttp://www.adclick.ws/p.cfm?o=259&s=pk007\\n\\n\\n\\n5) Start Your Private Photo Album Online!\\n\\nhttp://www.adclick.ws/p.cfm?o=283&s=pk007\\n\\n\\n\\nHave a Wonderful Day,\\n\\nOffer Manager\\n\\nPrizeMama\\n\\n\\n\\n\\n\\n\\n\\n\\n\\n\\n\\n\\n\\n\\n\\n\\n\\n\\n\\n\\n\\n\\n\\n\\n\\n\\n\\nIf you wish to leave this list please use the link below.\\n\\nhttp://www.qves.com/trim/?zzzz@spamassassin.taint.org%7C17%7C308417\\n\\n\\n\""
      ]
     },
     "execution_count": 55,
     "metadata": {},
     "output_type": "execute_result"
    }
   ],
   "source": [
    "#selecting a particular value\n",
    "data.iat[2,1]"
   ]
  },
  {
   "cell_type": "code",
   "execution_count": 56,
   "id": "1e6f2744",
   "metadata": {},
   "outputs": [
    {
     "data": {
      "text/html": [
       "<div>\n",
       "<style scoped>\n",
       "    .dataframe tbody tr th:only-of-type {\n",
       "        vertical-align: middle;\n",
       "    }\n",
       "\n",
       "    .dataframe tbody tr th {\n",
       "        vertical-align: top;\n",
       "    }\n",
       "\n",
       "    .dataframe thead th {\n",
       "        text-align: right;\n",
       "    }\n",
       "</style>\n",
       "<table border=\"1\" class=\"dataframe\">\n",
       "  <thead>\n",
       "    <tr style=\"text-align: right;\">\n",
       "      <th></th>\n",
       "      <th>CATEGORY</th>\n",
       "      <th>MESSAGE</th>\n",
       "      <th>FILE_NAME</th>\n",
       "    </tr>\n",
       "    <tr>\n",
       "      <th>DOC_ID</th>\n",
       "      <th></th>\n",
       "      <th></th>\n",
       "      <th></th>\n",
       "    </tr>\n",
       "  </thead>\n",
       "  <tbody>\n",
       "    <tr>\n",
       "      <th>0</th>\n",
       "      <td>1</td>\n",
       "      <td>&lt;!DOCTYPE HTML PUBLIC \"-//W3C//DTD HTML 4.0 Tr...</td>\n",
       "      <td>00001.7848dde101aa985090474a91ec93fcf0</td>\n",
       "    </tr>\n",
       "    <tr>\n",
       "      <th>1</th>\n",
       "      <td>1</td>\n",
       "      <td>1) Fight The Risk of Cancer!\\n\\nhttp://www.adc...</td>\n",
       "      <td>00002.d94f1b97e48ed3b553b3508d116e6a09</td>\n",
       "    </tr>\n",
       "    <tr>\n",
       "      <th>2</th>\n",
       "      <td>1</td>\n",
       "      <td>1) Fight The Risk of Cancer!\\n\\nhttp://www.adc...</td>\n",
       "      <td>00003.2ee33bc6eacdb11f38d052c44819ba6c</td>\n",
       "    </tr>\n",
       "    <tr>\n",
       "      <th>3</th>\n",
       "      <td>1</td>\n",
       "      <td>##############################################...</td>\n",
       "      <td>00004.eac8de8d759b7e74154f142194282724</td>\n",
       "    </tr>\n",
       "    <tr>\n",
       "      <th>4</th>\n",
       "      <td>1</td>\n",
       "      <td>I thought you might like these:\\n\\n1) Slim Dow...</td>\n",
       "      <td>00005.57696a39d7d84318ce497886896bf90d</td>\n",
       "    </tr>\n",
       "  </tbody>\n",
       "</table>\n",
       "</div>"
      ],
      "text/plain": [
       "        CATEGORY                                            MESSAGE  \\\n",
       "DOC_ID                                                                \n",
       "0              1  <!DOCTYPE HTML PUBLIC \"-//W3C//DTD HTML 4.0 Tr...   \n",
       "1              1  1) Fight The Risk of Cancer!\\n\\nhttp://www.adc...   \n",
       "2              1  1) Fight The Risk of Cancer!\\n\\nhttp://www.adc...   \n",
       "3              1  ##############################################...   \n",
       "4              1  I thought you might like these:\\n\\n1) Slim Dow...   \n",
       "\n",
       "                                     FILE_NAME  \n",
       "DOC_ID                                          \n",
       "0       00001.7848dde101aa985090474a91ec93fcf0  \n",
       "1       00002.d94f1b97e48ed3b553b3508d116e6a09  \n",
       "2       00003.2ee33bc6eacdb11f38d052c44819ba6c  \n",
       "3       00004.eac8de8d759b7e74154f142194282724  \n",
       "4       00005.57696a39d7d84318ce497886896bf90d  "
      ]
     },
     "execution_count": 56,
     "metadata": {},
     "output_type": "execute_result"
    }
   ],
   "source": [
    "data.iloc[0:5]"
   ]
  },
  {
   "cell_type": "code",
   "execution_count": 57,
   "id": "5ab4c6dc",
   "metadata": {},
   "outputs": [
    {
     "data": {
      "text/html": [
       "<div>\n",
       "<style scoped>\n",
       "    .dataframe tbody tr th:only-of-type {\n",
       "        vertical-align: middle;\n",
       "    }\n",
       "\n",
       "    .dataframe tbody tr th {\n",
       "        vertical-align: top;\n",
       "    }\n",
       "\n",
       "    .dataframe thead th {\n",
       "        text-align: right;\n",
       "    }\n",
       "</style>\n",
       "<table border=\"1\" class=\"dataframe\">\n",
       "  <thead>\n",
       "    <tr style=\"text-align: right;\">\n",
       "      <th></th>\n",
       "      <th>CATEGORY</th>\n",
       "      <th>MESSAGE</th>\n",
       "      <th>FILE_NAME</th>\n",
       "    </tr>\n",
       "    <tr>\n",
       "      <th>DOC_ID</th>\n",
       "      <th></th>\n",
       "      <th></th>\n",
       "      <th></th>\n",
       "    </tr>\n",
       "  </thead>\n",
       "  <tbody>\n",
       "    <tr>\n",
       "      <th>5</th>\n",
       "      <td>1</td>\n",
       "      <td>A POWERHOUSE GIFTING PROGRAM You Don't Want To...</td>\n",
       "      <td>00006.5ab5620d3d7c6c0db76234556a16f6c1</td>\n",
       "    </tr>\n",
       "    <tr>\n",
       "      <th>6</th>\n",
       "      <td>1</td>\n",
       "      <td>Help wanted.  We are a 14 year old fortune 500...</td>\n",
       "      <td>00007.d8521faf753ff9ee989122f6816f87d7</td>\n",
       "    </tr>\n",
       "    <tr>\n",
       "      <th>7</th>\n",
       "      <td>1</td>\n",
       "      <td>&lt;html&gt;\\n\\n&lt;head&gt;\\n\\n&lt;title&gt;ReliaQuote - Save U...</td>\n",
       "      <td>00008.dfd941deb10f5eed78b1594b131c9266</td>\n",
       "    </tr>\n",
       "    <tr>\n",
       "      <th>8</th>\n",
       "      <td>1</td>\n",
       "      <td>TIRED OF THE BULL OUT THERE?\\n\\nWant To Stop L...</td>\n",
       "      <td>00009.027bf6e0b0c4ab34db3ce0ea4bf2edab</td>\n",
       "    </tr>\n",
       "    <tr>\n",
       "      <th>9</th>\n",
       "      <td>1</td>\n",
       "      <td>Dear ricardo1 ,\\n\\n\\n\\n&lt;html&gt;\\n\\n&lt;body&gt;\\n\\n&lt;ce...</td>\n",
       "      <td>00010.445affef4c70feec58f9198cfbc22997</td>\n",
       "    </tr>\n",
       "    <tr>\n",
       "      <th>...</th>\n",
       "      <td>...</td>\n",
       "      <td>...</td>\n",
       "      <td>...</td>\n",
       "    </tr>\n",
       "    <tr>\n",
       "      <th>5191</th>\n",
       "      <td>0</td>\n",
       "      <td>http://news.bbc.co.uk/1/hi/england/2515127.stm...</td>\n",
       "      <td>01396.61983fbe6ec43f55fd44e30fce24ffa6</td>\n",
       "    </tr>\n",
       "    <tr>\n",
       "      <th>5192</th>\n",
       "      <td>0</td>\n",
       "      <td>&gt; &gt;-- be careful when using this one.) Also, t...</td>\n",
       "      <td>01397.9f9ef4c2a8dc012d80f2ce2d3473d3b7</td>\n",
       "    </tr>\n",
       "    <tr>\n",
       "      <th>5193</th>\n",
       "      <td>0</td>\n",
       "      <td>&gt;&gt;&gt;&gt;&gt; \"SM\" == Skip Montanaro &lt;skip@pobox.com&gt; ...</td>\n",
       "      <td>01398.169b51731fe569f42169ae8f948ec676</td>\n",
       "    </tr>\n",
       "    <tr>\n",
       "      <th>5194</th>\n",
       "      <td>0</td>\n",
       "      <td>So then, \"Mark Hammond\" &lt;mhammond@skippinet.co...</td>\n",
       "      <td>01399.ca6b00b7b341bbde9a9ea3dd6a7bf896</td>\n",
       "    </tr>\n",
       "    <tr>\n",
       "      <th>5195</th>\n",
       "      <td>0</td>\n",
       "      <td>Hi there,\\n\\n\\n\\nNow this is probably of no us...</td>\n",
       "      <td>01400.f897f0931e461e7b2e964d28e927c35e</td>\n",
       "    </tr>\n",
       "  </tbody>\n",
       "</table>\n",
       "<p>5191 rows × 3 columns</p>\n",
       "</div>"
      ],
      "text/plain": [
       "        CATEGORY                                            MESSAGE  \\\n",
       "DOC_ID                                                                \n",
       "5              1  A POWERHOUSE GIFTING PROGRAM You Don't Want To...   \n",
       "6              1  Help wanted.  We are a 14 year old fortune 500...   \n",
       "7              1  <html>\\n\\n<head>\\n\\n<title>ReliaQuote - Save U...   \n",
       "8              1  TIRED OF THE BULL OUT THERE?\\n\\nWant To Stop L...   \n",
       "9              1  Dear ricardo1 ,\\n\\n\\n\\n<html>\\n\\n<body>\\n\\n<ce...   \n",
       "...          ...                                                ...   \n",
       "5191           0  http://news.bbc.co.uk/1/hi/england/2515127.stm...   \n",
       "5192           0  > >-- be careful when using this one.) Also, t...   \n",
       "5193           0  >>>>> \"SM\" == Skip Montanaro <skip@pobox.com> ...   \n",
       "5194           0  So then, \"Mark Hammond\" <mhammond@skippinet.co...   \n",
       "5195           0  Hi there,\\n\\n\\n\\nNow this is probably of no us...   \n",
       "\n",
       "                                     FILE_NAME  \n",
       "DOC_ID                                          \n",
       "5       00006.5ab5620d3d7c6c0db76234556a16f6c1  \n",
       "6       00007.d8521faf753ff9ee989122f6816f87d7  \n",
       "7       00008.dfd941deb10f5eed78b1594b131c9266  \n",
       "8       00009.027bf6e0b0c4ab34db3ce0ea4bf2edab  \n",
       "9       00010.445affef4c70feec58f9198cfbc22997  \n",
       "...                                        ...  \n",
       "5191    01396.61983fbe6ec43f55fd44e30fce24ffa6  \n",
       "5192    01397.9f9ef4c2a8dc012d80f2ce2d3473d3b7  \n",
       "5193    01398.169b51731fe569f42169ae8f948ec676  \n",
       "5194    01399.ca6b00b7b341bbde9a9ea3dd6a7bf896  \n",
       "5195    01400.f897f0931e461e7b2e964d28e927c35e  \n",
       "\n",
       "[5191 rows x 3 columns]"
      ]
     },
     "execution_count": 57,
     "metadata": {},
     "output_type": "execute_result"
    }
   ],
   "source": [
    "data.iloc[5:]"
   ]
  },
  {
   "cell_type": "code",
   "execution_count": 58,
   "id": "5922b7d1",
   "metadata": {},
   "outputs": [
    {
     "data": {
      "text/plain": [
       "DOC_ID\n",
       "0    <!DOCTYPE HTML PUBLIC \"-//W3C//DTD HTML 4.0 Tr...\n",
       "1    1) Fight The Risk of Cancer!\\n\\nhttp://www.adc...\n",
       "2    1) Fight The Risk of Cancer!\\n\\nhttp://www.adc...\n",
       "Name: MESSAGE, dtype: object"
      ]
     },
     "execution_count": 58,
     "metadata": {},
     "output_type": "execute_result"
    }
   ],
   "source": [
    "data.MESSAGE.iloc[0:3]"
   ]
  },
  {
   "cell_type": "code",
   "execution_count": 59,
   "id": "a3ed21d7",
   "metadata": {},
   "outputs": [],
   "source": [
    "first_emails = data.MESSAGE.iloc[0:3]\n",
    "\n",
    "nested_list = first_emails.apply(clean_message)"
   ]
  },
  {
   "cell_type": "code",
   "execution_count": 60,
   "id": "4bd3e21e",
   "metadata": {},
   "outputs": [],
   "source": [
    "#python list comprehension\n",
    "first_list = [item for sublist in nested_list for item in sublist]"
   ]
  },
  {
   "cell_type": "code",
   "execution_count": 61,
   "id": "87682d32",
   "metadata": {},
   "outputs": [
    {
     "data": {
      "text/plain": [
       "321"
      ]
     },
     "execution_count": 61,
     "metadata": {},
     "output_type": "execute_result"
    }
   ],
   "source": [
    "flat_list = []\n",
    "for sublist in nested_list:\n",
    "    for item in sublist:\n",
    "        flat_list.append(item)\n",
    "        \n",
    "len(flat_list)"
   ]
  },
  {
   "cell_type": "code",
   "execution_count": 62,
   "id": "5db12091",
   "metadata": {},
   "outputs": [
    {
     "data": {
      "text/plain": [
       "['doctyp',\n",
       " 'html',\n",
       " 'public',\n",
       " 'html',\n",
       " 'html',\n",
       " 'head',\n",
       " 'meta',\n",
       " 'ype',\n",
       " 'meta',\n",
       " 'mshtml',\n",
       " 'bodi',\n",
       " 'insert',\n",
       " 'calypso',\n",
       " 'tabl',\n",
       " 'color',\n",
       " 'black',\n",
       " 'display',\n",
       " 'none',\n",
       " 'tbodi',\n",
       " 'tr',\n",
       " 'td',\n",
       " 'hr',\n",
       " 'noshad',\n",
       " 'tr',\n",
       " 'td',\n",
       " 'hr',\n",
       " 'noshad',\n",
       " 'end',\n",
       " 'calypso',\n",
       " 'insert',\n",
       " 'font',\n",
       " 'arial',\n",
       " 'helvetica',\n",
       " 'br',\n",
       " 'end',\n",
       " 'calypso',\n",
       " 'font',\n",
       " 'copperpl',\n",
       " 'gothic',\n",
       " 'bold',\n",
       " 'center',\n",
       " 'save',\n",
       " 'life',\n",
       " 'font',\n",
       " 'copperpl',\n",
       " 'gothic',\n",
       " 'bold',\n",
       " 'center',\n",
       " 'spend',\n",
       " 'center',\n",
       " 'font',\n",
       " 'copperpl',\n",
       " 'gothic',\n",
       " 'bold',\n",
       " 'center',\n",
       " 'life',\n",
       " 'quot',\n",
       " 'save',\n",
       " 'center',\n",
       " 'p',\n",
       " 'p',\n",
       " 'br',\n",
       " 'p',\n",
       " 'center',\n",
       " 'tabl',\n",
       " 'tbodi',\n",
       " 'tabl',\n",
       " 'tbodi',\n",
       " 'tr',\n",
       " 'td',\n",
       " 'b',\n",
       " 'font',\n",
       " 'g',\n",
       " 'famili',\n",
       " 'financi',\n",
       " 'secur',\n",
       " 'import',\n",
       " 'life',\n",
       " 'quot',\n",
       " 'save',\n",
       " 'ke',\n",
       " 'buy',\n",
       " 'life',\n",
       " 'insur',\n",
       " 'simpl',\n",
       " 'afford',\n",
       " 'provid',\n",
       " 'free',\n",
       " 'access',\n",
       " 'best',\n",
       " 'compani',\n",
       " 'lowest',\n",
       " 'tr',\n",
       " 'td',\n",
       " 'tabl',\n",
       " 'tbodi',\n",
       " 'tr',\n",
       " 'td',\n",
       " 'font',\n",
       " 'b',\n",
       " 'life',\n",
       " 'quot',\n",
       " 'save',\n",
       " 'fast',\n",
       " 'save',\n",
       " 'money',\n",
       " 'let',\n",
       " 'us',\n",
       " 'help',\n",
       " 'get',\n",
       " 'start',\n",
       " 'best',\n",
       " 'ue',\n",
       " 'countri',\n",
       " 'new',\n",
       " 'coverag',\n",
       " 'save',\n",
       " 'hundr',\n",
       " 'even',\n",
       " 'usand',\n",
       " 'dollar',\n",
       " 'request',\n",
       " 'free',\n",
       " 'quot',\n",
       " 'lifequot',\n",
       " 'save',\n",
       " 'servic',\n",
       " 'take',\n",
       " 'less',\n",
       " 'minut',\n",
       " 'complet',\n",
       " 'shop',\n",
       " 'compar',\n",
       " 'save',\n",
       " 'type',\n",
       " 'life',\n",
       " 'insur',\n",
       " 'tr',\n",
       " 'br',\n",
       " 'br',\n",
       " 'td',\n",
       " 'p',\n",
       " 'b',\n",
       " 'font',\n",
       " 'http',\n",
       " 'click',\n",
       " 'free',\n",
       " 'quot',\n",
       " 'p',\n",
       " 'font',\n",
       " 'strong',\n",
       " 'center',\n",
       " 'protect',\n",
       " 'famili',\n",
       " 'best',\n",
       " 'invest',\n",
       " 'r',\n",
       " 'make',\n",
       " 'br',\n",
       " 'tr',\n",
       " 'br',\n",
       " 'br',\n",
       " 'tr',\n",
       " 'p',\n",
       " 'font',\n",
       " 'arial',\n",
       " 'helvetica',\n",
       " 'p',\n",
       " 'center',\n",
       " 'br',\n",
       " 'br',\n",
       " 'br',\n",
       " 'p',\n",
       " 'p',\n",
       " 'br',\n",
       " 'br',\n",
       " 'br',\n",
       " 'br',\n",
       " 'br',\n",
       " 'p',\n",
       " 'br',\n",
       " 'p',\n",
       " 'br',\n",
       " 'br',\n",
       " 'br',\n",
       " 'receipt',\n",
       " 'email',\n",
       " 'error',\n",
       " 'wish',\n",
       " 'remov',\n",
       " 'list',\n",
       " 'mailto',\n",
       " 'coin',\n",
       " 'pleas',\n",
       " 'click',\n",
       " 'type',\n",
       " 'remov',\n",
       " 'resid',\n",
       " 'state',\n",
       " 'prohibit',\n",
       " 'solicit',\n",
       " 'ce',\n",
       " 'pleas',\n",
       " 'disregard',\n",
       " 'br',\n",
       " 'br',\n",
       " 'br',\n",
       " 'br',\n",
       " 'br',\n",
       " 'br',\n",
       " 'br',\n",
       " 'br',\n",
       " 'br',\n",
       " 'br',\n",
       " 'br',\n",
       " 'br',\n",
       " 'br',\n",
       " 'br',\n",
       " 'br',\n",
       " 'br',\n",
       " 'center',\n",
       " 'fight',\n",
       " 'risk',\n",
       " 'cancer',\n",
       " 'http',\n",
       " 'slim',\n",
       " 'guarante',\n",
       " 'lose',\n",
       " 'lb',\n",
       " 'day',\n",
       " 'http',\n",
       " 'get',\n",
       " 'child',\n",
       " 'support',\n",
       " 'deserv',\n",
       " 'free',\n",
       " 'legal',\n",
       " 'advic',\n",
       " 'http',\n",
       " 'join',\n",
       " 'web',\n",
       " 'fastest',\n",
       " 'grow',\n",
       " 'singl',\n",
       " 'commun',\n",
       " 'http',\n",
       " 'start',\n",
       " 'privat',\n",
       " 'photo',\n",
       " 'album',\n",
       " 'onlin',\n",
       " 'http',\n",
       " 'wonder',\n",
       " 'day',\n",
       " 'offer',\n",
       " 'manag',\n",
       " 'prizemama',\n",
       " 'wish',\n",
       " 'leav',\n",
       " 'list',\n",
       " 'pleas',\n",
       " 'use',\n",
       " 'link',\n",
       " 'http',\n",
       " 'ilug',\n",
       " 'irish',\n",
       " 'linux',\n",
       " 'user',\n",
       " 'group',\n",
       " 'ilug',\n",
       " 'http',\n",
       " 'un',\n",
       " 'subscript',\n",
       " 'inform',\n",
       " 'list',\n",
       " 'maintain',\n",
       " 'listmast',\n",
       " 'fight',\n",
       " 'risk',\n",
       " 'cancer',\n",
       " 'http',\n",
       " 'slim',\n",
       " 'guarante',\n",
       " 'lose',\n",
       " 'lb',\n",
       " 'day',\n",
       " 'http',\n",
       " 'get',\n",
       " 'child',\n",
       " 'support',\n",
       " 'deserv',\n",
       " 'free',\n",
       " 'legal',\n",
       " 'advic',\n",
       " 'http',\n",
       " 'join',\n",
       " 'web',\n",
       " 'fastest',\n",
       " 'grow',\n",
       " 'singl',\n",
       " 'commun',\n",
       " 'http',\n",
       " 'start',\n",
       " 'privat',\n",
       " 'photo',\n",
       " 'album',\n",
       " 'onlin',\n",
       " 'http',\n",
       " 'wonder',\n",
       " 'day',\n",
       " 'offer',\n",
       " 'manag',\n",
       " 'prizemama',\n",
       " 'wish',\n",
       " 'leav',\n",
       " 'list',\n",
       " 'pleas',\n",
       " 'use',\n",
       " 'link',\n",
       " 'http',\n",
       " 'zzzz']"
      ]
     },
     "execution_count": 62,
     "metadata": {},
     "output_type": "execute_result"
    }
   ],
   "source": [
    "first_list"
   ]
  },
  {
   "cell_type": "code",
   "execution_count": 63,
   "id": "b64a32c5",
   "metadata": {},
   "outputs": [
    {
     "name": "stdout",
     "output_type": "stream",
     "text": [
      "Wall time: 1min\n"
     ]
    }
   ],
   "source": [
    "%%time\n",
    "\n",
    "\n",
    "#use apply() on all the messages in the dataframe\n",
    "nested_list = data.MESSAGE.apply(clean_msg_no_html_tags)"
   ]
  },
  {
   "cell_type": "code",
   "execution_count": 64,
   "id": "088d1ac4",
   "metadata": {},
   "outputs": [
    {
     "data": {
      "text/plain": [
       "DOC_ID\n",
       "0    [save, life, insur, spend, life, quot, save, g...\n",
       "1    [fight, risk, cancer, http, slim, guarante, lo...\n",
       "2    [fight, risk, cancer, http, slim, guarante, lo...\n",
       "3    [adult, club, offer, free, membership, instant...\n",
       "4    [thought, might, like, slim, guarante, lose, l...\n",
       "Name: MESSAGE, dtype: object"
      ]
     },
     "execution_count": 64,
     "metadata": {},
     "output_type": "execute_result"
    }
   ],
   "source": [
    "nested_list.head()"
   ]
  },
  {
   "cell_type": "code",
   "execution_count": 65,
   "id": "ccdadd88",
   "metadata": {},
   "outputs": [
    {
     "data": {
      "text/plain": [
       "DOC_ID\n",
       "5191    [http, bizarr, collect, stuf, anim, could, fet...\n",
       "5192    [care, use, one, also, realli, cute, thing, ja...\n",
       "5193    [sm, skip, montanaro, write, jeremi, put, anot...\n",
       "5194    [mark, hammond, like, given, zodb, sound, attr...\n",
       "5195    [hi, probabl, use, whatsoev, also, problem, re...\n",
       "Name: MESSAGE, dtype: object"
      ]
     },
     "execution_count": 65,
     "metadata": {},
     "output_type": "execute_result"
    }
   ],
   "source": [
    "nested_list.tail()"
   ]
  },
  {
   "cell_type": "markdown",
   "id": "d941f535",
   "metadata": {},
   "source": [
    "## using logic to slice Dataframe\n"
   ]
  },
  {
   "cell_type": "code",
   "execution_count": 66,
   "id": "edc21496",
   "metadata": {},
   "outputs": [
    {
     "data": {
      "text/html": [
       "<div>\n",
       "<style scoped>\n",
       "    .dataframe tbody tr th:only-of-type {\n",
       "        vertical-align: middle;\n",
       "    }\n",
       "\n",
       "    .dataframe tbody tr th {\n",
       "        vertical-align: top;\n",
       "    }\n",
       "\n",
       "    .dataframe thead th {\n",
       "        text-align: right;\n",
       "    }\n",
       "</style>\n",
       "<table border=\"1\" class=\"dataframe\">\n",
       "  <thead>\n",
       "    <tr style=\"text-align: right;\">\n",
       "      <th></th>\n",
       "      <th>CATEGORY</th>\n",
       "      <th>MESSAGE</th>\n",
       "      <th>FILE_NAME</th>\n",
       "    </tr>\n",
       "    <tr>\n",
       "      <th>DOC_ID</th>\n",
       "      <th></th>\n",
       "      <th></th>\n",
       "      <th></th>\n",
       "    </tr>\n",
       "  </thead>\n",
       "  <tbody>\n",
       "    <tr>\n",
       "      <th>3796</th>\n",
       "      <td>0</td>\n",
       "      <td>Date:        Tue, 20 Aug 2002 17:27:47 -05...</td>\n",
       "      <td>00001.1a31cc283af0060967a233d26548a6ce</td>\n",
       "    </tr>\n",
       "    <tr>\n",
       "      <th>3797</th>\n",
       "      <td>0</td>\n",
       "      <td>--==_Exmh_-199405358P\\n\\nContent-Type: text/pl...</td>\n",
       "      <td>00002.5a587ae61666c5aa097c8e866aedcc59</td>\n",
       "    </tr>\n",
       "    <tr>\n",
       "      <th>3798</th>\n",
       "      <td>0</td>\n",
       "      <td>--==_Exmh_-196335410P\\n\\nContent-Type: text/pl...</td>\n",
       "      <td>00003.19be8acd739ad589cd00d8425bac7115</td>\n",
       "    </tr>\n",
       "    <tr>\n",
       "      <th>3799</th>\n",
       "      <td>0</td>\n",
       "      <td>--==_Exmh_-195849857P\\n\\nContent-Type: text/pl...</td>\n",
       "      <td>00004.b2ed6c3c62bbdfab7683d60e214d1445</td>\n",
       "    </tr>\n",
       "    <tr>\n",
       "      <th>3800</th>\n",
       "      <td>0</td>\n",
       "      <td>--==_Exmh_31119591P\\n\\nContent-Type: text/plai...</td>\n",
       "      <td>00005.07b9d4aa9e6c596440295a5170111392</td>\n",
       "    </tr>\n",
       "    <tr>\n",
       "      <th>...</th>\n",
       "      <td>...</td>\n",
       "      <td>...</td>\n",
       "      <td>...</td>\n",
       "    </tr>\n",
       "    <tr>\n",
       "      <th>5191</th>\n",
       "      <td>0</td>\n",
       "      <td>http://news.bbc.co.uk/1/hi/england/2515127.stm...</td>\n",
       "      <td>01396.61983fbe6ec43f55fd44e30fce24ffa6</td>\n",
       "    </tr>\n",
       "    <tr>\n",
       "      <th>5192</th>\n",
       "      <td>0</td>\n",
       "      <td>&gt; &gt;-- be careful when using this one.) Also, t...</td>\n",
       "      <td>01397.9f9ef4c2a8dc012d80f2ce2d3473d3b7</td>\n",
       "    </tr>\n",
       "    <tr>\n",
       "      <th>5193</th>\n",
       "      <td>0</td>\n",
       "      <td>&gt;&gt;&gt;&gt;&gt; \"SM\" == Skip Montanaro &lt;skip@pobox.com&gt; ...</td>\n",
       "      <td>01398.169b51731fe569f42169ae8f948ec676</td>\n",
       "    </tr>\n",
       "    <tr>\n",
       "      <th>5194</th>\n",
       "      <td>0</td>\n",
       "      <td>So then, \"Mark Hammond\" &lt;mhammond@skippinet.co...</td>\n",
       "      <td>01399.ca6b00b7b341bbde9a9ea3dd6a7bf896</td>\n",
       "    </tr>\n",
       "    <tr>\n",
       "      <th>5195</th>\n",
       "      <td>0</td>\n",
       "      <td>Hi there,\\n\\n\\n\\nNow this is probably of no us...</td>\n",
       "      <td>01400.f897f0931e461e7b2e964d28e927c35e</td>\n",
       "    </tr>\n",
       "  </tbody>\n",
       "</table>\n",
       "<p>1400 rows × 3 columns</p>\n",
       "</div>"
      ],
      "text/plain": [
       "        CATEGORY                                            MESSAGE  \\\n",
       "DOC_ID                                                                \n",
       "3796           0      Date:        Tue, 20 Aug 2002 17:27:47 -05...   \n",
       "3797           0  --==_Exmh_-199405358P\\n\\nContent-Type: text/pl...   \n",
       "3798           0  --==_Exmh_-196335410P\\n\\nContent-Type: text/pl...   \n",
       "3799           0  --==_Exmh_-195849857P\\n\\nContent-Type: text/pl...   \n",
       "3800           0  --==_Exmh_31119591P\\n\\nContent-Type: text/plai...   \n",
       "...          ...                                                ...   \n",
       "5191           0  http://news.bbc.co.uk/1/hi/england/2515127.stm...   \n",
       "5192           0  > >-- be careful when using this one.) Also, t...   \n",
       "5193           0  >>>>> \"SM\" == Skip Montanaro <skip@pobox.com> ...   \n",
       "5194           0  So then, \"Mark Hammond\" <mhammond@skippinet.co...   \n",
       "5195           0  Hi there,\\n\\n\\n\\nNow this is probably of no us...   \n",
       "\n",
       "                                     FILE_NAME  \n",
       "DOC_ID                                          \n",
       "3796    00001.1a31cc283af0060967a233d26548a6ce  \n",
       "3797    00002.5a587ae61666c5aa097c8e866aedcc59  \n",
       "3798    00003.19be8acd739ad589cd00d8425bac7115  \n",
       "3799    00004.b2ed6c3c62bbdfab7683d60e214d1445  \n",
       "3800    00005.07b9d4aa9e6c596440295a5170111392  \n",
       "...                                        ...  \n",
       "5191    01396.61983fbe6ec43f55fd44e30fce24ffa6  \n",
       "5192    01397.9f9ef4c2a8dc012d80f2ce2d3473d3b7  \n",
       "5193    01398.169b51731fe569f42169ae8f948ec676  \n",
       "5194    01399.ca6b00b7b341bbde9a9ea3dd6a7bf896  \n",
       "5195    01400.f897f0931e461e7b2e964d28e927c35e  \n",
       "\n",
       "[1400 rows x 3 columns]"
      ]
     },
     "execution_count": 66,
     "metadata": {},
     "output_type": "execute_result"
    }
   ],
   "source": [
    "data[data.CATEGORY == 0]"
   ]
  },
  {
   "cell_type": "code",
   "execution_count": 67,
   "id": "39230812",
   "metadata": {},
   "outputs": [
    {
     "data": {
      "text/html": [
       "<div>\n",
       "<style scoped>\n",
       "    .dataframe tbody tr th:only-of-type {\n",
       "        vertical-align: middle;\n",
       "    }\n",
       "\n",
       "    .dataframe tbody tr th {\n",
       "        vertical-align: top;\n",
       "    }\n",
       "\n",
       "    .dataframe thead th {\n",
       "        text-align: right;\n",
       "    }\n",
       "</style>\n",
       "<table border=\"1\" class=\"dataframe\">\n",
       "  <thead>\n",
       "    <tr style=\"text-align: right;\">\n",
       "      <th></th>\n",
       "      <th>CATEGORY</th>\n",
       "      <th>MESSAGE</th>\n",
       "      <th>FILE_NAME</th>\n",
       "    </tr>\n",
       "    <tr>\n",
       "      <th>DOC_ID</th>\n",
       "      <th></th>\n",
       "      <th></th>\n",
       "      <th></th>\n",
       "    </tr>\n",
       "  </thead>\n",
       "  <tbody>\n",
       "    <tr>\n",
       "      <th>3791</th>\n",
       "      <td>1</td>\n",
       "      <td>This is a multi-part message in MIME format.\\n...</td>\n",
       "      <td>01397.f75f0dd0dd923faefa3e9cc5ecb8c906</td>\n",
       "    </tr>\n",
       "    <tr>\n",
       "      <th>3792</th>\n",
       "      <td>1</td>\n",
       "      <td>Dear Subscriber,\\n\\n\\n\\nIf I could show you a ...</td>\n",
       "      <td>01398.8ca7045aae4184d56e8509dc5ad6d979</td>\n",
       "    </tr>\n",
       "    <tr>\n",
       "      <th>3793</th>\n",
       "      <td>1</td>\n",
       "      <td>****Mid-Summer Customer Appreciation SALE!****...</td>\n",
       "      <td>01399.2319643317e2c5193d574e40a71809c2</td>\n",
       "    </tr>\n",
       "    <tr>\n",
       "      <th>3794</th>\n",
       "      <td>1</td>\n",
       "      <td>ATTN:SIR/MADAN      \\n\\n\\n\\n                  ...</td>\n",
       "      <td>01400.b444b69845db2fa0a4693ca04e6ac5c5</td>\n",
       "    </tr>\n",
       "    <tr>\n",
       "      <th>3795</th>\n",
       "      <td>1</td>\n",
       "      <td></td>\n",
       "      <td>cmds</td>\n",
       "    </tr>\n",
       "  </tbody>\n",
       "</table>\n",
       "</div>"
      ],
      "text/plain": [
       "        CATEGORY                                            MESSAGE  \\\n",
       "DOC_ID                                                                \n",
       "3791           1  This is a multi-part message in MIME format.\\n...   \n",
       "3792           1  Dear Subscriber,\\n\\n\\n\\nIf I could show you a ...   \n",
       "3793           1  ****Mid-Summer Customer Appreciation SALE!****...   \n",
       "3794           1  ATTN:SIR/MADAN      \\n\\n\\n\\n                  ...   \n",
       "3795           1                                                      \n",
       "\n",
       "                                     FILE_NAME  \n",
       "DOC_ID                                          \n",
       "3791    01397.f75f0dd0dd923faefa3e9cc5ecb8c906  \n",
       "3792    01398.8ca7045aae4184d56e8509dc5ad6d979  \n",
       "3793    01399.2319643317e2c5193d574e40a71809c2  \n",
       "3794    01400.b444b69845db2fa0a4693ca04e6ac5c5  \n",
       "3795                                      cmds  "
      ]
     },
     "execution_count": 67,
     "metadata": {},
     "output_type": "execute_result"
    }
   ],
   "source": [
    "data[data.CATEGORY == 1].tail()"
   ]
  },
  {
   "cell_type": "markdown",
   "id": "d748b85a",
   "metadata": {},
   "source": [
    "# data.CATEGORY.value_counts()"
   ]
  },
  {
   "cell_type": "code",
   "execution_count": 68,
   "id": "ccce4a34",
   "metadata": {},
   "outputs": [],
   "source": [
    "#spam mail\n",
    "doc_ids_spam = data[data.CATEGORY == 1].index\n",
    "#non-spam mail\n",
    "doc_ids_ham = data[data.CATEGORY == 0].index"
   ]
  },
  {
   "cell_type": "code",
   "execution_count": 69,
   "id": "04603d3c",
   "metadata": {},
   "outputs": [
    {
     "data": {
      "text/plain": [
       "Int64Index([3796, 3797, 3798, 3799, 3800, 3801, 3802, 3803, 3804, 3805,\n",
       "            ...\n",
       "            5186, 5187, 5188, 5189, 5190, 5191, 5192, 5193, 5194, 5195],\n",
       "           dtype='int64', name='DOC_ID', length=1400)"
      ]
     },
     "execution_count": 69,
     "metadata": {},
     "output_type": "execute_result"
    }
   ],
   "source": [
    "doc_ids_ham"
   ]
  },
  {
   "cell_type": "markdown",
   "id": "e836d434",
   "metadata": {},
   "source": [
    "## Subsetting a series with an index"
   ]
  },
  {
   "cell_type": "code",
   "execution_count": 70,
   "id": "af708641",
   "metadata": {},
   "outputs": [
    {
     "data": {
      "text/plain": [
       "pandas.core.indexes.numeric.Int64Index"
      ]
     },
     "execution_count": 70,
     "metadata": {},
     "output_type": "execute_result"
    }
   ],
   "source": [
    "type(doc_ids_ham)\n"
   ]
  },
  {
   "cell_type": "code",
   "execution_count": 71,
   "id": "b31fc088",
   "metadata": {},
   "outputs": [],
   "source": [
    "nested_list_ham = nested_list.loc[doc_ids_ham]"
   ]
  },
  {
   "cell_type": "code",
   "execution_count": 72,
   "id": "32cda542",
   "metadata": {},
   "outputs": [
    {
     "data": {
      "text/plain": [
       "(1400,)"
      ]
     },
     "execution_count": 72,
     "metadata": {},
     "output_type": "execute_result"
    }
   ],
   "source": [
    "nested_list_ham.shape"
   ]
  },
  {
   "cell_type": "code",
   "execution_count": 73,
   "id": "8ed1d46d",
   "metadata": {},
   "outputs": [
    {
     "data": {
      "text/plain": [
       "DOC_ID\n",
       "5191    [http, bizarr, collect, stuf, anim, could, fet...\n",
       "5192    [care, use, one, also, realli, cute, thing, ja...\n",
       "5193    [sm, skip, montanaro, write, jeremi, put, anot...\n",
       "5194    [mark, hammond, like, given, zodb, sound, attr...\n",
       "5195    [hi, probabl, use, whatsoev, also, problem, re...\n",
       "Name: MESSAGE, dtype: object"
      ]
     },
     "execution_count": 73,
     "metadata": {},
     "output_type": "execute_result"
    }
   ],
   "source": [
    "nested_list_ham.tail()"
   ]
  },
  {
   "cell_type": "code",
   "execution_count": 74,
   "id": "8111e335",
   "metadata": {},
   "outputs": [],
   "source": [
    "nested_list_spam= nested_list.loc[doc_ids_spam]"
   ]
  },
  {
   "cell_type": "code",
   "execution_count": 75,
   "id": "ecf2f68e",
   "metadata": {},
   "outputs": [
    {
     "data": {
      "text/plain": [
       "180669"
      ]
     },
     "execution_count": 75,
     "metadata": {},
     "output_type": "execute_result"
    }
   ],
   "source": [
    "flat_list_ham = [item for sublist in nested_list_ham for item in sublist]\n",
    "\n",
    "normal_words= pd.Series(flat_list_ham)\n",
    "\n",
    "#total number of words in emails\n",
    "normal_words.shape[0]"
   ]
  },
  {
   "cell_type": "code",
   "execution_count": 76,
   "id": "0811dce1",
   "metadata": {},
   "outputs": [
    {
     "data": {
      "text/plain": [
       "12700"
      ]
     },
     "execution_count": 76,
     "metadata": {},
     "output_type": "execute_result"
    }
   ],
   "source": [
    "#finding the unique  words\n",
    "flat_list_ham = [item for sublist in nested_list_ham for item in sublist]\n",
    "\n",
    "normal_words= pd.Series(flat_list_ham).value_counts()\n",
    "\n",
    "#total number of unique words in non \n",
    "normal_words.shape[0]"
   ]
  },
  {
   "cell_type": "code",
   "execution_count": 77,
   "id": "4bc78a4f",
   "metadata": {},
   "outputs": [
    {
     "data": {
      "text/plain": [
       "http     3251\n",
       "use      1509\n",
       "list     1494\n",
       "one      1035\n",
       "mail     1017\n",
       "user      952\n",
       "linux     915\n",
       "get       905\n",
       "would     861\n",
       "file      808\n",
       "dtype: int64"
      ]
     },
     "execution_count": 77,
     "metadata": {},
     "output_type": "execute_result"
    }
   ],
   "source": [
    "#10 most common words in non-spam message\n",
    "normal_words[:10]"
   ]
  },
  {
   "cell_type": "code",
   "execution_count": 78,
   "id": "99097246",
   "metadata": {},
   "outputs": [
    {
     "data": {
      "image/png": "[encoded data removed]",
      "text/plain": [
       "<Figure size 432x288 with 1 Axes>"
      ]
     },
     "metadata": {
      "needs_background": "light"
     },
     "output_type": "display_data"
    }
   ],
   "source": [
    "import matplotlib.pyplot as plt\n",
    "\n",
    "# Top 10 words and their counts\n",
    "words = ['http', 'use', 'list', 'one', 'mail', 'user', 'linux', 'get', 'would', 'file']\n",
    "counts = [3251, 1509, 1494, 1035, 1017, 952, 915, 905, 861, 808]\n",
    "\n",
    "# Create a list of x-coordinates for the bar plot\n",
    "x = range(len(words))\n",
    "\n",
    "# Create the bar plot\n",
    "plt.bar(x, counts)\n",
    "\n",
    "# Set the x-axis tick labels\n",
    "plt.xticks(x, words, rotation='vertical')\n",
    "\n",
    "# Set the axis labels\n",
    "plt.xlabel('Words')\n",
    "plt.ylabel('Count')\n",
    "\n",
    "# Set the plot title\n",
    "plt.title('Top 10 Most Common Words in Non-spam Messages')\n",
    "\n",
    "# Display the plot\n",
    "plt.show()\n"
   ]
  },
  {
   "cell_type": "code",
   "execution_count": 79,
   "id": "c1b6b46e",
   "metadata": {},
   "outputs": [
    {
     "data": {
      "text/plain": [
       "12700"
      ]
     },
     "execution_count": 79,
     "metadata": {},
     "output_type": "execute_result"
    }
   ],
   "source": [
    "#finding the unique  words\n",
    "flat_list_spam = [item for sublist in nested_list_ham for item in sublist]\n",
    "\n",
    "unique_words= pd.Series(flat_list_spam).value_counts()\n",
    "\n",
    "#total number of unique words in spam \n",
    "unique_words.shape[0]"
   ]
  },
  {
   "cell_type": "code",
   "execution_count": 80,
   "id": "b7c989c5",
   "metadata": {},
   "outputs": [
    {
     "data": {
      "text/plain": [
       "http     3251\n",
       "use      1509\n",
       "list     1494\n",
       "one      1035\n",
       "mail     1017\n",
       "user      952\n",
       "linux     915\n",
       "get       905\n",
       "would     861\n",
       "file      808\n",
       "dtype: int64"
      ]
     },
     "execution_count": 80,
     "metadata": {},
     "output_type": "execute_result"
    }
   ],
   "source": [
    "unique_words[:10]"
   ]
  },
  {
   "cell_type": "markdown",
   "id": "16227b94",
   "metadata": {},
   "source": [
    "# installing word cloud"
   ]
  },
  {
   "cell_type": "code",
   "execution_count": 81,
   "id": "11d1b341",
   "metadata": {},
   "outputs": [
    {
     "name": "stdout",
     "output_type": "stream",
     "text": [
      "Requirement already satisfied: wordcloud in c:\\users\\sajid\\anaconda3\\lib\\site-packages (1.9.2)\n",
      "Requirement already satisfied: numpy>=1.6.1 in c:\\users\\sajid\\anaconda3\\lib\\site-packages (from wordcloud) (1.22.4)\n",
      "Requirement already satisfied: matplotlib in c:\\users\\sajid\\anaconda3\\lib\\site-packages (from wordcloud) (3.7.1)\n",
      "Requirement already satisfied: pillow in c:\\users\\sajid\\anaconda3\\lib\\site-packages (from wordcloud) (8.4.0)\n",
      "Requirement already satisfied: python-dateutil>=2.7 in c:\\users\\sajid\\anaconda3\\lib\\site-packages (from matplotlib->wordcloud) (2.8.2)\n",
      "Requirement already satisfied: contourpy>=1.0.1 in c:\\users\\sajid\\anaconda3\\lib\\site-packages (from matplotlib->wordcloud) (1.0.7)\n",
      "Requirement already satisfied: kiwisolver>=1.0.1 in c:\\users\\sajid\\anaconda3\\lib\\site-packages (from matplotlib->wordcloud) (1.3.1)\n",
      "Requirement already satisfied: importlib-resources>=3.2.0 in c:\\users\\sajid\\anaconda3\\lib\\site-packages (from matplotlib->wordcloud) (5.12.0)\n",
      "Requirement already satisfied: fonttools>=4.22.0 in c:\\users\\sajid\\anaconda3\\lib\\site-packages (from matplotlib->wordcloud) (4.25.0)\n",
      "Requirement already satisfied: cycler>=0.10 in c:\\users\\sajid\\anaconda3\\lib\\site-packages (from matplotlib->wordcloud) (0.10.0)\n",
      "Requirement already satisfied: pyparsing>=2.3.1 in c:\\users\\sajid\\anaconda3\\lib\\site-packages (from matplotlib->wordcloud) (3.0.4)\n",
      "Requirement already satisfied: packaging>=20.0 in c:\\users\\sajid\\anaconda3\\lib\\site-packages (from matplotlib->wordcloud) (21.0)\n",
      "Requirement already satisfied: six in c:\\users\\sajid\\anaconda3\\lib\\site-packages (from cycler>=0.10->matplotlib->wordcloud) (1.16.0)\n",
      "Requirement already satisfied: zipp>=3.1.0 in c:\\users\\sajid\\anaconda3\\lib\\site-packages (from importlib-resources>=3.2.0->matplotlib->wordcloud) (3.6.0)\n",
      "Note: you may need to restart the kernel to use updated packages.\n"
     ]
    }
   ],
   "source": [
    "pip install wordcloud\n"
   ]
  },
  {
   "cell_type": "markdown",
   "id": "32b97f42",
   "metadata": {},
   "source": [
    "# Generate Vocabulary & Dictionary"
   ]
  },
  {
   "cell_type": "code",
   "execution_count": 98,
   "id": "14fb9b72",
   "metadata": {},
   "outputs": [],
   "source": [
    "stemmed_nested_list = nested_list \n",
    "flat_stemmed_list = [item for sublist in stemmed_nested_list for item in sublist]"
   ]
  },
  {
   "cell_type": "code",
   "execution_count": 102,
   "id": "d7f2cc9e",
   "metadata": {},
   "outputs": [
    {
     "name": "stdout",
     "output_type": "stream",
     "text": [
      "Num of unique words 20514\n"
     ]
    }
   ],
   "source": [
    "import pandas as pd\n",
    "\n",
    "unique_words = pd.Series(flat_stemmed_list).value_counts()\n",
    "print('Num of unique words', unique_words.shape[0])"
   ]
  },
  {
   "cell_type": "code",
   "execution_count": 114,
   "id": "0957b8e5",
   "metadata": {},
   "outputs": [],
   "source": [
    "#challenge: create subset of the series called 'frequent_word' that only contains\n",
    "#the most common 2500 words out of the total. Print out the top 10 words\n",
    "vocab_size = 2500"
   ]
  },
  {
   "cell_type": "code",
   "execution_count": 109,
   "id": "a9568b34",
   "metadata": {},
   "outputs": [
    {
     "name": "stdout",
     "output_type": "stream",
     "text": [
      "MOSt common words: \n",
      " http      9445\n",
      "email     6769\n",
      "list      5436\n",
      "free      5340\n",
      "get       4733\n",
      "mail      4473\n",
      "use       4281\n",
      "receiv    4166\n",
      "click     4146\n",
      "one       4103\n",
      "dtype: int64\n"
     ]
    }
   ],
   "source": [
    "frequent_words = unique_words[0:2500]\n",
    "print('MOSt common words: \\n' ,frequent_words[0:10])"
   ]
  },
  {
   "cell_type": "code",
   "execution_count": 110,
   "id": "e0989243",
   "metadata": {},
   "outputs": [
    {
     "data": {
      "text/plain": [
       "pandas.core.series.Series"
      ]
     },
     "execution_count": 110,
     "metadata": {},
     "output_type": "execute_result"
    }
   ],
   "source": [
    "type(frequent_words)"
   ]
  },
  {
   "cell_type": "markdown",
   "id": "86cfc123",
   "metadata": {},
   "source": [
    "# Create Vocabulary DataFrame with a WORD_ID"
   ]
  },
  {
   "cell_type": "code",
   "execution_count": 120,
   "id": "cc1cad5d",
   "metadata": {},
   "outputs": [
    {
     "data": {
      "text/html": [
       "<div>\n",
       "<style scoped>\n",
       "    .dataframe tbody tr th:only-of-type {\n",
       "        vertical-align: middle;\n",
       "    }\n",
       "\n",
       "    .dataframe tbody tr th {\n",
       "        vertical-align: top;\n",
       "    }\n",
       "\n",
       "    .dataframe thead th {\n",
       "        text-align: right;\n",
       "    }\n",
       "</style>\n",
       "<table border=\"1\" class=\"dataframe\">\n",
       "  <thead>\n",
       "    <tr style=\"text-align: right;\">\n",
       "      <th></th>\n",
       "      <th>VOCAB_WORD</th>\n",
       "    </tr>\n",
       "    <tr>\n",
       "      <th>WORD_ID</th>\n",
       "      <th></th>\n",
       "    </tr>\n",
       "  </thead>\n",
       "  <tbody>\n",
       "    <tr>\n",
       "      <th>0</th>\n",
       "      <td>http</td>\n",
       "    </tr>\n",
       "    <tr>\n",
       "      <th>1</th>\n",
       "      <td>email</td>\n",
       "    </tr>\n",
       "    <tr>\n",
       "      <th>2</th>\n",
       "      <td>list</td>\n",
       "    </tr>\n",
       "    <tr>\n",
       "      <th>3</th>\n",
       "      <td>free</td>\n",
       "    </tr>\n",
       "    <tr>\n",
       "      <th>4</th>\n",
       "      <td>get</td>\n",
       "    </tr>\n",
       "  </tbody>\n",
       "</table>\n",
       "</div>"
      ],
      "text/plain": [
       "        VOCAB_WORD\n",
       "WORD_ID           \n",
       "0             http\n",
       "1            email\n",
       "2             list\n",
       "3             free\n",
       "4              get"
      ]
     },
     "execution_count": 120,
     "metadata": {},
     "output_type": "execute_result"
    }
   ],
   "source": [
    "\n",
    "\n",
    "word_ids = list(range(0, vocab_size))\n",
    "vocab = pd.DataFrame({'VOCAB_WORD': frequent_words.index.values}, index=word_ids)\n",
    "vocab.index.name = 'WORD_ID'\n",
    "vocab.head()"
   ]
  },
  {
   "cell_type": "markdown",
   "id": "15290e83",
   "metadata": {},
   "source": [
    "# save the vocabulary as a CSV file"
   ]
  },
  {
   "cell_type": "code",
   "execution_count": 124,
   "id": "b263827f",
   "metadata": {},
   "outputs": [],
   "source": [
    "vocab.to_csv(word_id_file, index_label=df.index.name, header=vocab.VOCAB_WORD.name)\n"
   ]
  },
  {
   "cell_type": "markdown",
   "id": "6cb7c786",
   "metadata": {},
   "source": [
    "# Exercise: Checking if a Word is part of the Vocabulary"
   ]
  },
  {
   "cell_type": "code",
   "execution_count": null,
   "id": "0e4dd8e7",
   "metadata": {},
   "outputs": [],
   "source": [
    "#checking the particular word part of the vocabulary \n",
    "#machine\n",
    "#learning\n",
    "#data\n",
    "#science\n",
    "#NLP\n",
    "#app\n",
    "#development\n"
   ]
  },
  {
   "cell_type": "code",
   "execution_count": 129,
   "id": "3181a1bf",
   "metadata": {},
   "outputs": [
    {
     "data": {
      "text/plain": [
       "True"
      ]
     },
     "execution_count": 129,
     "metadata": {},
     "output_type": "execute_result"
    }
   ],
   "source": [
    "any(vocab.VOCAB_WORD == 'data')"
   ]
  },
  {
   "cell_type": "code",
   "execution_count": 128,
   "id": "5dd465d8",
   "metadata": {},
   "outputs": [
    {
     "data": {
      "text/plain": [
       "True"
      ]
     },
     "execution_count": 128,
     "metadata": {},
     "output_type": "execute_result"
    }
   ],
   "source": [
    "'data'in set(vocab.VOCAB_WORD)"
   ]
  },
  {
   "cell_type": "markdown",
   "id": "915b316d",
   "metadata": {},
   "source": [
    "# Finding the longest email"
   ]
  },
  {
   "cell_type": "code",
   "execution_count": 130,
   "id": "08d9767d",
   "metadata": {},
   "outputs": [],
   "source": [
    "#for loop \n",
    "clean_email_lengths = []\n",
    "for sublist in stemmed_nested_list:\n",
    "    clean_email_lengths.append(len(sublist))\n",
    "    "
   ]
  },
  {
   "cell_type": "code",
   "execution_count": 131,
   "id": "b162d498",
   "metadata": {},
   "outputs": [
    {
     "name": "stdout",
     "output_type": "stream",
     "text": [
      "[92, 56, 44, 206, 45, 161, 47, 162, 203, 44, 55, 23, 44, 74, 64, 235, 47, 208, 36, 56, 223, 192, 0, 93, 14, 208, 44, 18, 64, 95, 312, 56, 141, 72, 55, 1066, 48, 139, 2, 90, 78, 4, 47, 70, 44, 75, 38, 12, 38, 63, 47, 51, 71, 80, 25, 275, 36, 63, 19, 18, 14, 40, 57, 18, 77, 28, 102, 41, 226, 68, 120, 5, 52, 0, 40, 40, 208, 0, 40, 146, 62, 114, 64, 253, 1221, 49, 0, 65, 52, 145, 15, 0, 90, 70, 2, 198, 50, 50, 50, 214, 119, 43, 80, 44, 319, 243, 9, 36, 98, 26, 52, 333, 47, 42, 0, 38, 78, 97, 79, 55, 102, 34, 70, 55, 18, 129, 50, 0, 39, 74, 43, 72, 47, 80, 0, 28, 223, 97, 0, 58, 84, 214, 75, 47, 18, 104, 20, 114, 110, 187, 6, 40, 54, 79, 276, 110, 208, 6, 489, 62, 17, 175, 79, 47, 74, 82, 255, 33, 218, 38, 36, 110, 93, 61, 55, 41, 108, 80, 84, 0, 52, 1390, 108, 97, 25, 185, 1, 119, 255, 28, 137, 195, 177, 0, 98, 109, 1465, 0, 108, 150, 113, 38, 153, 38, 42, 0, 0, 383, 188, 77, 330, 14, 92, 92, 104, 372, 187, 241, 143, 254, 14, 98, 135, 223, 65, 90, 226, 217, 129, 38, 94, 204, 255, 215, 146, 205, 572, 183, 3, 67, 0, 67, 13, 19, 6083, 48, 360, 175, 50, 835, 109, 3, 183, 835, 835, 123, 1262, 1262, 408, 79, 263, 263, 8, 137, 187, 41, 266, 65, 151, 250, 152, 36, 661, 119, 3, 14, 170, 161, 157, 102, 49, 1460, 421, 97, 111, 171, 317, 2, 51, 458, 185, 89, 3, 90, 74, 34, 34, 250, 0, 37, 98, 182, 2, 20, 96, 67, 4, 177, 168, 122, 3, 329, 10, 5, 177, 740, 361, 509, 1539, 8, 63, 13, 8, 8, 130, 130, 130, 509, 0, 67, 255, 256, 256, 256, 256, 0, 132, 3, 1, 0, 142, 102, 72, 221, 25, 362, 115, 9, 52, 25, 27, 389, 6, 249, 81, 157, 119, 104, 249, 14, 247, 224, 1177, 26, 221, 162, 157, 27, 75, 0, 81, 748, 80, 35, 48, 63, 169, 104, 42, 133, 239, 157, 166, 131, 100, 72, 63, 104, 184, 184, 61, 47, 58, 65, 217, 84, 2, 31, 319, 102, 86, 118, 0, 37, 1480, 20, 15, 100, 249, 81, 144, 104, 58, 78, 83, 95, 217, 15, 90, 77, 38, 1183, 1171, 95, 27, 115, 748, 56, 90, 229, 81, 178, 27, 81, 320, 76, 128, 50, 68, 0, 34, 51, 50, 258, 247, 46, 79, 231, 38, 664, 82, 92, 8, 105, 255, 108, 32, 72, 47, 247, 126, 210, 124, 81, 252, 216, 167, 46, 36, 140, 42, 0, 323, 104, 150, 1460, 78, 147, 21, 226, 114, 79, 139, 196, 195, 673, 74, 86, 2109, 96, 90, 90, 133, 191, 269, 53, 38, 78, 342, 46, 0, 227, 302, 385, 385, 165, 22, 157, 694, 217, 52, 97, 357, 266, 78, 46, 298, 39, 39, 105, 238, 68, 72, 16, 300, 300, 262, 37, 1036, 38, 24, 19, 85, 59, 218, 80, 80, 255, 79, 1022, 1083, 58, 1213, 53, 2211, 1074, 0, 0, 36, 36, 58, 4173, 56, 235, 112, 19, 42, 48, 19, 57, 90, 83, 122, 57, 97, 97, 122, 122, 831, 231, 60, 50, 68, 122, 81, 219, 329, 1821, 492, 492, 819, 1826, 270, 158, 121, 101, 101, 492, 44, 656, 286, 137, 270, 102, 270, 287, 91, 91, 40, 88, 156, 156, 100, 53, 89, 92, 74, 35, 78, 76, 76, 223, 605, 70, 21, 66, 95, 1752, 70, 104, 19, 104, 1803, 53, 52, 77, 120, 80, 95, 40, 56, 56, 102, 52, 181, 74, 74, 71, 179, 164, 212, 91, 91, 91, 109, 1638, 40, 49, 42, 79, 80, 80, 80, 79, 79, 109, 52, 77, 9, 58, 58, 70, 223, 58, 96, 58, 71, 18, 122, 240, 566, 1, 142, 85, 50, 110, 175, 58, 49, 622, 72, 72, 172, 166, 166, 166, 32, 32, 161, 161, 161, 120, 205, 191, 190, 20, 116, 116, 116, 216, 353, 135, 75, 75, 674, 5, 49, 255, 235, 110, 68, 43, 43, 5, 220, 3, 3, 3, 250, 3, 3, 3, 3, 3, 3, 3, 47, 90, 2, 133, 170, 93, 835, 129, 5, 0, 243, 166, 392, 411, 101, 72, 199, 37, 11, 215, 2, 55, 273, 10, 12, 388, 1447, 211, 90, 7, 152, 115, 5, 5, 51, 296, 112, 253, 36, 56, 0, 0, 78, 65, 97, 64, 65, 56, 87, 273, 5, 834, 1082, 834, 403, 101, 52, 50, 329, 56, 72, 357, 49, 95, 55, 79, 35, 30, 116, 95, 105, 51, 129, 56, 100, 75, 51, 49, 32, 59, 43, 40, 135, 126, 81, 42, 59, 73, 59, 83, 426, 15, 157, 289, 255, 73, 258, 56, 385, 87, 93, 164, 45, 209, 49, 433, 72, 73, 87, 204, 49, 145, 205, 40, 40, 40, 40, 40, 40, 7, 258, 81, 83, 193, 76, 108, 1124, 18, 62, 40, 234, 191, 20, 419, 96, 145, 21, 32, 102, 19, 78, 82, 126, 53, 56, 265, 72, 238, 66, 54, 0, 26, 145, 1, 205, 31, 44, 40, 52, 72, 104, 59, 20, 50, 15, 682, 117, 55, 50, 160, 272, 212, 110, 82, 167, 175, 167, 1030, 208, 55, 23, 105, 315, 64, 214, 26, 66, 76, 7, 90, 77, 1018, 78, 31, 100, 417, 72, 170, 137, 0, 78, 417, 231, 110, 0, 49, 55, 7, 7, 110, 264, 93, 18, 179, 0, 1, 297, 83, 105, 4, 0, 155, 49, 40, 130, 59, 395, 72, 78, 50, 72, 231, 60, 216, 151, 73, 55, 66, 46, 77, 0, 171, 96, 39, 145, 201, 1447, 15, 37, 97, 105, 72, 1124, 72, 109, 333, 55, 5, 0, 78, 40, 81, 304, 0, 342, 246, 151, 144, 43, 59, 252, 58, 61, 33, 75, 75, 68, 140, 104, 78, 676, 257, 257, 128, 59, 101, 102, 68, 145, 72, 158, 7, 12, 338, 21, 103, 78, 73, 77, 93, 135, 77, 255, 148, 255, 76, 67, 56, 468, 80, 0, 487, 36, 89, 31, 386, 49, 74, 73, 119, 2, 103, 103, 73, 78, 65, 275, 68, 426, 108, 59, 5, 74, 73, 77, 29, 74, 121, 121, 31, 46, 140, 67, 151, 1098, 23, 188, 196, 196, 196, 423, 423, 32, 122, 261, 72, 105, 72, 55, 11, 110, 689, 78, 104, 53, 127, 58, 872, 43, 221, 100, 468, 97, 110, 171, 0, 78, 39, 70, 113, 154, 233, 108, 159, 28, 46, 46, 107, 8, 36, 185, 65, 41, 29, 39, 78, 11, 57, 49, 161, 65, 54, 225, 276, 56, 71, 73, 81, 97, 112, 245, 245, 528, 161, 169, 1113, 72, 11, 149, 75, 303, 303, 47, 72, 76, 168, 83, 176, 77, 57, 10, 76, 44, 57, 10, 38, 122, 262, 500, 0, 329, 32, 62, 161, 872, 1, 168, 97, 131, 65, 127, 13, 129, 181, 168, 202, 105, 298, 93, 107, 113, 72, 151, 129, 51, 239, 38, 123, 85, 688, 2, 108, 196, 108, 13, 42, 95, 117, 95, 7, 830, 120, 69, 661, 90, 53, 76, 12, 428, 91, 74, 259, 30, 4, 167, 92, 39, 488, 162, 150, 52, 92, 94, 94, 250, 56, 16, 3, 304, 0, 175, 1455, 1455, 267, 56, 58, 29, 25, 223, 84, 172, 29, 122, 2, 46, 106, 533, 46, 176, 203, 34, 38, 65, 37, 37, 71, 104, 38, 258, 96, 87, 333, 405, 17, 224, 197, 6, 129, 50, 87, 144, 76, 285, 150, 237, 67, 187, 17, 37, 16, 153, 103, 43, 113, 32, 129, 127, 60, 75, 32, 38, 77, 72, 92, 19, 30, 11, 125, 27, 17, 287, 34, 77, 25, 25, 295, 32, 46, 0, 361, 295, 68, 90, 161, 121, 25, 83, 38, 38, 265, 1017, 157, 106, 38, 18, 282, 40, 86, 108, 125, 285, 90, 106, 232, 30, 107, 25, 31, 91, 104, 84, 38, 29, 11, 47, 31, 31, 84, 351, 94, 25, 179, 36, 107, 179, 0, 51, 85, 85, 29, 28, 45, 151, 39, 313, 54, 14, 74, 85, 376, 11, 51, 376, 94, 27, 65, 96, 49, 133, 405, 94, 380, 99, 70, 184, 150, 150, 50, 140, 140, 32, 106, 72, 510, 31, 74, 144, 2134, 175, 14, 301, 269, 191, 580, 260, 33, 121, 90, 51, 230, 56, 12, 110, 30, 73, 43, 82, 1001, 110, 135, 73, 69, 37, 117, 244, 79, 313, 313, 106, 64, 262, 652, 11, 113, 113, 113, 61, 76, 274, 154, 154, 527, 11, 11, 202, 113, 79, 157, 86, 18, 11, 49, 75, 66, 167, 167, 33, 69, 204, 167, 168, 79, 437, 77, 38, 375, 72, 3, 184, 184, 157, 112, 3, 160, 102, 1463, 86, 18, 18, 25, 38, 7, 156, 2097, 30, 260, 78, 70, 362, 437, 26, 850, 31, 287, 49, 65, 149, 84, 276, 66, 209, 213, 75, 173, 66, 90, 420, 49, 44, 110, 82, 349, 50, 221, 53, 221, 75, 44, 188, 179, 64, 63, 273, 45, 77, 175, 47, 103, 114, 437, 33, 428, 187, 154, 43, 43, 191, 39, 273, 1, 291, 61, 167, 59, 420, 67, 190, 153, 153, 1478, 222, 32, 96, 25, 45, 44, 83, 76, 145, 58, 464, 167, 15, 244, 15, 112, 106, 117, 129, 89, 117, 59, 117, 6097, 145, 57, 216, 1478, 88, 62, 84, 84, 24, 88, 1767, 1767, 11, 121, 150, 40, 36, 90, 34, 71, 62, 62, 76, 76, 171, 75, 96, 59, 59, 145, 63, 140, 52, 51, 104, 76, 24, 77, 81, 81, 25, 4, 281, 33, 125, 86, 69, 80, 69, 51, 79, 70, 74, 19, 45, 729, 38, 66, 177, 72, 89, 43, 17, 38, 4, 104, 54, 328, 46, 105, 34, 17, 65, 124, 63, 1463, 346, 31, 161, 40, 104, 178, 219, 154, 38, 54, 294, 123, 213, 149, 77, 0, 80, 73, 50, 20, 51, 50, 93, 93, 152, 32, 10, 59, 14, 172, 728, 0, 241, 240, 728, 54, 69, 23, 114, 220, 31, 99, 38, 124, 23, 0, 31, 152, 27, 51, 114, 54, 1463, 38, 473, 96, 75, 4, 299, 64, 104, 24, 100, 157, 70, 100, 27, 25, 255, 38, 259, 17, 307, 59, 33, 76, 76, 54, 3, 54, 90, 70, 157, 28, 60, 1004, 122, 36, 31, 46, 150, 16, 77, 75, 40, 58, 71, 50, 239, 1306, 1306, 291, 3, 70, 17, 442, 71, 95, 67, 870, 321, 164, 80, 28, 73, 77, 79, 178, 70, 87, 124, 225, 30, 83, 77, 164, 60, 40, 3, 141, 156, 41, 157, 107, 91, 50, 54, 164, 110, 36, 287, 65, 5, 54, 266, 38, 8, 162, 1208, 10, 97, 14, 41, 122, 151, 54, 3, 3, 14, 109, 75, 62, 79, 38, 54, 10, 1175, 38, 58, 76, 54, 30, 98, 259, 18, 24, 255, 73, 120, 77, 52, 155, 382, 20, 63, 213, 1460, 79, 76, 70, 42, 0, 33, 118, 74, 121, 126, 28, 28, 332, 78, 49, 38, 130, 216, 54, 20, 23, 97, 54, 124, 51, 39, 217, 81, 33, 151, 272, 108, 1441, 135, 25, 152, 0, 186, 44, 50, 96, 232, 42, 49, 117, 218, 113, 152, 26, 175, 183, 161, 1986, 191, 0, 92, 56, 44, 206, 45, 161, 47, 162, 203, 44, 55, 23, 44, 74, 64, 235, 47, 208, 36, 56, 223, 192, 0, 93, 14, 208, 44, 18, 64, 95, 312, 56, 141, 72, 55, 1066, 48, 139, 2, 90, 78, 4, 47, 70, 44, 75, 38, 12, 38, 63, 47, 51, 71, 80, 25, 275, 36, 63, 19, 18, 14, 40, 57, 18, 77, 28, 102, 41, 226, 68, 120, 5, 52, 0, 40, 40, 208, 0, 40, 146, 62, 114, 64, 253, 1221, 49, 0, 65, 52, 145, 15, 0, 90, 70, 2, 198, 50, 50, 50, 214, 119, 43, 80, 44, 319, 243, 9, 36, 98, 26, 52, 333, 47, 42, 0, 38, 78, 97, 79, 55, 102, 34, 70, 55, 18, 129, 50, 0, 39, 74, 43, 72, 47, 80, 0, 28, 223, 97, 0, 58, 84, 214, 75, 47, 18, 104, 20, 114, 110, 187, 6, 40, 54, 79, 276, 110, 208, 6, 489, 62, 17, 175, 79, 47, 74, 82, 255, 33, 218, 38, 36, 110, 93, 61, 55, 41, 108, 80, 84, 0, 52, 1390, 108, 97, 25, 185, 1, 119, 255, 28, 137, 195, 177, 0, 98, 109, 1465, 0, 108, 150, 113, 38, 153, 38, 42, 0, 0, 383, 188, 77, 330, 14, 92, 92, 104, 372, 187, 241, 143, 254, 14, 98, 135, 223, 65, 90, 226, 217, 129, 38, 94, 204, 255, 215, 146, 205, 572, 183, 3, 67, 0, 67, 13, 19, 6083, 48, 360, 175, 50, 835, 109, 3, 183, 835, 835, 123, 1262, 1262, 408, 79, 263, 263, 8, 137, 187, 41, 266, 65, 151, 250, 152, 36, 661, 119, 3, 14, 170, 161, 157, 102, 49, 1460, 421, 97, 111, 171, 317, 2, 51, 458, 185, 89, 3, 90, 74, 34, 34, 250, 0, 37, 98, 182, 2, 20, 96, 67, 4, 177, 168, 122, 3, 329, 10, 5, 177, 740, 361, 509, 1539, 8, 63, 13, 8, 8, 130, 130, 130, 509, 0, 67, 255, 256, 256, 256, 256, 0, 132, 3, 1, 0, 142, 102, 72, 221, 25, 362, 115, 9, 52, 25, 27, 389, 6, 249, 81, 157, 119, 104, 249, 14, 247, 224, 1177, 26, 221, 162, 157, 27, 75, 0, 81, 748, 80, 35, 48, 63, 169, 104, 42, 133, 239, 157, 166, 131, 100, 72, 63, 104, 184, 184, 61, 47, 58, 65, 217, 84, 2, 31, 319, 102, 86, 118, 0, 37, 1480, 20, 15, 100, 249, 81, 144, 104, 58, 78, 83, 95, 217, 15, 90, 77, 38, 1183, 1171, 95, 27, 115, 748, 56, 90, 229, 81, 178, 27, 81, 320, 76, 128, 50, 68, 0, 34, 51, 50, 258, 247, 46, 79, 231, 38, 664, 82, 92, 8, 105, 255, 108, 32, 72, 47, 247, 126, 210, 124, 81, 252, 216, 167, 46, 36, 140, 42, 0, 323, 104, 150, 1460, 78, 147, 21, 226, 114, 79, 139, 196, 195, 673, 74, 86, 2109, 96, 90, 90, 133, 191, 269, 53, 38, 78, 342, 46, 0, 227, 302, 385, 385, 165, 22, 157, 694, 217, 52, 97, 357, 266, 78, 46, 298, 39, 39, 105, 238, 68, 72, 16, 300, 300, 262, 37, 1036, 38, 24, 19, 85, 59, 218, 80, 80, 255, 79, 1022, 1083, 58, 1213, 53, 2211, 1074, 0, 0, 36, 36, 58, 4173, 56, 235, 112, 19, 42, 48, 19, 57, 90, 83, 122, 57, 97, 97, 122, 122, 831, 231, 60, 50, 68, 122, 81, 219, 329, 1821, 492, 492, 819, 1826, 270, 158, 121, 101, 101, 492, 44, 656, 286, 137, 270, 102, 270, 287, 91, 91, 40, 88, 156, 156, 100, 53, 89, 92, 74, 35, 78, 76, 76, 223, 605, 70, 21, 66, 95, 1752, 70, 104, 19, 104, 1803, 53, 52, 77, 120, 80, 95, 40, 56, 56, 102, 52, 181, 74, 74, 71, 179, 164, 212, 91, 91, 91, 109, 1638, 40, 49, 42, 79, 80, 80, 80, 79, 79, 109, 52, 77, 9, 58, 58, 70, 223, 58, 96, 58, 71, 18, 122, 240, 566, 1, 142, 85, 50, 110, 175, 58, 49, 622, 72, 72, 172, 166, 166, 166, 32, 32, 161, 161, 161, 120, 205, 191, 190, 20, 116, 116, 116, 216, 353, 135, 75, 75, 674, 5, 49, 255, 235, 110, 68, 43, 43, 5, 220, 3, 3, 3, 250, 3, 3, 3, 3, 3, 3, 3, 47, 90, 2, 133, 170, 93, 835, 129, 5, 0, 243, 166, 392, 411, 101, 72, 199, 37, 11, 215, 2, 55, 273, 10, 12, 388, 1447, 211, 90, 7, 152, 115, 5, 5, 51, 296, 112, 253, 36, 56, 0, 0, 78, 65, 97, 64, 65, 56, 87, 273, 5, 834, 1082, 834, 403, 101, 52, 50, 329, 56, 72, 357, 49, 95, 55, 79, 35, 30, 116, 95, 105, 51, 129, 56, 100, 75, 51, 49, 32, 59, 43, 40, 135, 126, 81, 42, 59, 73, 59, 83, 426, 15, 157, 289, 255, 73, 258, 56, 385, 87, 93, 164, 45, 209, 49, 433, 72, 73, 87, 204, 49, 145, 205, 40, 40, 40, 40, 40, 40, 7, 258, 81, 83, 193, 76, 108, 1124, 18, 62, 40, 234, 191, 20, 419, 96, 145, 21, 32, 102, 19, 78, 82, 126, 53, 56, 265, 72, 238, 66, 54, 0, 26, 145, 1, 205, 31, 44, 40, 52, 72, 104, 59, 20, 50, 15, 682, 117, 55, 50, 160, 272, 212, 110, 82, 167, 175, 167, 1030, 208, 55, 23, 105, 315, 64, 214, 26, 66, 76, 7, 90, 77, 1018, 78, 31, 100, 417, 72, 170, 137, 0, 78, 417, 231, 110, 0, 49, 55, 7, 7, 110, 264, 93, 18, 179, 0, 1, 297, 83, 105, 4, 0, 155, 49, 40, 130, 59, 395, 72, 78, 50, 72, 231, 60, 216, 151, 73, 55, 66, 46, 77, 0, 171, 96, 39, 145, 201, 1447, 15, 37, 97, 105, 72, 1124, 72, 109, 333, 55, 5, 0, 78, 40, 81, 304, 0, 342, 246, 151, 144, 43, 59, 252, 58, 61, 33, 75, 75, 68, 140, 104, 78, 676, 257, 257, 128, 59, 101, 102, 68, 145, 72, 158, 7, 12, 338, 21, 103, 78, 73, 77, 93, 135, 77, 255, 148, 255, 76, 67, 56, 468, 80, 0, 487, 36, 89, 31, 386, 49, 74, 73, 119, 2, 103, 103, 73, 78, 65, 275, 68, 426, 108, 59, 5, 74, 73, 77, 29, 74, 121, 121, 31, 46, 140, 67, 151, 1098, 23, 188, 196, 196, 196, 423, 423, 32, 122, 261, 72, 105, 72, 55, 11, 110, 689, 78, 104, 53, 127, 58, 872, 43, 221, 100, 468, 97, 110, 171, 0, 78, 39, 70, 113, 154, 233, 108, 159, 28, 46, 46, 107, 8, 36, 185, 65, 41, 29, 39, 78, 11, 57, 49, 161, 65, 54, 225, 276, 56, 71, 73, 81, 97, 112, 245, 245, 528, 161, 169, 1113, 72, 11, 149, 75, 303, 303, 47, 72, 76, 168, 83, 176, 77, 57, 10, 76, 44, 57, 10, 38, 122, 262, 500, 0, 329, 32, 62, 161, 872, 1, 168, 97, 131, 65, 127, 13, 129, 181, 168, 202, 105, 298, 93, 107, 113, 72, 151, 129, 51, 239, 38, 123, 85, 688, 2, 108, 196, 108, 13, 42, 95, 117, 95, 7, 830, 120, 69, 661, 90, 53, 76, 12, 428, 91, 74, 259, 30, 4, 167, 92, 39, 488, 162, 150, 52, 92, 94, 94, 250, 56, 16, 3, 304, 0, 175, 1455, 1455, 267, 56, 58, 29, 25, 223, 84, 172, 29, 122, 2, 46, 106, 533, 46, 176, 203, 34, 38, 65, 37, 37, 71, 104, 38, 258, 96, 87, 333, 405, 17, 224, 197, 6, 129, 50, 87, 144, 76, 285, 150, 237, 67, 187, 17, 37, 16, 153, 103, 43, 113, 32, 129, 127, 60, 75, 32, 38, 77, 72, 92, 19, 30, 11, 125, 27, 17, 287, 34, 77, 25, 25, 295, 32, 46, 0, 361, 295, 68, 90, 161, 121, 25, 83, 38, 38, 265, 1017, 157, 106, 38, 18, 282, 40, 86, 108, 125, 285, 90, 106, 232, 30, 107, 25, 31, 91, 104, 84, 38, 29, 11, 47, 31, 31, 84, 351, 94, 25, 179, 36, 107, 179, 0, 51, 85, 85, 29, 28, 45, 151, 39, 313, 54, 14, 74, 85, 376, 11, 51, 376, 94, 27, 65, 96, 49, 133, 405, 94, 380, 99, 70, 184, 150, 150, 50, 140, 140, 32, 106, 72, 510, 31, 74, 144, 2134, 175, 14, 301, 269, 191, 580, 260, 33, 121, 90, 51, 230, 56, 12, 110, 30, 73, 43, 82, 1001, 110, 135, 73, 69, 37, 117, 244, 79, 313, 313, 106, 64, 262, 652, 11, 113, 113, 113, 61, 76, 274, 154, 154, 527, 11, 11, 202, 113, 79, 157, 86, 18, 11, 49, 75, 66, 167, 167, 33, 69, 204, 167, 168, 79, 437, 77, 38, 375, 72, 3, 184, 184, 157, 112, 3, 160, 102, 1463, 86, 18, 18, 25, 38, 7, 156, 2097, 30, 260, 78, 70, 362, 437, 26, 850, 31, 287, 49, 65, 149, 84, 276, 66, 209, 213, 75, 173, 66, 90, 420, 49, 44, 110, 82, 349, 50, 221, 53, 221, 75, 44, 188, 179, 64, 63, 273, 45, 77, 175, 47, 103, 114, 437, 33, 428, 187, 154, 43, 43, 191, 39, 273, 1, 291, 61, 167, 59, 420, 67, 190, 153, 153, 1478, 222, 32, 96, 25, 45, 44, 83, 76, 145, 58, 464, 167, 15, 244, 15, 112, 106, 117, 129, 89, 117, 59, 117, 6097, 145, 57, 216, 1478, 88, 62, 84, 84, 24, 88, 1767, 1767, 11, 121, 150, 40, 36, 90, 34, 71, 62, 62, 76, 76, 171, 75, 96, 59, 59, 145, 63, 140, 52, 51, 104, 76, 24, 77, 81, 81, 25, 4, 281, 33, 125, 86, 69, 80, 69, 51, 79, 70, 74, 19, 45, 729, 38, 66, 177, 72, 89, 43, 17, 38, 4, 104, 54, 328, 46, 105, 34, 17, 65, 124, 63, 1463, 346, 31, 161, 40, 104, 178, 219, 154, 38, 54, 294, 123, 213, 149, 77, 0, 80, 73, 50, 20, 51, 50, 93, 93, 152, 32, 10, 59, 14, 172, 728, 0, 241, 240, 728, 54, 69, 23, 114, 220, 31, 99, 38, 124, 23, 0, 31, 152, 27, 51, 114, 54, 1463, 38, 473, 96, 75, 4, 299, 64, 104, 24, 100, 157, 70, 100, 27, 25, 255, 38, 259, 17, 307, 59, 33, 76, 76, 54, 3, 54, 90, 70, 157, 28, 60, 1004, 122, 36, 31, 46, 150, 16, 77, 75, 40, 58, 71, 50, 239, 1306, 1306, 291, 3, 70, 17, 442, 71, 95, 67, 870, 321, 164, 80, 28, 73, 77, 79, 178, 70, 87, 124, 225, 30, 83, 77, 164, 60, 40, 3, 141, 156, 41, 157, 107, 91, 50, 54, 164, 110, 36, 287, 65, 5, 54, 266, 38, 8, 162, 1208, 10, 97, 14, 41, 122, 151, 54, 3, 3, 14, 109, 75, 62, 79, 38, 54, 10, 1175, 38, 58, 76, 54, 30, 98, 259, 18, 24, 255, 73, 120, 77, 52, 155, 382, 20, 63, 213, 1460, 79, 76, 70, 42, 0, 33, 118, 74, 121, 126, 28, 28, 332, 78, 49, 38, 130, 216, 54, 20, 23, 97, 54, 124, 51, 39, 217, 81, 33, 151, 272, 108, 1441, 135, 25, 152, 0, 186, 44, 50, 96, 232, 42, 49, 117, 218, 113, 152, 26, 175, 183, 161, 1986, 191, 0, 539, 75, 118, 574, 43, 529, 77, 196, 102, 50, 15, 82, 28, 222, 97, 222, 190, 61, 25, 111, 62, 122, 68, 66, 132, 70, 118, 103, 97, 92, 41, 161, 52, 87, 85, 109, 64, 79, 74, 65, 15, 198, 101, 64, 262, 71, 293, 45, 94, 50, 61, 65, 55, 91, 453, 525, 26, 54, 75, 172, 97, 67, 75, 100, 185, 30, 77, 47, 93, 67, 73, 149, 156, 89, 102, 52, 131, 117, 93, 48, 94, 97, 49, 114, 139, 98, 99, 129, 36, 43, 67, 99, 74, 83, 113, 105, 123, 141, 174, 207, 192, 228, 233, 94, 218, 262, 189, 184, 80, 158, 98, 133, 64, 95, 277, 57, 164, 328, 165, 142, 64, 42, 139, 29, 149, 147, 97, 29, 91, 272, 203, 280, 57, 99, 120, 107, 89, 90, 38, 240, 38, 93, 68, 122, 209, 83, 205, 199, 46, 114, 80, 94, 46, 49, 143, 129, 34, 90, 113, 128, 128, 92, 69, 125, 70, 77, 85, 31, 126, 65, 90, 54, 81, 62, 94, 27, 61, 109, 29, 33, 42, 29, 24, 79, 44, 51, 79, 71, 92, 126, 81, 51, 329, 104, 71, 243, 114, 149, 104, 311, 50, 19, 58, 73, 14, 112, 69, 30, 72, 180, 66, 33, 58, 166, 81, 244, 120, 39, 65, 96, 39, 89, 73, 55, 226, 161, 75, 72, 44, 49, 122, 106, 42, 137, 122, 58, 55, 34, 99, 161, 113, 91, 58, 74, 143, 78, 40, 201, 112, 44, 174, 42, 99, 124, 129, 69, 75, 134, 176, 95, 62, 122, 108, 91, 101, 73, 154, 75, 160, 70, 60, 210, 97, 31, 76, 55, 213, 108, 60, 172, 90, 151, 47, 129, 99, 48, 100, 112, 110, 74, 109, 76, 53, 104, 57, 78, 61, 42, 41, 70, 81, 117, 88, 83, 73, 151, 51, 42, 70, 71, 92, 60, 71, 212, 101, 106, 64, 87, 53, 51, 38, 44, 64, 37, 48, 32, 46, 203, 254, 55, 37, 26, 46, 58, 52, 43, 79, 93, 119, 83, 97, 70, 73, 127, 66, 290, 226, 66, 53, 63, 56, 25, 51, 62, 76, 319, 79, 196, 111, 346, 233, 208, 691, 137, 54, 134, 62, 82, 74, 63, 102, 34, 38, 201, 63, 48, 25, 70, 55, 37, 23, 28, 87, 229, 38, 64, 45, 51, 32, 99, 35, 69, 45, 42, 93, 34, 97, 26, 46, 49, 131, 35, 54, 221, 91, 26, 38, 23, 31, 109, 50, 68, 45, 218, 503, 21, 57, 38, 84, 26, 61, 33, 52, 72, 54, 50, 28, 79, 101, 88, 123, 33, 174, 100, 189, 76, 149, 310, 43, 26, 67, 75, 42, 80, 108, 35, 85, 81, 86, 53, 49, 68, 66, 80, 133, 107, 106, 75, 91, 66, 116, 138, 66, 62, 72, 103, 75, 53, 58, 77, 37, 34, 21, 94, 110, 41, 28, 25, 123, 126, 45, 63, 110, 88, 28, 101, 73, 108, 235, 25, 25, 24, 53, 26, 24, 71, 126, 157, 227, 265, 34, 35, 129, 42, 50, 67, 53, 82, 31, 54, 63, 22, 47, 44, 39, 54, 99, 72, 70, 60, 71, 60, 77, 52, 906, 75, 80, 92, 63, 40, 35, 44, 83, 52, 47, 57, 82, 104, 100, 59, 60, 115, 117, 127, 67, 123, 199, 81, 132, 33, 69, 41, 27, 88, 78, 87, 102, 106, 301, 48, 126, 334, 268, 89, 54, 51, 37, 71, 163, 48, 170, 68, 31, 42, 42, 119, 47, 59, 95, 27, 117, 145, 151, 189, 93, 431, 71, 397, 110, 136, 98, 148, 59, 81, 104, 89, 174, 127, 132, 122, 20, 122, 73, 178, 134, 70, 30, 77, 52, 30, 182, 48, 48, 365, 71, 93, 170, 49, 221, 74, 97, 144, 165, 126, 95, 220, 407, 123, 75, 63, 245, 109, 53, 67, 100, 112, 138, 88, 179, 55, 60, 63, 35, 317, 461, 111, 254, 254, 214, 259, 76, 96, 41, 168, 199, 148, 143, 45, 232, 39, 68, 31, 1422, 517, 390, 404, 703, 1244, 221, 32, 39, 44, 4, 38, 6, 81, 58, 57, 222, 118, 134, 157, 48, 57, 30, 112, 143, 79, 142, 124, 81, 191, 1896, 1182, 1558, 19, 37, 75, 97, 98, 30, 117, 42, 139, 85, 445, 28, 95, 633, 32, 18, 44, 25, 46, 47, 110, 284, 51, 172, 91, 191, 130, 25, 444, 46, 67, 21, 41, 11, 92, 58, 87, 100, 148, 70, 88, 122, 17, 42, 62, 43, 238, 762, 665, 67, 630, 63, 12, 106, 119, 119, 32, 26, 100, 91, 7, 31, 35, 43, 55, 85, 45, 205, 71, 19, 34, 40, 19, 34, 26, 70, 63, 123, 57, 53, 17, 278, 49, 41, 26, 51, 31, 67, 30, 277, 39, 54, 14, 65, 43, 122, 59, 50, 76, 30, 84, 30, 63, 40, 29, 22, 24, 60, 82, 45, 15, 22, 38, 29, 18, 17, 908, 2740, 77, 37, 74, 292, 98, 95, 393, 9, 51, 82, 145, 108, 38, 36, 35, 63, 799, 79, 73, 157, 92, 40, 81, 15, 97, 89, 110, 152, 221, 29, 28, 36, 27, 65, 81, 20, 25, 89, 25, 265, 229, 200, 35, 116, 31, 16, 101, 75, 35, 76, 41, 68, 42, 34, 90, 548, 142, 56, 25, 52, 52, 227, 111, 25, 26, 69, 162, 75, 47, 107, 379, 334, 55, 222, 62, 71, 175, 45, 27, 134, 96, 145, 52, 116, 474, 38, 43, 182, 136, 239, 110, 131, 60, 33, 72, 66, 280, 331, 286, 149, 7, 247, 32, 79, 42, 61, 118, 62, 24, 70, 30, 55, 115, 75, 97, 190, 105, 22, 138, 31, 74, 218, 118, 143, 19, 246, 53, 152, 68, 92, 49, 52, 91, 8, 81, 37, 74, 50, 34, 131, 49, 36, 199, 17, 133, 271, 25, 170, 34, 72, 12, 93, 1949, 393, 19, 108, 219, 57, 30, 29, 8, 49, 42, 24, 61, 259, 17, 81, 112, 55, 23, 148, 25, 180, 37, 66, 31, 183, 31, 68, 123, 68, 55, 157, 76, 57, 93, 29, 43, 91, 64, 64, 193, 514, 42, 93, 59, 133, 158, 72, 132, 33, 33, 33, 1391, 64, 137, 254, 879, 157, 24, 83, 65, 94, 320, 540, 49, 22, 31, 59, 99, 82, 69, 74, 11, 17, 340, 564, 96, 63, 31, 43, 55, 180, 159, 92, 69, 38, 108, 485, 105, 172, 63, 153, 37, 61, 1519, 79, 19, 85, 33, 54, 206, 120, 171, 86, 103, 90, 50, 59, 86, 43, 92, 193, 28, 50, 195, 146, 33, 274, 89, 551, 30, 257, 52, 319, 51, 48, 117, 43, 77, 63, 84, 135, 227, 529, 215, 102, 51, 192, 66, 33, 81, 279, 715, 573, 136, 55, 22, 237, 129, 65, 68, 88, 81, 22, 597, 720, 104, 60, 81, 23, 29, 19, 116, 12, 64, 7, 10, 18, 20, 29, 47, 35, 49, 54, 61, 70, 84, 58, 76, 83, 93, 97, 115, 128, 138, 18, 98, 81, 116, 14, 21, 62, 70, 81, 135, 67, 98, 99, 83, 107, 20, 72, 86, 128, 58, 27, 21, 49, 54, 32, 41, 43, 94, 80, 53, 46, 54, 179, 24, 47, 52, 136, 57, 87, 78, 107, 64, 81, 88, 56, 67, 107, 95, 72, 159, 169, 32, 99, 11, 47, 152, 26, 8, 19, 19, 54, 22, 54, 92, 54, 57, 317, 134, 141, 59, 148, 97, 90, 163, 92, 94, 110, 130, 15, 47, 160, 70, 37, 63, 106, 51, 92, 169, 130, 49, 91, 62, 69, 71, 23, 48, 47, 115, 24, 27, 33, 93, 87, 100, 35, 38, 45, 52, 138, 91, 67, 114, 74, 81, 55, 55, 62, 66, 75, 92, 54, 49, 238, 32, 56, 49, 263, 4, 4, 4, 115, 95, 123, 78, 33, 131, 50, 86, 91, 93, 103, 236, 384, 106, 48, 138, 109, 74, 42, 270, 69, 43, 238, 103, 59, 98, 67, 98, 58, 35, 132, 94, 23, 64, 52, 155, 6854, 518, 60, 40, 36, 141, 1091, 33, 25, 98, 51, 167, 4, 40, 86, 8, 90, 175, 97, 42, 41, 57, 73, 126, 86, 86, 128, 134, 2899, 47, 70, 159, 222, 76, 39, 40, 86, 135, 97, 8, 52, 27, 25, 329, 49, 144, 58, 87, 76, 229, 76, 234, 110, 50, 156, 120, 212, 125, 22, 17, 276, 136, 49, 7671, 99, 48, 292, 22, 74, 75, 8, 321, 1161, 149, 134, 43, 873, 18, 84, 82, 39, 273, 65, 321]\n"
     ]
    }
   ],
   "source": [
    "print(clean_email_lengths)"
   ]
  },
  {
   "cell_type": "code",
   "execution_count": 132,
   "id": "f63d127d",
   "metadata": {},
   "outputs": [
    {
     "name": "stdout",
     "output_type": "stream",
     "text": [
      "Email position in the list (and the data dataframe) 5175\n"
     ]
    }
   ],
   "source": [
    "print('Email position in the list (and the data dataframe)', np.argmax(clean_email_lengths))"
   ]
  },
  {
   "cell_type": "code",
   "execution_count": 133,
   "id": "9ac39c59",
   "metadata": {},
   "outputs": [
    {
     "data": {
      "text/plain": [
       "['yahoo',\n",
       " 'group',\n",
       " 'sponsor',\n",
       " 'dvd',\n",
       " 'free',\n",
       " 'p',\n",
       " 'join',\n",
       " 'http',\n",
       " 'new',\n",
       " 'version',\n",
       " 'unison',\n",
       " 'avail',\n",
       " 'test',\n",
       " 'incorpor',\n",
       " 'sever',\n",
       " 'small',\n",
       " 'improv',\n",
       " 'main',\n",
       " 'chang',\n",
       " 'fix',\n",
       " 'bug',\n",
       " 'potenti',\n",
       " 'seriou',\n",
       " 'safeti',\n",
       " 'consequ',\n",
       " 'small',\n",
       " 'number',\n",
       " 'user',\n",
       " 'habit',\n",
       " 'run',\n",
       " 'one',\n",
       " 'instanc',\n",
       " 'unison',\n",
       " 'time',\n",
       " 'parallel',\n",
       " 'user',\n",
       " 'strongli',\n",
       " 'encourag',\n",
       " 'upgrad',\n",
       " 'other',\n",
       " 'wait',\n",
       " 'wish',\n",
       " 'releas',\n",
       " 'includ',\n",
       " 'execut',\n",
       " 'linux',\n",
       " 'solari',\n",
       " 'window',\n",
       " 'look',\n",
       " 'maintain',\n",
       " 'moment',\n",
       " 'none',\n",
       " 'activ',\n",
       " 'develop',\n",
       " 'regularli',\n",
       " 'use',\n",
       " 'unison',\n",
       " 'window',\n",
       " 'machin',\n",
       " 'configur',\n",
       " 'properli',\n",
       " 'build',\n",
       " 'execut',\n",
       " 'export',\n",
       " 'grab',\n",
       " 'http',\n",
       " 'enjoy',\n",
       " 'benjamin',\n",
       " 'chang',\n",
       " 'sinc',\n",
       " 'ad',\n",
       " 'prefer',\n",
       " 'maxthread',\n",
       " 'use',\n",
       " 'limit',\n",
       " 'number',\n",
       " 'simultan',\n",
       " 'file',\n",
       " 'transfer',\n",
       " 'ad',\n",
       " 'backupdir',\n",
       " 'prefer',\n",
       " 'control',\n",
       " 'backup',\n",
       " 'file',\n",
       " 'store',\n",
       " 'basic',\n",
       " 'support',\n",
       " 'ad',\n",
       " 'osx',\n",
       " 'particular',\n",
       " 'unison',\n",
       " 'recogn',\n",
       " 'one',\n",
       " 'host',\n",
       " 'synchron',\n",
       " 'run',\n",
       " 'osx',\n",
       " 'switch',\n",
       " 'treatment',\n",
       " 'filenam',\n",
       " 'consid',\n",
       " 'file',\n",
       " 'osx',\n",
       " 'yet',\n",
       " 'fulli',\n",
       " 'work',\n",
       " 'howev',\n",
       " 'particular',\n",
       " 'file',\n",
       " 'resourc',\n",
       " 'fork',\n",
       " 'synchron',\n",
       " 'correctli',\n",
       " 'hash',\n",
       " 'use',\n",
       " 'form',\n",
       " 'archiv',\n",
       " 'name',\n",
       " 'also',\n",
       " 'ad',\n",
       " 'name',\n",
       " 'temp',\n",
       " 'file',\n",
       " 'creat',\n",
       " 'file',\n",
       " 'transfer',\n",
       " 'reason',\n",
       " 'updat',\n",
       " 'detect',\n",
       " 'go',\n",
       " 'silent',\n",
       " 'delet',\n",
       " 'old',\n",
       " 'temp',\n",
       " 'file',\n",
       " 'find',\n",
       " 'along',\n",
       " 'way',\n",
       " 'want',\n",
       " 'prevent',\n",
       " 'delet',\n",
       " 'temp',\n",
       " 'file',\n",
       " 'belong',\n",
       " 'instanc',\n",
       " 'unison',\n",
       " 'may',\n",
       " 'run',\n",
       " 'parallel',\n",
       " 'synchron',\n",
       " 'differ',\n",
       " 'host',\n",
       " 'thank',\n",
       " 'ruslan',\n",
       " 'ermilov',\n",
       " 'suggest',\n",
       " 'sever',\n",
       " 'small',\n",
       " 'user',\n",
       " 'interfac',\n",
       " 'improv',\n",
       " 'document',\n",
       " 'faq',\n",
       " 'bug',\n",
       " 'report',\n",
       " 'instruct',\n",
       " 'split',\n",
       " 'separ',\n",
       " 'html',\n",
       " 'page',\n",
       " 'access',\n",
       " 'directli',\n",
       " 'unison',\n",
       " 'web',\n",
       " 'page',\n",
       " 'addit',\n",
       " 'faq',\n",
       " 'particular',\n",
       " 'suggest',\n",
       " 'perform',\n",
       " 'tune',\n",
       " 'makefil',\n",
       " 'set',\n",
       " 'automat',\n",
       " 'depend',\n",
       " 'whether',\n",
       " 'find',\n",
       " 'lablgtk',\n",
       " 'instal',\n",
       " 'unison',\n",
       " 'compil',\n",
       " 'box',\n",
       " 'osx',\n",
       " 'chang',\n",
       " 'sinc',\n",
       " 'chang',\n",
       " 'profil',\n",
       " 'work',\n",
       " 'window',\n",
       " 'file',\n",
       " 'movement',\n",
       " 'optim',\n",
       " 'unison',\n",
       " 'tri',\n",
       " 'use',\n",
       " 'local',\n",
       " 'copi',\n",
       " 'instead',\n",
       " 'transfer',\n",
       " 'move',\n",
       " 'copi',\n",
       " 'file',\n",
       " 'control',\n",
       " 'boolean',\n",
       " 'option',\n",
       " 'xferbycopi',\n",
       " 'network',\n",
       " 'statist',\n",
       " 'window',\n",
       " 'transfer',\n",
       " 'rate',\n",
       " 'amount',\n",
       " 'data',\n",
       " 'transfer',\n",
       " 'nb',\n",
       " 'avail',\n",
       " 'version',\n",
       " 'symlink',\n",
       " 'work',\n",
       " 'cygwin',\n",
       " 'version',\n",
       " 'dynam',\n",
       " 'link',\n",
       " 'fix',\n",
       " 'potenti',\n",
       " 'deadlock',\n",
       " 'synchron',\n",
       " 'window',\n",
       " 'unix',\n",
       " 'small',\n",
       " 'improv',\n",
       " 'neither',\n",
       " 'tt',\n",
       " 'userprofil',\n",
       " 'tt',\n",
       " 'home',\n",
       " 'environ',\n",
       " 'variabl',\n",
       " 'set',\n",
       " 'unison',\n",
       " 'put',\n",
       " 'temporari',\n",
       " 'commit',\n",
       " 'log',\n",
       " 'call',\n",
       " 'tt',\n",
       " 'directori',\n",
       " 'name',\n",
       " 'tt',\n",
       " 'unison',\n",
       " 'environ',\n",
       " 'variabl',\n",
       " 'otherwis',\n",
       " 'use',\n",
       " 'tt',\n",
       " 'c',\n",
       " 'altern',\n",
       " 'set',\n",
       " 'valu',\n",
       " 'fastcheck',\n",
       " 'ye',\n",
       " 'true',\n",
       " 'fals',\n",
       " 'default',\n",
       " 'auto',\n",
       " 'impli',\n",
       " 'sourc',\n",
       " 'code',\n",
       " 'code',\n",
       " 'reorgan',\n",
       " 'tidi',\n",
       " 'start',\n",
       " 'break',\n",
       " 'basic',\n",
       " 'util',\n",
       " 'modul',\n",
       " 'stuff',\n",
       " 'made',\n",
       " 'avail',\n",
       " 'project',\n",
       " 'sever',\n",
       " 'makefil',\n",
       " 'doc',\n",
       " 'chang',\n",
       " 'releas',\n",
       " 'comment',\n",
       " 'connect',\n",
       " 'inform',\n",
       " 'store',\n",
       " 'global',\n",
       " 'variabl',\n",
       " 'anymor',\n",
       " 'chang',\n",
       " 'sinc',\n",
       " 'small',\n",
       " 'bugfix',\n",
       " 'textual',\n",
       " 'user',\n",
       " 'interfac',\n",
       " 'unix',\n",
       " 'avoid',\n",
       " 'leav',\n",
       " 'termin',\n",
       " 'bad',\n",
       " 'state',\n",
       " 'would',\n",
       " 'echo',\n",
       " 'input',\n",
       " 'unison',\n",
       " 'exit',\n",
       " 'chang',\n",
       " 'sinc',\n",
       " 'improv',\n",
       " 'main',\n",
       " 'web',\n",
       " 'page',\n",
       " 'stabl',\n",
       " 'beta',\n",
       " 'version',\n",
       " 'doc',\n",
       " 'access',\n",
       " 'user',\n",
       " 'manual',\n",
       " 'revis',\n",
       " 'ad',\n",
       " 'new',\n",
       " 'prefer',\n",
       " 'sshcmd',\n",
       " 'rshcmd',\n",
       " 'specifi',\n",
       " 'path',\n",
       " 'ssh',\n",
       " 'rsh',\n",
       " 'program',\n",
       " 'contactquietli',\n",
       " 'suppress',\n",
       " 'contact',\n",
       " 'server',\n",
       " 'messag',\n",
       " 'unison',\n",
       " 'startup',\n",
       " 'graphic',\n",
       " 'ui',\n",
       " 'bug',\n",
       " 'fix',\n",
       " 'fix',\n",
       " 'small',\n",
       " 'bug',\n",
       " 'ui',\n",
       " 'neglect',\n",
       " 'chang',\n",
       " 'display',\n",
       " 'column',\n",
       " 'header',\n",
       " 'load',\n",
       " 'new',\n",
       " 'profil',\n",
       " 'caus',\n",
       " 'root',\n",
       " 'chang',\n",
       " 'fix',\n",
       " 'bug',\n",
       " 'would',\n",
       " 'put',\n",
       " 'text',\n",
       " 'ui',\n",
       " 'infinit',\n",
       " 'loop',\n",
       " 'encount',\n",
       " 'conflict',\n",
       " 'run',\n",
       " 'batch',\n",
       " 'mode',\n",
       " 'ad',\n",
       " 'code',\n",
       " 'tri',\n",
       " 'fix',\n",
       " 'display',\n",
       " 'charact',\n",
       " 'filenam',\n",
       " 'window',\n",
       " 'system',\n",
       " 'gtk',\n",
       " 'ui',\n",
       " 'code',\n",
       " 'current',\n",
       " 'untest',\n",
       " 'one',\n",
       " 'peopl',\n",
       " 'report',\n",
       " 'problem',\n",
       " 'display',\n",
       " 'filenam',\n",
       " 'appreci',\n",
       " 'know',\n",
       " 'actual',\n",
       " 'fix',\n",
       " 'thing',\n",
       " 'newer',\n",
       " 'work',\n",
       " 'properli',\n",
       " 'bug',\n",
       " 'report',\n",
       " 'sebastian',\n",
       " 'urbaniak',\n",
       " 'sean',\n",
       " 'fulton',\n",
       " 'user',\n",
       " 'interfac',\n",
       " 'unison',\n",
       " 'behavior',\n",
       " 'renam',\n",
       " 'proceed',\n",
       " 'go',\n",
       " 'graphic',\n",
       " 'ui',\n",
       " 'ad',\n",
       " 'exit',\n",
       " 'statu',\n",
       " 'textual',\n",
       " 'user',\n",
       " 'interfac',\n",
       " 'path',\n",
       " 'synchron',\n",
       " 'conflict',\n",
       " 'error',\n",
       " 'updat',\n",
       " 'detect',\n",
       " 'note',\n",
       " 'log',\n",
       " 'file',\n",
       " 'end',\n",
       " 'messag',\n",
       " 'log',\n",
       " 'use',\n",
       " 'briefer',\n",
       " 'format',\n",
       " 'chang',\n",
       " 'text',\n",
       " 'ui',\n",
       " 'startup',\n",
       " 'sequenc',\n",
       " 'tt',\n",
       " 'text',\n",
       " 'use',\n",
       " 'default',\n",
       " 'profil',\n",
       " 'instead',\n",
       " 'fail',\n",
       " 'made',\n",
       " 'improv',\n",
       " 'error',\n",
       " 'messag',\n",
       " 'ad',\n",
       " 'debug',\n",
       " 'messag',\n",
       " 'chang',\n",
       " 'sinc',\n",
       " 'incorpor',\n",
       " 'transport',\n",
       " 'transfer',\n",
       " 'sever',\n",
       " 'file',\n",
       " 'time',\n",
       " 'therebi',\n",
       " 'make',\n",
       " 'much',\n",
       " 'effect',\n",
       " 'use',\n",
       " 'avail',\n",
       " 'network',\n",
       " 'bandwidth',\n",
       " 'unlik',\n",
       " 'earlier',\n",
       " 'attempt',\n",
       " 'time',\n",
       " 'reli',\n",
       " 'nativ',\n",
       " 'thread',\n",
       " 'librari',\n",
       " 'ocaml',\n",
       " 'instead',\n",
       " 'implement',\n",
       " 'librari',\n",
       " 'ocaml',\n",
       " 'directli',\n",
       " 'version',\n",
       " 'appear',\n",
       " 'stabl',\n",
       " 'adjust',\n",
       " 'unison',\n",
       " 'made',\n",
       " 'accommod',\n",
       " 'version',\n",
       " 'includ',\n",
       " 'particular',\n",
       " 'chang',\n",
       " 'user',\n",
       " 'interfac',\n",
       " 'log',\n",
       " 'exampl',\n",
       " 'two',\n",
       " 'log',\n",
       " 'entri',\n",
       " 'transfer',\n",
       " 'task',\n",
       " 'one',\n",
       " 'begin',\n",
       " 'one',\n",
       " 'end',\n",
       " 'suppress',\n",
       " 'warn',\n",
       " 'messag',\n",
       " 'remov',\n",
       " 'temp',\n",
       " 'file',\n",
       " 'left',\n",
       " 'previou',\n",
       " 'unison',\n",
       " 'run',\n",
       " 'warn',\n",
       " 'work',\n",
       " 'nice',\n",
       " 'temp',\n",
       " 'file',\n",
       " 'name',\n",
       " 'made',\n",
       " 'less',\n",
       " 'like',\n",
       " 'coincid',\n",
       " 'name',\n",
       " 'file',\n",
       " 'creat',\n",
       " 'user',\n",
       " 'take',\n",
       " 'form',\n",
       " 'ad',\n",
       " 'new',\n",
       " 'command',\n",
       " 'gtk',\n",
       " 'user',\n",
       " 'interfac',\n",
       " 'press',\n",
       " 'f',\n",
       " 'caus',\n",
       " 'unison',\n",
       " 'start',\n",
       " 'new',\n",
       " 'updat',\n",
       " 'detect',\n",
       " 'phase',\n",
       " 'use',\n",
       " 'path',\n",
       " 'path',\n",
       " 'detect',\n",
       " 'chang',\n",
       " 'yet',\n",
       " 'mark',\n",
       " 'success',\n",
       " 'complet',\n",
       " 'use',\n",
       " 'command',\n",
       " 'quickli',\n",
       " 'restart',\n",
       " 'unison',\n",
       " 'set',\n",
       " 'path',\n",
       " 'still',\n",
       " 'need',\n",
       " 'attent',\n",
       " 'previou',\n",
       " 'run',\n",
       " 'made',\n",
       " 'ignorecas',\n",
       " 'prefer',\n",
       " 'chang',\n",
       " 'initi',\n",
       " 'code',\n",
       " 'manual',\n",
       " 'set',\n",
       " 'true',\n",
       " 'even',\n",
       " 'neither',\n",
       " 'host',\n",
       " 'run',\n",
       " 'window',\n",
       " 'may',\n",
       " 'use',\n",
       " 'use',\n",
       " 'unison',\n",
       " 'run',\n",
       " 'unix',\n",
       " 'system',\n",
       " 'fat',\n",
       " 'volum',\n",
       " 'mount',\n",
       " 'small',\n",
       " 'improv',\n",
       " 'bug',\n",
       " 'fix',\n",
       " 'error',\n",
       " 'prefer',\n",
       " 'file',\n",
       " 'gener',\n",
       " 'fatal',\n",
       " 'error',\n",
       " 'rather',\n",
       " 'warn',\n",
       " 'startup',\n",
       " 'time',\n",
       " 'ca',\n",
       " 'go',\n",
       " 'also',\n",
       " 'fix',\n",
       " 'bug',\n",
       " 'prevent',\n",
       " 'warn',\n",
       " 'appear',\n",
       " 'text',\n",
       " 'ui',\n",
       " 'user',\n",
       " 'run',\n",
       " 'unsuspectingli',\n",
       " 'garbag',\n",
       " 'pref',\n",
       " 'file',\n",
       " 'may',\n",
       " 'get',\n",
       " 'error',\n",
       " 'report',\n",
       " 'error',\n",
       " 'report',\n",
       " 'prefer',\n",
       " 'file',\n",
       " 'provid',\n",
       " 'file',\n",
       " 'name',\n",
       " 'line',\n",
       " 'number',\n",
       " 'intellig',\n",
       " 'messag',\n",
       " 'case',\n",
       " 'ident',\n",
       " 'chang',\n",
       " 'file',\n",
       " 'noth',\n",
       " 'replica',\n",
       " 'chang',\n",
       " 'ident',\n",
       " 'way',\n",
       " 'sinc',\n",
       " 'last',\n",
       " 'sync',\n",
       " 'file',\n",
       " 'prefix',\n",
       " 'exclud',\n",
       " 'scan',\n",
       " 'prefer',\n",
       " 'file',\n",
       " 'rsync',\n",
       " 'instruct',\n",
       " 'send',\n",
       " 'directli',\n",
       " 'instead',\n",
       " 'first',\n",
       " 'marshal',\n",
       " 'wo',\n",
       " 'tri',\n",
       " 'forev',\n",
       " 'get',\n",
       " 'fingerprint',\n",
       " 'continu',\n",
       " 'chang',\n",
       " 'file',\n",
       " 'unison',\n",
       " 'give',\n",
       " 'certain',\n",
       " 'number',\n",
       " 'retri',\n",
       " 'bug',\n",
       " 'fix',\n",
       " 'includ',\n",
       " 'one',\n",
       " 'report',\n",
       " 'peter',\n",
       " 'seling',\n",
       " 'prefer',\n",
       " 'work',\n",
       " 'compil',\n",
       " 'upgrad',\n",
       " 'new',\n",
       " 'ocaml',\n",
       " 'compil',\n",
       " 'lablgtk',\n",
       " 'librari',\n",
       " 'patch',\n",
       " 'version',\n",
       " 'use',\n",
       " 'compil',\n",
       " 'window',\n",
       " 'ad',\n",
       " 'option',\n",
       " 'compil',\n",
       " 'unison',\n",
       " 'window',\n",
       " 'platform',\n",
       " 'cygwin',\n",
       " 'gnu',\n",
       " 'c',\n",
       " 'compil',\n",
       " 'option',\n",
       " 'support',\n",
       " 'build',\n",
       " 'dynam',\n",
       " 'link',\n",
       " 'unison',\n",
       " 'execut',\n",
       " 'chang',\n",
       " 'sinc',\n",
       " 'fix',\n",
       " 'silli',\n",
       " 'debilit',\n",
       " 'bug',\n",
       " 'client',\n",
       " 'startup',\n",
       " 'sequenc',\n",
       " 'chang',\n",
       " 'sinc',\n",
       " 'ad',\n",
       " 'addprefsto',\n",
       " 'prefer',\n",
       " 'set',\n",
       " 'control',\n",
       " 'prefer',\n",
       " 'file',\n",
       " 'new',\n",
       " 'prefer',\n",
       " 'new',\n",
       " 'ignor',\n",
       " 'pattern',\n",
       " 'ad',\n",
       " 'bug',\n",
       " 'fix',\n",
       " 'read',\n",
       " 'initi',\n",
       " 'connect',\n",
       " 'header',\n",
       " 'one',\n",
       " 'byte',\n",
       " 'time',\n",
       " 'block',\n",
       " 'header',\n",
       " 'shorter',\n",
       " 'expect',\n",
       " 'bug',\n",
       " 'affect',\n",
       " 'normal',\n",
       " 'oper',\n",
       " 'made',\n",
       " 'hard',\n",
       " 'tell',\n",
       " 'tri',\n",
       " 'use',\n",
       " 'unison',\n",
       " 'incorrectli',\n",
       " 'old',\n",
       " 'version',\n",
       " 'server',\n",
       " 'sinc',\n",
       " 'would',\n",
       " 'hang',\n",
       " 'instead',\n",
       " 'give',\n",
       " 'error',\n",
       " 'messag',\n",
       " 'chang',\n",
       " 'sinc',\n",
       " 'chang',\n",
       " 'fastcheck',\n",
       " 'boolean',\n",
       " 'string',\n",
       " 'prefer',\n",
       " 'legal',\n",
       " 'valu',\n",
       " 'ye',\n",
       " 'fast',\n",
       " 'check',\n",
       " 'safe',\n",
       " 'check',\n",
       " 'default',\n",
       " 'fast',\n",
       " 'check',\n",
       " 'also',\n",
       " 'happen',\n",
       " 'safe',\n",
       " 'run',\n",
       " 'unix',\n",
       " 'safe',\n",
       " 'check',\n",
       " 'window',\n",
       " 'default',\n",
       " 'default',\n",
       " 'sever',\n",
       " 'prefer',\n",
       " 'renam',\n",
       " 'consist',\n",
       " 'prefer',\n",
       " 'name',\n",
       " 'spell',\n",
       " 'lowercas',\n",
       " 'backward',\n",
       " 'compat',\n",
       " 'old',\n",
       " 'name',\n",
       " 'still',\n",
       " 'work',\n",
       " 'mention',\n",
       " 'manual',\n",
       " 'temp',\n",
       " 'file',\n",
       " 'creat',\n",
       " 'command',\n",
       " 'name',\n",
       " 'prepend',\n",
       " 'new',\n",
       " 'prefix',\n",
       " 'file',\n",
       " 'name',\n",
       " 'rather',\n",
       " 'append',\n",
       " 'suffix',\n",
       " 'avoid',\n",
       " 'confus',\n",
       " 'program',\n",
       " 'depend',\n",
       " 'suffix',\n",
       " 'guess',\n",
       " 'type',\n",
       " 'file',\n",
       " 'content',\n",
       " 'set',\n",
       " 'keepal',\n",
       " 'option',\n",
       " 'server',\n",
       " 'socket',\n",
       " 'make',\n",
       " 'sure',\n",
       " 'server',\n",
       " 'time',\n",
       " 'commun',\n",
       " 'link',\n",
       " 'unexpectedli',\n",
       " 'broken',\n",
       " 'bug',\n",
       " 'fix',\n",
       " 'updat',\n",
       " 'small',\n",
       " 'file',\n",
       " 'unison',\n",
       " 'close',\n",
       " 'destin',\n",
       " 'file',\n",
       " 'file',\n",
       " 'permiss',\n",
       " 'properli',\n",
       " 'updat',\n",
       " 'file',\n",
       " 'behind',\n",
       " 'follow',\n",
       " 'link',\n",
       " 'sever',\n",
       " 'small',\n",
       " 'fix',\n",
       " 'chang',\n",
       " 'sinc',\n",
       " 'major',\n",
       " 'window',\n",
       " 'perform',\n",
       " 'improv',\n",
       " 'ad',\n",
       " 'prefer',\n",
       " 'fastcheck',\n",
       " 'make',\n",
       " 'unison',\n",
       " 'look',\n",
       " 'file',\n",
       " 'creation',\n",
       " 'time',\n",
       " 'time',\n",
       " 'check',\n",
       " 'whether',\n",
       " 'chang',\n",
       " 'result',\n",
       " 'huge',\n",
       " 'speedup',\n",
       " 'check',\n",
       " 'updat',\n",
       " 'larg',\n",
       " 'replica',\n",
       " 'switch',\n",
       " 'set',\n",
       " 'unison',\n",
       " 'use',\n",
       " 'file',\n",
       " 'creation',\n",
       " 'time',\n",
       " 'inod',\n",
       " 'number',\n",
       " 'scan',\n",
       " 'window',\n",
       " 'replica',\n",
       " 'updat',\n",
       " 'instead',\n",
       " 'read',\n",
       " 'full',\n",
       " 'content',\n",
       " 'everi',\n",
       " 'file',\n",
       " 'may',\n",
       " 'caus',\n",
       " 'unison',\n",
       " 'miss',\n",
       " 'propag',\n",
       " 'updat',\n",
       " 'creat',\n",
       " 'time',\n",
       " 'modif',\n",
       " 'time',\n",
       " 'length',\n",
       " 'file',\n",
       " 'unchang',\n",
       " 'updat',\n",
       " 'easi',\n",
       " 'achiev',\n",
       " 'done',\n",
       " 'howev',\n",
       " 'unison',\n",
       " 'never',\n",
       " 'overwrit',\n",
       " 'updat',\n",
       " 'chang',\n",
       " 'replica',\n",
       " 'sinc',\n",
       " 'alway',\n",
       " 'safe',\n",
       " 'check',\n",
       " 'updat',\n",
       " 'propag',\n",
       " 'chang',\n",
       " 'thu',\n",
       " 'reason',\n",
       " 'use',\n",
       " 'switch',\n",
       " 'time',\n",
       " 'occasion',\n",
       " 'run',\n",
       " 'unison',\n",
       " 'fastcheck',\n",
       " 'set',\n",
       " 'fals',\n",
       " 'worri',\n",
       " 'unison',\n",
       " 'may',\n",
       " 'overlook',\n",
       " 'updat',\n",
       " 'warn',\n",
       " 'chang',\n",
       " 'yet',\n",
       " 'thoroughli',\n",
       " 'set',\n",
       " 'fastcheck',\n",
       " 'prefer',\n",
       " 'pay',\n",
       " 'care',\n",
       " 'attent',\n",
       " 'unison',\n",
       " 'new',\n",
       " 'function',\n",
       " 'central',\n",
       " 'backup',\n",
       " 'merg',\n",
       " 'version',\n",
       " 'incorpor',\n",
       " 'two',\n",
       " 'piec',\n",
       " 'major',\n",
       " 'new',\n",
       " 'function',\n",
       " 'implement',\n",
       " ...]"
      ]
     },
     "execution_count": 133,
     "metadata": {},
     "output_type": "execute_result"
    }
   ],
   "source": [
    " stemmed_nested_list[5175]"
   ]
  },
  {
   "cell_type": "code",
   "execution_count": 134,
   "id": "3110d4a8",
   "metadata": {},
   "outputs": [
    {
     "data": {
      "text/plain": [
       "'------------------------ Yahoo! Groups Sponsor ---------------------~-->\\n\\n4 DVDs Free +s&p Join Now\\n\\nhttp://us.click.yahoo.com/pt6YBB/NXiEAA/Ey.GAA/26EolB/TM\\n\\n---------------------------------------------------------------------~->\\n\\n\\n\\nA new version of unison is now available for testing.  It incorporates\\n\\nseveral small improvements over 2.9.1, but the main change is a fix to\\n\\na bug that had potentially serious safety consequences, but only for\\n\\nthe very small number of users that are in the habit of running more\\n\\nthan one instance of Unison at a time, in parallel.  These users are\\n\\nstrongly encouraged to upgrade.  Others can wait if they wish.\\n\\n\\n\\nThe release includes pre-built executables for Linux and Solaris, but\\n\\nnot Windows.  (We are looking for a Unison-Windows maintainer -- at\\n\\nthe moment, none of the active developers are regularly using Unison\\n\\non Windows, and we do not have a machine that is configured properly\\n\\nfor building executables for export.)\\n\\n\\n\\nGrab it from here:\\n\\n   http://www.cis.upenn.edu/~bcpierce/unison/download.html\\n\\n\\n\\nEnjoy,\\n\\n\\n\\n        -- Benjamin\\n\\n\\n\\n   Changes since 2.9.1:\\n\\n     * Added a preference maxthreads that can be used to limit the number\\n\\n       of simultaneous file transfers.\\n\\n     * Added a backupdir preference, which controls where backup files\\n\\n       are stored.\\n\\n     * Basic support added for OSX. In particular, Unison now recognizes\\n\\n       when one of the hosts being synchronized is running OSX and\\n\\n       switches to a case-insensitive treatment of filenames (i.e., \\'foo\\'\\n\\n       and \\'FOO\\' are considered to be the same file). (OSX is not yet\\n\\n       fully working, however: in particular, files with resource forks\\n\\n       will not be synchronized correctly.)\\n\\n     * The same hash used to form the archive name is now also added to\\n\\n       the names of the temp files created during file transfer. The\\n\\n       reason for this is that, during update detection, we are going to\\n\\n       silently delete any old temp files that we find along the way, and\\n\\n       we want to prevent ourselves from deleting temp files belonging to\\n\\n       other instances of Unison that may be running in parallel, e.g.\\n\\n       synchronizing with a different host. Thanks to Ruslan Ermilov for\\n\\n       this suggestion.\\n\\n     * Several small user interface improvements\\n\\n     * Documentation\\n\\n          + FAQ and bug reporting instructions have been split out as\\n\\n            separate HTML pages, accessible directly from the unison web\\n\\n            page.\\n\\n          + Additions to FAQ, in particular suggestions about performance\\n\\n            tuning.\\n\\n     * Makefile\\n\\n          + Makefile.OCaml now sets UISTYLE=text or UISTYLE=gtk\\n\\n            automatically, depending on whether it finds lablgtk\\n\\n            installed\\n\\n          + Unison should now compile ``out of the box\\'\\' under OSX\\n\\n       \\n\\n   Changes since 2.8.1:\\n\\n     * Changing profile works again under Windows\\n\\n     * File movement optimization: Unison now tries to use local copy\\n\\n       instead of transfer for moved or copied files. It is controled by\\n\\n       a boolean option ``xferbycopying\\'\\'.\\n\\n     * Network statistics window (transfer rate, amount of data\\n\\n       transferred). [NB: not available in Windows-Cygwin version.]\\n\\n     * symlinks work under the cygwin version (which is dynamically\\n\\n       linked).\\n\\n     * Fixed potential deadlock when synchronizing between Windows and\\n\\n       Unix\\n\\n     * Small improvements:\\n\\n          + If neither the\\n\\n            tt USERPROFILE nor the\\n\\n            tt HOME environment variables are set, then Unison will put\\n\\n            its temporary commit log (called\\n\\n            tt DANGER.README) into the directory named by the\\n\\n            tt UNISON environment variable, if any; otherwise it will use\\n\\n            tt C:.\\n\\n          + alternative set of values for fastcheck: yes = true; no =\\n\\n            false; default = auto.\\n\\n          + -silent implies -contactquietly\\n\\n     * Source code:\\n\\n          + Code reorganization and tidying. (Started breaking up some of\\n\\n            the basic utility modules so that the non-unison-specific\\n\\n            stuff can be made available for other projects.)\\n\\n          + several Makefile and docs changes (for release);\\n\\n          + further comments in ``update.ml\\'\\';\\n\\n          + connection information is not stored in global variables\\n\\n            anymore.\\n\\n       \\n\\n   Changes since 2.7.78:\\n\\n     * Small bugfix to textual user interface under Unix (to avoid\\n\\n       leaving the terminal in a bad state where it would not echo inputs\\n\\n       after Unison exited).\\n\\n       \\n\\n   Changes since 2.7.39:\\n\\n     * Improvements to the main web page (stable and beta version docs\\n\\n       are now both accessible).\\n\\n     * User manual revised.\\n\\n     * Added some new preferences:\\n\\n          + ``sshcmd\\'\\' and ``rshcmd\\'\\' for specifying paths to ssh and rsh\\n\\n            programs.\\n\\n          + ``contactquietly\\'\\' for suppressing the ``contacting server\\'\\'\\n\\n            message during Unison startup (under the graphical UI).\\n\\n     * Bug fixes:\\n\\n          + Fixed small bug in UI that neglected to change the displayed\\n\\n            column headers if loading a new profile caused the roots to\\n\\n            change.\\n\\n          + Fixed a bug that would put the text UI into an infinite loop\\n\\n            if it encountered a conflict when run in batch mode.\\n\\n          + Added some code to try to fix the display of non-Ascii\\n\\n            characters in filenames on Windows systems in the GTK UI.\\n\\n            (This code is currently untested---if you\\'re one of the\\n\\n            people that had reported problems with display of non-ascii\\n\\n            filenames, we\\'d appreciate knowing if this actually fixes\\n\\n            things.)\\n\\n          + `-prefer/-force newer\\' works properly now. (The bug was\\n\\n            reported by Sebastian Urbaniak and Sean Fulton.)\\n\\n     * User interface and Unison behavior:\\n\\n          + Renamed `Proceed\\' to `Go\\' in the graphical UI.\\n\\n          + Added exit status for the textual user interface.\\n\\n          + Paths that are not synchronized because of conflicts or\\n\\n            errors during update detection are now noted in the log file.\\n\\n          + [END] messages in log now use a briefer format\\n\\n          + Changed the text UI startup sequence so that\\n\\n            tt ./unison -ui text will use the default profile instead of\\n\\n            failing.\\n\\n          + Made some improvements to the error messages.\\n\\n          + Added some debugging messages to remote.ml.\\n\\n       \\n\\n   Changes since 2.7.7:\\n\\n     * Incorporated, once again, a multi-threaded transport sub-system.\\n\\n       It transfers several files at the same time, thereby making much\\n\\n       more effective use of available network bandwidth. Unlike the\\n\\n       earlier attempt, this time we do not rely on the native thread\\n\\n       library of OCaml. Instead, we implement a light-weight,\\n\\n       non-preemptive multi-thread library in OCaml directly. This\\n\\n       version appears stable.\\n\\n       Some adjustments to unison are made to accommodate the\\n\\n       multi-threaded version. These include, in particular, changes to\\n\\n       the user interface and logging, for example:\\n\\n          + Two log entries for each transferring task, one for the\\n\\n            beginning, one for the end.\\n\\n          + Suppressed warning messages against removing temp files left\\n\\n            by a previous unison run, because warning does not work\\n\\n            nicely under multi-threading. The temp file names are made\\n\\n            less likely to coincide with the name of a file created by\\n\\n            the user. They take the form\\n\\n            .#<filename>.<serial>.unison.tmp.\\n\\n     * Added a new command to the GTK user interface: pressing \\'f\\' causes\\n\\n       Unison to start a new update detection phase, using as paths just\\n\\n       those paths that have been detected as changed and not yet marked\\n\\n       as successfully completed. Use this command to quickly restart\\n\\n       Unison on just the set of paths still needing attention after a\\n\\n       previous run.\\n\\n     * Made the ignorecase preference user-visible, and changed the\\n\\n       initialization code so that it can be manually set to true, even\\n\\n       if neither host is running Windows. (This may be useful, e.g.,\\n\\n       when using Unison running on a Unix system with a FAT volume\\n\\n       mounted.)\\n\\n     * Small improvements and bug fixes:\\n\\n          + Errors in preference files now generate fatal errors rather\\n\\n            than warnings at startup time. (I.e., you can\\'t go on from\\n\\n            them.) Also, we fixed a bug that was preventing these\\n\\n            warnings from appearing in the text UI, so some users who\\n\\n            have been running (unsuspectingly) with garbage in their\\n\\n            prefs files may now get error reports.\\n\\n          + Error reporting for preference files now provides file name\\n\\n            and line number.\\n\\n          + More intelligible message in the case of identical change to\\n\\n            the same files: ``Nothing to do: replicas have been changed\\n\\n            only in identical ways since last sync.\\'\\'\\n\\n          + Files with prefix \\'.#\\' excluded when scanning for preference\\n\\n            files.\\n\\n          + Rsync instructions are send directly instead of first\\n\\n            marshaled.\\n\\n          + Won\\'t try forever to get the fingerprint of a continuously\\n\\n            changing file: unison will give up after certain number of\\n\\n            retries.\\n\\n          + Other bug fixes, including the one reported by Peter Selinger\\n\\n            (force=older preference not working).\\n\\n     * Compilation:\\n\\n          + Upgraded to the new OCaml 3.04 compiler, with the LablGtk\\n\\n            1.2.3 library (patched version used for compiling under\\n\\n            Windows).\\n\\n          + Added the option to compile unison on the Windows platform\\n\\n            with Cygwin GNU C compiler. This option only supports\\n\\n            building dynamically linked unison executables.\\n\\n       \\n\\n   Changes since 2.7.4:\\n\\n     * Fixed a silly (but debilitating) bug in the client startup\\n\\n       sequence.\\n\\n       \\n\\n   Changes since 2.7.1:\\n\\n     * Added addprefsto preference, which (when set) controls which\\n\\n       preference file new preferences (e.g. new ignore patterns) are\\n\\n       added to.\\n\\n     * Bug fix: read the initial connection header one byte at a time, so\\n\\n       that we don\\'t block if the header is shorter than expected. (This\\n\\n       bug did not affect normal operation --- it just made it hard to\\n\\n       tell when you were trying to use Unison incorrectly with an old\\n\\n       version of the server, since it would hang instead of giving an\\n\\n       error message.)\\n\\n       \\n\\n   Changes since 2.6.59:\\n\\n     * Changed fastcheck from a boolean to a string preference. Its legal\\n\\n       values are yes (for a fast check), no (for a safe check), or\\n\\n       default (for a fast check---which also happens to be safe---when\\n\\n       running on Unix and a safe check when on Windows). The default is\\n\\n       default.\\n\\n     * Several preferences have been renamed for consistency. All\\n\\n       preference names are now spelled out in lowercase. For backward\\n\\n       compatibility, the old names still work, but they are not\\n\\n       mentioned in the manual any more.\\n\\n     * The temp files created by the \\'diff\\' and \\'merge\\' commands are now\\n\\n       named by prepending a new prefix to the file name, rather than\\n\\n       appending a suffix. This should avoid confusing diff/merge\\n\\n       programs that depend on the suffix to guess the type of the file\\n\\n       contents.\\n\\n     * We now set the keepalive option on the server socket, to make sure\\n\\n       that the server times out if the communication link is\\n\\n       unexpectedly broken.\\n\\n     * Bug fixes:\\n\\n          + When updating small files, Unison now closes the destination\\n\\n            file.\\n\\n          + File permissions are properly updated when the file is behind\\n\\n            a followed link.\\n\\n          + Several other small fixes.\\n\\n       \\n\\n   Changes since 2.6.38:\\n\\n     * Major Windows performance improvement!\\n\\n       We\\'ve added a preference fastcheck that makes Unison look only at\\n\\n       a file\\'s creation time and last-modified time to check whether it\\n\\n       has changed. This should result in a huge speedup when checking\\n\\n       for updates in large replicas.\\n\\n       When this switch is set, Unison will use file creation times as\\n\\n       \\'pseudo inode numbers\\' when scanning Windows replicas for updates,\\n\\n       instead of reading the full contents of every file. This may cause\\n\\n       Unison to miss propagating an update if the create time,\\n\\n       modification time, and length of the file are all unchanged by the\\n\\n       update (this is not easy to achieve, but it can be done). However,\\n\\n       Unison will never overwrite such an update with a change from the\\n\\n       other replica, since it always does a safe check for updates just\\n\\n       before propagating a change. Thus, it is reasonable to use this\\n\\n       switch most of the time and occasionally run Unison once with\\n\\n       fastcheck set to false, if you are worried that Unison may have\\n\\n       overlooked an update.\\n\\n       Warning: This change is has not yet been thoroughly field-tested.\\n\\n       If you set the fastcheck preference, pay careful attention to what\\n\\n       Unison is doing.\\n\\n     * New functionality: centralized backups and merging\\n\\n          + This version incorporates two pieces of major new\\n\\n            functionality, implemented by Sylvain Roy during a summer\\n\\n            internship at Penn: a centralized backup facility that keeps\\n\\n            a full backup of (selected files in) each replica, and a\\n\\n            merging feature that allows Unison to invoke an external\\n\\n            file-merging tool to resolve conflicting changes to\\n\\n            individual files.\\n\\n          + Centralized backups:\\n\\n               o Unison now maintains full backups of the\\n\\n                 last-synchronized versions of (some of) the files in\\n\\n                 each replica; these function both as backups in the\\n\\n                 usual sense and as the ``common version\\'\\' when invoking\\n\\n                 external merge programs.\\n\\n               o The backed up files are stored in a directory\\n\\n                 /.unison/backup on each host. (The name of this\\n\\n                 directory can be changed by setting the environment\\n\\n                 variable UNISONBACKUPDIR.)\\n\\n               o The predicate backup controls which files are actually\\n\\n                 backed up: giving the preference \\'backup = Path *\\'\\n\\n                 causes backing up of all files.\\n\\n               o Files are added to the backup directory whenever unison\\n\\n                 updates its archive. This means that\\n\\n                    # When unison reconstructs its archive from scratch\\n\\n                      (e.g., because of an upgrade, or because the\\n\\n                      archive files have been manually deleted), all\\n\\n                      files will be backed up.\\n\\n                    # Otherwise, each file will be backed up the first\\n\\n                      time unison propagates an update for it.\\n\\n               o The preference backupversions controls how many previous\\n\\n                 versions of each file are kept. The default is 2 (i.e.,\\n\\n                 the last synchronized version plus one backup).\\n\\n               o For backward compatibility, the backups preference is\\n\\n                 also still supported, but backup is now preferred.\\n\\n               o It is OK to manually delete files from the backup\\n\\n                 directory (or to throw away the directory itself).\\n\\n                 Before unison uses any of these files for anything\\n\\n                 important, it checks that its fingerprint matches the\\n\\n                 one that it expects.\\n\\n          + Merging:\\n\\n               o Both user interfaces offer a new \\'merge\\' command,\\n\\n                 invoked by pressing \\'m\\' (with a changed file selected).\\n\\n               o The actual merging is performed by an external program.\\n\\n                 The preferences merge and merge2 control how this\\n\\n                 program is invoked. If a backup exists for this file\\n\\n                 (see the backup preference), then the merge preference\\n\\n                 is used for this purpose; otherwise merge2 is used. In\\n\\n                 both cases, the value of the preference should be a\\n\\n                 string representing the command that should be passed to\\n\\n                 a shell to invoke the merge program. Within this string,\\n\\n                 the special substrings CURRENT1, CURRENT2, NEW, and OLD\\n\\n                 may appear at any point. Unison will substitute these as\\n\\n                 follows before invoking the command:\\n\\n                    # CURRENT1 is replaced by the name of the local copy\\n\\n                      of the file;\\n\\n                    # CURRENT2 is replaced by the name of a temporary\\n\\n                      file, into which the contents of the remote copy of\\n\\n                      the file have been transferred by Unison prior to\\n\\n                      performing the merge;\\n\\n                    # NEW is replaced by the name of a temporary file\\n\\n                      that Unison expects to be written by the merge\\n\\n                      program when it finishes, giving the desired new\\n\\n                      contents of the file; and\\n\\n                    # OLD is replaced by the name of the backed up copy\\n\\n                      of the original version of the file (i.e., its\\n\\n                      state at the end of the last successful run of\\n\\n                      Unison), if one exists (applies only to merge, not\\n\\n                      merge2).\\n\\n                 For example, on Unix systems setting the merge\\n\\n                 preference to\\n\\n\\n\\n   merge = diff3 -m CURRENT1 OLD CURRENT2 > NEW\\n\\n                 will tell Unison to use the external diff3 program for\\n\\n                 merging.\\n\\n                 A large number of external merging programs are\\n\\n                 available. For example, emacs users may find the\\n\\n                 following convenient:\\n\\n\\n\\n    merge2 = emacs -q --eval \\'(ediff-merge-files \"CURRENT1\" \"CURRENT2\"\\n\\n               nil \"NEW\")\\'\\n\\n    merge = emacs -q --eval \\'(ediff-merge-files-with-ancestor\\n\\n               \"CURRENT1\" \"CURRENT2\" \"OLD\" nil \"NEW\")\\'\\n\\n                 (These commands are displayed here on two lines to avoid\\n\\n                 running off the edge of the page. In your preference\\n\\n                 file, each should be written on a single line.)\\n\\n               o If the external program exits without leaving any file\\n\\n                 at the path NEW, Unison considers the merge to have\\n\\n                 failed. If the merge program writes a file called NEW\\n\\n                 but exits with a non-zero status code, then Unison\\n\\n                 considers the merge to have succeeded but to have\\n\\n                 generated conflicts. In this case, it attempts to invoke\\n\\n                 an external editor so that the user can resolve the\\n\\n                 conflicts. The value of the editor preference controls\\n\\n                 what editor is invoked by Unison. The default is emacs.\\n\\n               o Please send us suggestions for other useful values of\\n\\n                 the merge2 and merge preferences -- we\\'d like to give\\n\\n                 several examples in the manual.\\n\\n     * Smaller changes:\\n\\n          + When one preference file includes another, unison no longer\\n\\n            adds the suffix \\'.prf\\' to the included file by default. If a\\n\\n            file with precisely the given name exists in the .unison\\n\\n            directory, it will be used; otherwise Unison will add .prf,\\n\\n            as it did before. (This change means that included preference\\n\\n            files can be named blah.include instead of blah.prf, so that\\n\\n            unison will not offer them in its \\'choose a preference file\\'\\n\\n            dialog.)\\n\\n          + For Linux systems, we now offer both a statically linked and\\n\\n            a dynamically linked executable. The static one is larger,\\n\\n            but will probably run on more systems, since it doesn\\'t\\n\\n            depend on the same versions of dynamically linked library\\n\\n            modules being available.\\n\\n          + Fixed the force and prefer preferences, which were getting\\n\\n            the propagation direction exactly backwards.\\n\\n          + Fixed a bug in the startup code that would cause unison to\\n\\n            crash when the default profile (~/.unison/default.prf) does\\n\\n            not exist.\\n\\n          + Fixed a bug where, on the run when a profile is first\\n\\n            created, Unison would confusingly display the roots in\\n\\n            reverse order in the user interface.\\n\\n     * For developers:\\n\\n          + We\\'ve added a module dependency diagram to the source\\n\\n            distribution, in src/DEPENDENCIES.ps, to help new prospective\\n\\n            developers with navigating the code.\\n\\n       \\n\\n   Changes since 2.6.11:\\n\\n     * INCOMPATIBLE CHANGE: Archive format has changed.\\n\\n     * INCOMPATIBLE CHANGE: The startup sequence has been completely\\n\\n       rewritten and greatly simplified. The main user-visible change is\\n\\n       that the defaultpath preference has been removed. Its effect can\\n\\n       be approximated by using multiple profiles, with include\\n\\n       directives to incorporate common settings. All uses of defaultpath\\n\\n       in existing profiles should be changed to path.\\n\\n       Another change in startup behavior that will affect some users is\\n\\n       that it is no longer possible to specify roots both in the profile\\n\\n       and on the command line.\\n\\n       You can achieve a similar effect, though, by breaking your profile\\n\\n       into two:\\n\\n\\n\\n\\n\\n  default.prf =\\n\\n      root = blah\\n\\n      root = foo\\n\\n      include common\\n\\n\\n\\n  common.prf =\\n\\n      <everything else>\\n\\n       Now do\\n\\n\\n\\n  unison common root1 root2\\n\\n       when you want to specify roots explicitly.\\n\\n     * The -prefer and -force options have been extended to allow users\\n\\n       to specify that files with more recent modtimes should be\\n\\n       propagated, writing either -prefer newer or -force newer. (For\\n\\n       symmetry, Unison will also accept -prefer older or -force older.)\\n\\n       The -force older/newer options can only be used when -times is\\n\\n       also set.\\n\\n       The graphical user interface provides access to these facilities\\n\\n       on a one-off basis via the Actions menu.\\n\\n     * Names of roots can now be ``aliased\\'\\' to allow replicas to be\\n\\n       relocated without changing the name of the archive file where\\n\\n       Unison stores information between runs. (This feature is for\\n\\n       experts only. See the ``Archive Files\\'\\' section of the manual for\\n\\n       more information.)\\n\\n     * Graphical user-interface:\\n\\n          + A new command is provided in the Synchronization menu for\\n\\n            switching to a new profile without restarting Unison from\\n\\n            scratch.\\n\\n          + The GUI also supports one-key shortcuts for commonly used\\n\\n            profiles. If a profile contains a preference of the form \\'key\\n\\n            = n\\', where n is a single digit, then pressing this key will\\n\\n            cause Unison to immediately switch to this profile and begin\\n\\n            synchronization again from scratch. (Any actions that may\\n\\n            have been selected for a set of changes currently being\\n\\n            displayed will be discarded.)\\n\\n          + Each profile may include a preference \\'label = <string>\\'\\n\\n            giving a descriptive string that described the options\\n\\n            selected in this profile. The string is listed along with the\\n\\n            profile name in the profile selection dialog, and displayed\\n\\n            in the top-right corner of the main Unison window.\\n\\n     * Minor:\\n\\n          + Fixed a bug that would sometimes cause the \\'diff\\' display to\\n\\n            order the files backwards relative to the main user\\n\\n            interface. (Thanks to Pascal Brisset for this fix.)\\n\\n          + On Unix systems, the graphical version of Unison will check\\n\\n            the DISPLAY variable and, if it is not set, automatically\\n\\n            fall back to the textual user interface.\\n\\n          + Synchronization paths (path preferences) are now matched\\n\\n            against the ignore preferences. So if a path is both\\n\\n            specified in a path preference and ignored, it will be\\n\\n            skipped.\\n\\n          + Numerous other bugfixes and small improvements.\\n\\n       \\n\\n   Changes since 2.6.1:\\n\\n     * The synchronization of modification times has been disabled for\\n\\n       directories.\\n\\n     * Preference files may now include lines of the form include <name>,\\n\\n       which will cause name.prf to be read at that point.\\n\\n     * The synchronization of permission between Windows and Unix now\\n\\n       works properly.\\n\\n     * A binding CYGWIN=binmode in now added to the environment so that\\n\\n       the Cygwin port of OpenSSH works properly in a non-Cygwin context.\\n\\n     * The servercmd and addversionno preferences can now be used\\n\\n       together: -addversionno appends an appropriate -NNN to the server\\n\\n       command, which is found by using the value of the -servercmd\\n\\n       preference if there is one, or else just unison.\\n\\n     * Both \\'-pref=val\\' and \\'-pref val\\' are now allowed for boolean\\n\\n       values. (The former can be used to set a preference to false.)\\n\\n     * Lot of small bugs fixed.\\n\\n       \\n\\n   Changes since 2.5.31:\\n\\n     * The log preference is now set to true by default, since the log\\n\\n       file seems useful for most users.\\n\\n     * Several miscellaneous bugfixes (most involving symlinks).\\n\\n       \\n\\n   Changes since 2.5.25:\\n\\n     * INCOMPATIBLE CHANGE: Archive format has changed (again).\\n\\n     * Several significant bugs introduced in 2.5.25 have been fixed.\\n\\n       \\n\\n   Changes since 2.5.1:\\n\\n     * INCOMPATIBLE CHANGE: Archive format has changed. Make sure you\\n\\n       synchronize your replicas before upgrading, to avoid spurious\\n\\n       conflicts. The first sync after upgrading will be slow.\\n\\n     * New functionality:\\n\\n          + Unison now synchronizes file modtimes, user-ids, and\\n\\n            group-ids.\\n\\n            These new features are controlled by a set of new\\n\\n            preferences, all of which are currently false by default.\\n\\n               o When the times preference is set to true, file\\n\\n                 modification times are propaged. (Because the\\n\\n                 representations of time may not have the same\\n\\n                 granularity on both replicas, Unison may not always be\\n\\n                 able to make the modtimes precisely equal, but it will\\n\\n                 get them as close as the operating systems involved\\n\\n                 allow.)\\n\\n               o When the owner preference is set to true, file ownership\\n\\n                 information is synchronized.\\n\\n               o When the group preference is set to true, group\\n\\n                 information is synchronized.\\n\\n               o When the numericIds preference is set to true, owner and\\n\\n                 group information is synchronized numerically. By\\n\\n                 default, owner and group numbers are converted to names\\n\\n                 on each replica and these names are synchronized. (The\\n\\n                 special user id 0 and the special group 0 are never\\n\\n                 mapped via user/group names even if this preference is\\n\\n                 not set.)\\n\\n          + Added an integer-valued preference perms that can be used to\\n\\n            control the propagation of permission bits. The value of this\\n\\n            preference is a mask indicating which permission bits should\\n\\n            be synchronized. It is set by default to 0o1777: all bits but\\n\\n            the set-uid and set-gid bits are synchronised (synchronizing\\n\\n            theses latter bits can be a security hazard). If you want to\\n\\n            synchronize all bits, you can set the value of this\\n\\n            preference to -1.\\n\\n          + Added a log preference (default false), which makes Unison\\n\\n            keep a complete record of the changes it makes to the\\n\\n            replicas. By default, this record is written to a file called\\n\\n            unison.log in the user\\'s home directory (the value of the\\n\\n            HOME environment variable). If you want it someplace else,\\n\\n            set the logfile preference to the full pathname you want\\n\\n            Unison to use.\\n\\n          + Added an ignorenot preference that maintains a set of\\n\\n            patterns for paths that should definitely not be ignored,\\n\\n            whether or not they match an ignore pattern. (That is, a path\\n\\n            will now be ignored iff it matches an ignore pattern and does\\n\\n            not match any ignorenot patterns.)\\n\\n     * User-interface improvements:\\n\\n          + Roots are now displayed in the user interface in the same\\n\\n            order as they were given on the command line or in the\\n\\n            preferences file.\\n\\n          + When the batch preference is set, the graphical user\\n\\n            interface no longer waits for user confirmation when it\\n\\n            displays a warning message: it simply pops up an advisory\\n\\n            window with a Dismiss button at the bottom and keeps on\\n\\n            going.\\n\\n          + Added a new preference for controlling how many status\\n\\n            messages are printed during update detection: statusdepth\\n\\n            controls the maximum depth for paths on the local machine\\n\\n            (longer paths are not displayed, nor are non-directory\\n\\n            paths). The value should be an integer; default is 1.\\n\\n          + Removed the trace and silent preferences. They did not seem\\n\\n            very useful, and there were too many preferences for\\n\\n            controlling output in various ways.\\n\\n          + The text UI now displays just the default command (the one\\n\\n            that will be used if the user just types <return>) instead of\\n\\n            all available commands. Typing ? will print the full list of\\n\\n            possibilities.\\n\\n          + The function that finds the canonical hostname of the local\\n\\n            host (which is used, for example, in calculating the name of\\n\\n            the archive file used to remember which files have been\\n\\n            synchronized) normally uses the gethostname operating system\\n\\n            call. However, if the environment variable\\n\\n            UNISONLOCALHOSTNAME is set, its value will now be used\\n\\n            instead. This makes it easier to use Unison in situations\\n\\n            where a machine\\'s name changes frequently (e.g., because it\\n\\n            is a laptop and gets moved around a lot).\\n\\n          + File owner and group are now displayed in the ``detail\\n\\n            window\\'\\' at the bottom of the screen, when unison is\\n\\n            configured to synchronize them.\\n\\n     * For hackers:\\n\\n          + Updated to Jacques Garrigue\\'s new version of lablgtk, which\\n\\n            means we can throw away our local patched version.\\n\\n            If you\\'re compiling the GTK version of unison from sources,\\n\\n            you\\'ll need to update your copy of lablgtk to the developers\\n\\n            release, available from\\n\\n            http://wwwfun.kurims.kyoto-u.ac.jp/soft/olabl/lablgtk.html\\n\\n            (Warning: installing lablgtk under Windows is currently a bit\\n\\n            challenging.)\\n\\n          + The TODO.txt file (in the source distribution) has been\\n\\n            cleaned up and reorganized. The list of pending tasks should\\n\\n            be much easier to make sense of, for people that may want to\\n\\n            contribute their programming energies. There is also a\\n\\n            separate file BUGS.txt for open bugs.\\n\\n          + The Tk user interface has been removed (it was not being\\n\\n            maintained and no longer compiles).\\n\\n          + The debug preference now prints quite a bit of additional\\n\\n            information that should be useful for identifying sources of\\n\\n            problems.\\n\\n          + The version number of the remote server is now checked right\\n\\n            away during the connection setup handshake, rather than\\n\\n            later. (Somebody sent a bug report of a server crash that\\n\\n            turned out to come from using inconsistent versions: better\\n\\n            to check this earlier and in a way that can\\'t crash either\\n\\n            client or server.)\\n\\n          + Unison now runs correctly on 64-bit architectures (e.g. Alpha\\n\\n            linux). We will not be distributing binaries for these\\n\\n            architectures ourselves (at least for a while) but if someone\\n\\n            would like to make them available, we\\'ll be glad to provide a\\n\\n            link to them.\\n\\n     * Bug fixes:\\n\\n          + Pattern matching (e.g. for ignore) is now case-insensitive\\n\\n            when Unison is in case-insensitive mode (i.e., when one of\\n\\n            the replicas is on a windows machine).\\n\\n          + Some people had trouble with mysterious failures during\\n\\n            propagation of updates, where files would be falsely reported\\n\\n            as having changed during synchronization. This should be\\n\\n            fixed.\\n\\n          + Numerous smaller fixes.\\n\\n       \\n\\n   Changes since 2.4.1:\\n\\n     * Added a number of \\'sorting modes\\' for the user interface. By\\n\\n       default, conflicting changes are displayed at the top, and the\\n\\n       rest of the entries are sorted in alphabetical order. This\\n\\n       behavior can be changed in the following ways:\\n\\n          + Setting the sortnewfirst preference to true causes newly\\n\\n            created files to be displayed before changed files.\\n\\n          + Setting sortbysize causes files to be displayed in increasing\\n\\n            order of size.\\n\\n          + Giving the preference sortfirst=<pattern> (where <pattern> is\\n\\n            a path descriptor in the same format as \\'ignore\\' and \\'follow\\'\\n\\n            patterns, causes paths matching this pattern to be displayed\\n\\n            first.\\n\\n          + Similarly, giving the preference sortlast=<pattern> causes\\n\\n            paths matching this pattern to be displayed last.\\n\\n       The sorting preferences are described in more detail in the user\\n\\n       manual. The sortnewfirst and sortbysize flags can also be accessed\\n\\n       from the \\'Sort\\' menu in the grpahical user interface.\\n\\n     * Added two new preferences that can be used to change unison\\'s\\n\\n       fundamental behavior to make it more like a mirroring tool instead\\n\\n       of a synchronizer.\\n\\n          + Giving the preference prefer with argument <root> (by adding\\n\\n            -prefer <root> to the command line or prefer=<root>) to your\\n\\n            profile) means that, if there is a conflict, the contents of\\n\\n            <root> should be propagated to the other replica (with no\\n\\n            questions asked). Non-conflicting changes are treated as\\n\\n            usual.\\n\\n          + Giving the preference force with argument <root> will make\\n\\n            unison resolve all differences in favor of the given root,\\n\\n            even if it was the other replica that was changed.\\n\\n       These options should be used with care! (More information is\\n\\n       available in the manual.)\\n\\n     * Small changes:\\n\\n          + Changed default answer to \\'Yes\\' in all two-button dialogs in\\n\\n            the graphical interface (this seems more intuitive).\\n\\n          + The rsync preference has been removed (it was used to\\n\\n            activate rsync compression for file transfers, but rsync\\n\\n            compression is now enabled by default).\\n\\n          + In the text user interface, the arrows indicating which\\n\\n            direction changes are being propagated are printed\\n\\n            differently when the user has overridded Unison\\'s default\\n\\n            recommendation (====> instead of ---->). This matches the\\n\\n            behavior of the graphical interface, which displays such\\n\\n            arrows in a different color.\\n\\n          + Carriage returns (Control-M\\'s) are ignored at the ends of\\n\\n            lines in profiles, for Windows compatibility.\\n\\n          + All preferences are now fully documented in the user manual.\\n\\n       \\n\\n   Changes since 2.3.12:\\n\\n     * INCOMPATIBLE CHANGE: Archive format has changed. Make sure you\\n\\n       synchronize your replicas before upgrading, to avoid spurious\\n\\n       conflicts. The first sync after upgrading will be slow.\\n\\n     * New/improved functionality:\\n\\n          + A new preference -sortbysize controls the order in which\\n\\n            changes are displayed to the user: when it is set to true,\\n\\n            the smallest changed files are displayed first. (The default\\n\\n            setting is false.)\\n\\n          + A new preference -sortnewfirst causes newly created files to\\n\\n            be listed before other updates in the user interface.\\n\\n          + We now allow the ssh protocol to specify a port.\\n\\n          + Incompatible change: The unison: protocol is deprecated, and\\n\\n            we added file: and socket:. You may have to modify your\\n\\n            profiles in the .unison directory. If a replica is specified\\n\\n            without an explicit protocol, we now assume it refers to a\\n\\n            file. (Previously \"//saul/foo\" meant to use SSH to connect to\\n\\n            saul, then access the foo directory. Now it means to access\\n\\n            saul via a remote file mechanism such as samba; the old\\n\\n            effect is now achieved by writing ssh://saul/foo.)\\n\\n          + Changed the startup sequence for the case where roots are\\n\\n            given but no profile is given on the command line. The new\\n\\n            behavior is to use the default profile (creating it if it\\n\\n            does not exist), and temporarily override its roots. The\\n\\n            manual claimed that this case would work by reading no\\n\\n            profile at all, but AFAIK this was never true.\\n\\n          + In all user interfaces, files with conflicts are always\\n\\n            listed first\\n\\n          + A new preference \\'sshversion\\' can be used to control which\\n\\n            version of ssh should be used to connect to the server. Legal\\n\\n            values are 1 and 2. (Default is empty, which will make unison\\n\\n            use whatever version of ssh is installed as the default \\'ssh\\'\\n\\n            command.)\\n\\n          + The situation when the permissions of a file was updated the\\n\\n            same on both side is now handled correctly (we used to report\\n\\n            a spurious conflict)\\n\\n     * Improvements for the Windows version:\\n\\n          + The fact that filenames are treated case-insensitively under\\n\\n            Windows should now be handled correctly. The exact behavior\\n\\n            is described in the cross-platform section of the manual.\\n\\n          + It should be possible to synchronize with Windows shares,\\n\\n            e.g., //host/drive/path.\\n\\n          + Workarounds to the bug in syncing root directories in\\n\\n            Windows. The most difficult thing to fix is an ocaml bug:\\n\\n            Unix.opendir fails on c: in some versions of Windows.\\n\\n     * Improvements to the GTK user interface (the Tk interface is no\\n\\n       longer being maintained):\\n\\n          + The UI now displays actions differently (in blue) when they\\n\\n            have been explicitly changed by the user from Unison\\'s\\n\\n            default recommendation.\\n\\n          + More colorful appearance.\\n\\n          + The initial profile selection window works better.\\n\\n          + If any transfers failed, a message to this effect is\\n\\n            displayed along with \\'Synchronization complete\\' at the end of\\n\\n            the transfer phase (in case they may have scrolled off the\\n\\n            top).\\n\\n          + Added a global progress meter, displaying the percentage of\\n\\n            total bytes that have been transferred so far.\\n\\n     * Improvements to the text user interface:\\n\\n          + The file details will be displayed automatically when a\\n\\n            conflict is been detected.\\n\\n          + when a warning is generated (e.g. for a temporary file left\\n\\n            over from a previous run of unison) Unison will no longer\\n\\n            wait for a response if it is running in -batch mode.\\n\\n          + The UI now displays a short list of possible inputs each time\\n\\n            it waits for user interaction.\\n\\n          + The UI now quits immediately (rather than looping back and\\n\\n            starting the interaction again) if the user presses \\'q\\' when\\n\\n            asked whether to propagate changes.\\n\\n          + Pressing \\'g\\' in the text user interface will proceed\\n\\n            immediately with propagating updates, without asking any more\\n\\n            questions.\\n\\n     * Documentation and installation changes:\\n\\n          + The manual now includes a FAQ, plus sections on common\\n\\n            problems and on tricks contributed by users.\\n\\n          + Both the download page and the download directory explicitly\\n\\n            say what are the current stable and beta-test version\\n\\n            numbers.\\n\\n          + The OCaml sources for the up-to-the-minute developers\\'\\n\\n            version (not guaranteed to be stable, or even to compile, at\\n\\n            any given time!) are now available from the download page.\\n\\n          + Added a subsection to the manual describing cross-platform\\n\\n            issues (case conflicts, illegal filenames)\\n\\n     * Many small bug fixes and random improvements.\\n\\n       \\n\\n   Changes since 2.3.1:\\n\\n     * Several bug fixes. The most important is a bug in the rsync module\\n\\n       that would occasionally cause change propagation to fail with a\\n\\n       \\'rename\\' error.\\n\\n       \\n\\n   Changes since 2.2:\\n\\n     * The multi-threaded transport system is now disabled by default.\\n\\n       (It is not stable enough yet.)\\n\\n     * Various bug fixes.\\n\\n     * A new experimental feature:\\n\\n       The final component of a -path argument may now be the wildcard\\n\\n       specifier *. When Unison sees such a path, it expands this path on\\n\\n       the client into into the corresponding list of paths by listing\\n\\n       the contents of that directory.\\n\\n       Note that if you use wildcard paths from the command line, you\\n\\n       will probably need to use quotes or a backslash to prevent the *\\n\\n       from being interpreted by your shell.\\n\\n       If both roots are local, the contents of the first one will be\\n\\n       used for expanding wildcard paths. (Nb: this is the first one\\n\\n       after the canonization step -- i.e., the one that is listed first\\n\\n       in the user interface -- not the one listed first on the command\\n\\n       line or in the preferences file.)\\n\\n       \\n\\n   Changes since 2.1:\\n\\n     * The transport subsystem now includes an implementation by Sylvain\\n\\n       Gommier and Norman Ramsey of Tridgell and Mackerras\\'s rsync\\n\\n       protocol. This protocol achieves much faster transfers when only a\\n\\n       small part of a large file has been changed by sending just diffs.\\n\\n       This feature is mainly helpful for transfers over slow links---on\\n\\n       fast local area networks it can actually degrade performance---so\\n\\n       we have left it off by default. Start unison with the -rsync\\n\\n       option (or put rsync=true in your preferences file) to turn it on.\\n\\n     * ``Progress bars\\'\\' are now diplayed during remote file transfers,\\n\\n       showing what percentage of each file has been transferred so far.\\n\\n     * The version numbering scheme has changed. New releases will now be\\n\\n       have numbers like 2.2.30, where the second component is\\n\\n       incremented on every significant public release and the third\\n\\n       component is the ``patch level.\\'\\'\\n\\n     * Miscellaneous improvements to the GTK-based user interface.\\n\\n     * The manual is now available in PDF format.\\n\\n     * We are experimenting with using a multi-threaded transport\\n\\n       subsystem to transfer several files at the same time, making much\\n\\n       more effective use of available network bandwidth. This feature is\\n\\n       not completely stable yet, so by default it is disabled in the\\n\\n       release version of Unison.\\n\\n       If you want to play with the multi-threaded version, you\\'ll need\\n\\n       to recompile Unison from sources (as described in the\\n\\n       documentation), setting the THREADS flag in Makefile.OCaml to\\n\\n       true. Make sure that your OCaml compiler has been installed with\\n\\n       the -with-pthreads configuration option. (You can verify this by\\n\\n       checking whether the file threads/threads.cma in the OCaml\\n\\n       standard library directory contains the string -lpthread near the\\n\\n       end.)\\n\\n       \\n\\n   Changes since 1.292:\\n\\n     * Reduced memory footprint (this is especially important during the\\n\\n       first run of unison, where it has to gather information about all\\n\\n       the files in both repositories).\\n\\n     * Fixed a bug that would cause the socket server under NT to fail\\n\\n       after the client exits.\\n\\n     * Added a SHIFT modifier to the Ignore menu shortcut keys in GTK\\n\\n       interface (to avoid hitting them accidentally).\\n\\n       \\n\\n   Changes since 1.231:\\n\\n     * Tunneling over ssh is now supported in the Windows version. See\\n\\n       the installation section of the manual for detailed instructions.\\n\\n     * The transport subsystem now includes an implementation of the\\n\\n       rsync protocol, built by Sylvain Gommier and Norman Ramsey. This\\n\\n       protocol achieves much faster transfers when only a small part of\\n\\n       a large file has been changed by sending just diffs. The rsync\\n\\n       feature is off by default in the current version. Use the -rsync\\n\\n       switch to turn it on. (Nb. We still have a lot of tuning to do:\\n\\n       you may not notice much speedup yet.)\\n\\n     * We\\'re experimenting with a multi-threaded transport subsystem,\\n\\n       written by Jerome Vouillon. The downloadable binaries are still\\n\\n       single-threaded: if you want to try the multi-threaded version,\\n\\n       you\\'ll need to recompile from sources. (Say make THREADS=true.)\\n\\n       Native thread support from the compiler is required. Use the\\n\\n       option -threads N to select the maximal number of concurrent\\n\\n       threads (default is 5). Multi-threaded and single-threaded\\n\\n       clients/servers can interoperate.\\n\\n     * A new GTK-based user interface is now available, thanks to Jacques\\n\\n       Garrigue. The Tk user interface still works, but we\\'ll be shifting\\n\\n       development effort to the GTK interface from now on.\\n\\n     * OCaml 3.00 is now required for compiling Unison from sources. The\\n\\n       modules uitk and myfileselect have been changed to use labltk\\n\\n       instead of camltk. To compile the Tk interface in Windows, you\\n\\n       must have ocaml-3.00 and tk8.3. When installing tk8.3, put it in\\n\\n       c:\\\\Tcl rather than the suggested c:\\\\Program Files\\\\Tcl, and be sure\\n\\n       to install the headers and libraries (which are not installed by\\n\\n       default).\\n\\n     * Added a new -addversionno switch, which causes unison to use\\n\\n       unison-<currentversionnumber> instead of just unison as the remote\\n\\n       server command. This allows multiple versions of unison to coexist\\n\\n       conveniently on the same server: whichever version is run on the\\n\\n       client, the same version will be selected on the server.\\n\\n       \\n\\n   Changes since 1.219:\\n\\n     * INCOMPATIBLE CHANGE: Archive format has changed. Make sure you\\n\\n       synchronize your replicas before upgrading, to avoid spurious\\n\\n       conflicts. The first sync after upgrading will be slow.\\n\\n     * This version fixes several annoying bugs, including:\\n\\n          + Some cases where propagation of file permissions was not\\n\\n            working.\\n\\n          + umask is now ignored when creating directories\\n\\n          + directories are create writable, so that a read-only\\n\\n            directory and its contents can be propagated.\\n\\n          + Handling of warnings generated by the server.\\n\\n          + Synchronizing a path whose parent is not a directory on both\\n\\n            sides is now flagged as erroneous.\\n\\n          + Fixed some bugs related to symnbolic links and nonexistant\\n\\n            roots.\\n\\n               o When a change (deletion or new contents) is propagated\\n\\n                 onto a \\'follow\\'ed symlink, the file pointed to by the\\n\\n                 link is now changed. (We used to change the link itself,\\n\\n                 which doesn\\'t fit our assertion that \\'follow\\' means the\\n\\n                 link is completely invisible)\\n\\n               o When one root did not exist, propagating the other root\\n\\n                 on top of it used to fail, becuase unison could not\\n\\n                 calculate the working directory into which to write\\n\\n                 changes. This should be fixed.\\n\\n     * A human-readable timestamp has been added to Unison\\'s archive\\n\\n       files.\\n\\n     * The semantics of Path and Name regular expressions now correspond\\n\\n       better.\\n\\n     * Some minor improvements to the text UI (e.g. a command for going\\n\\n       back to previous items)\\n\\n     * The organization of the export directory has changed --- should be\\n\\n       easier to find / download things now.\\n\\n       \\n\\n   Changes since 1.200:\\n\\n     * INCOMPATIBLE CHANGE: Archive format has changed. Make sure you\\n\\n       synchronize your replicas before upgrading, to avoid spurious\\n\\n       conflicts. The first sync after upgrading will be slow.\\n\\n     * This version has not been tested extensively on Windows.\\n\\n     * Major internal changes designed to make unison safer to run at the\\n\\n       same time as the replicas are being changed by the user.\\n\\n     * Internal performance improvements.\\n\\n       \\n\\n   Changes since 1.190:\\n\\n     * INCOMPATIBLE CHANGE: Archive format has changed. Make sure you\\n\\n       synchronize your replicas before upgrading, to avoid spurious\\n\\n       conflicts. The first sync after upgrading will be slow.\\n\\n     * A number of internal functions have been changed to reduce the\\n\\n       amount of memory allocation, especially during the first\\n\\n       synchronization. This should help power users with very big\\n\\n       replicas.\\n\\n     * Reimplementation of low-level remote procedure call stuff, in\\n\\n       preparation for adding rsync-like smart file transfer in a later\\n\\n       release.\\n\\n     * Miscellaneous bug fixes.\\n\\n       \\n\\n   Changes since 1.180:\\n\\n     * INCOMPATIBLE CHANGE: Archive format has changed. Make sure you\\n\\n       synchronize your replicas before upgrading, to avoid spurious\\n\\n       conflicts. The first sync after upgrading will be slow.\\n\\n     * Fixed some small bugs in the interpretation of ignore patterns.\\n\\n     * Fixed some problems that were preventing the Windows version from\\n\\n       working correctly when click-started.\\n\\n     * Fixes to treatment of file permissions under Windows, which were\\n\\n       causing spurious reports of different permissions when\\n\\n       synchronizing between windows and unix systems.\\n\\n     * Fixed one more non-tail-recursive list processing function, which\\n\\n       was causing stack overflows when synchronizing very large\\n\\n       replicas.\\n\\n       \\n\\n   Changes since 1.169:\\n\\n     * The text user interface now provides commands for ignoring files.\\n\\n     * We found and fixed some more non-tail-recursive list processing\\n\\n       functions. Some power users have reported success with very large\\n\\n       replicas.\\n\\n     * INCOMPATIBLE CHANGE: Files ending in .tmp are no longer ignored\\n\\n       automatically. If you want to ignore such files, put an\\n\\n       appropriate ignore pattern in your profile.\\n\\n     * INCOMPATIBLE CHANGE: The syntax of ignore and follow patterns has\\n\\n       changed. Instead of putting a line of the form\\n\\n\\n\\n                 ignore = <regexp>\\n\\n       in your profile (.unison/default.prf), you should put:\\n\\n\\n\\n                 ignore = Regexp <regexp>\\n\\n       Moreover, two other styles of pattern are also recognized:\\n\\n\\n\\n                 ignore = Name <name>\\n\\n       matches any path in which one component matches <name>, while\\n\\n\\n\\n                 ignore = Path <path>\\n\\n       matches exactly the path <path>.\\n\\n       Standard ``globbing\\'\\' conventions can be used in <name> and\\n\\n       <path>:\\n\\n          + a ? matches any single character except /\\n\\n          + a * matches any sequence of characters not including /\\n\\n          + [xyz] matches any character from the set {x, y, z }\\n\\n          + {a,bb,ccc} matches any one of a, bb, or ccc.\\n\\n       See the user manual for some examples.\\n\\n       \\n\\n   Changes since 1.146:\\n\\n     * Some users were reporting stack overflows when synchronizing huge\\n\\n       directories. We found and fixed some non-tail-recursive list\\n\\n       processing functions, which we hope will solve the problem. Please\\n\\n       give it a try and let us know.\\n\\n     * Major additions to the documentation.\\n\\n       \\n\\n   Changes since 1.142:\\n\\n     * Major internal tidying and many small bugfixes.\\n\\n     * Major additions to the user manual.\\n\\n     * Unison can now be started with no arguments -- it will prompt\\n\\n       automatically for the name of a profile file containing the roots\\n\\n       to be synchronized. This makes it possible to start the graphical\\n\\n       UI from a desktop icon.\\n\\n     * Fixed a small bug where the text UI on NT was raising a \\'no such\\n\\n       signal\\' exception.\\n\\n       \\n\\n   Changes since 1.139:\\n\\n     * The precompiled windows binary in the last release was compiled\\n\\n       with an old OCaml compiler, causing propagation of permissions not\\n\\n       to work (and perhaps leading to some other strange behaviors we\\'ve\\n\\n       heard reports about). This has been corrected. If you\\'re using\\n\\n       precompiled binaries on Windows, please upgrade.\\n\\n     * Added a -debug command line flag, which controls debugging of\\n\\n       various modules. Say -debug XXX to enable debug tracing for module\\n\\n       XXX, or -debug all to turn on absolutely everything.\\n\\n     * Fixed a small bug where the text UI on NT was raising a \\'no such\\n\\n       signal\\' exception.\\n\\n       \\n\\n   Changes since 1.111:\\n\\n     * INCOMPATIBLE CHANGE: The names and formats of the preference files\\n\\n       in the .unison directory have changed. In particular:\\n\\n          + the file ``prefs\\'\\' should be renamed to default.prf\\n\\n          + the contents of the file ``ignore\\'\\' should be merged into\\n\\n            default.prf. Each line of the form REGEXP in ignore should\\n\\n            become a line of the form ignore = REGEXP in default.prf.\\n\\n     * Unison now handles permission bits and symbolic links. See the\\n\\n       manual for details.\\n\\n     * You can now have different preference files in your .unison\\n\\n       directory. If you start unison like this\\n\\n\\n\\n             unison profilename\\n\\n       (i.e. with just one ``anonymous\\'\\' command-line argument), then the\\n\\n       file ~/.unison/profilename.prf will be loaded instead of\\n\\n       default.prf.\\n\\n     * Some improvements to terminal handling in the text user interface\\n\\n     * Added a switch -killServer that terminates the remote server\\n\\n       process when the unison client is shutting down, even when using\\n\\n       sockets for communication. (By default, a remote server created\\n\\n       using ssh/rsh is terminated automatically, while a socket server\\n\\n       is left running.)\\n\\n     * When started in \\'socket server\\' mode, unison prints \\'server\\n\\n       started\\' on stderr when it is ready to accept connections. (This\\n\\n       may be useful for scripts that want to tell when a socket-mode\\n\\n       server has finished initalization.)\\n\\n     * We now make a nightly mirror of our current internal development\\n\\n       tree, in case anyone wants an up-to-the-minute version to hack\\n\\n       around with.\\n\\n     * Added a file CONTRIB with some suggestions for how to help us make\\n\\n       Unison better.\\n\\n       \\n\\n\\n\\n\\n\\nChanges in Version 2.9.20\\n\\n\\n\\n   Changes since 2.9.1:\\n\\n     * Added a preference maxthreads that can be used to limit the number\\n\\n       of simultaneous file transfers.\\n\\n     * Added a backupdir preference, which controls where backup files\\n\\n       are stored.\\n\\n     * Basic support added for OSX. In particular, Unison now recognizes\\n\\n       when one of the hosts being synchronized is running OSX and\\n\\n       switches to a case-insensitive treatment of filenames (i.e., \\'foo\\'\\n\\n       and \\'FOO\\' are considered to be the same file). (OSX is not yet\\n\\n       fully working, however: in particular, files with resource forks\\n\\n       will not be synchronized correctly.)\\n\\n     * The same hash used to form the archive name is now also added to\\n\\n       the names of the temp files created during file transfer. The\\n\\n       reason for this is that, during update detection, we are going to\\n\\n       silently delete any old temp files that we find along the way, and\\n\\n       we want to prevent ourselves from deleting temp files belonging to\\n\\n       other instances of Unison that may be running in parallel, e.g.\\n\\n       synchronizing with a different host. Thanks to Ruslan Ermilov for\\n\\n       this suggestion.\\n\\n     * Several small user interface improvements\\n\\n     * Documentation\\n\\n          + FAQ and bug reporting instructions have been split out as\\n\\n            separate HTML pages, accessible directly from the unison web\\n\\n            page.\\n\\n          + Additions to FAQ, in particular suggestions about performance\\n\\n            tuning.\\n\\n     * Makefile\\n\\n          + Makefile.OCaml now sets UISTYLE=text or UISTYLE=gtk\\n\\n            automatically, depending on whether it finds lablgtk\\n\\n            installed\\n\\n          + Unison should now compile ``out of the box\\'\\' under OSX\\n\\n       \\n\\n   Changes since 2.8.1:\\n\\n     * Changing profile works again under Windows\\n\\n     * File movement optimization: Unison now tries to use local copy\\n\\n       instead of transfer for moved or copied files. It is controled by\\n\\n       a boolean option ``xferbycopying\\'\\'.\\n\\n     * Network statistics window (transfer rate, amount of data\\n\\n       transferred). [NB: not available in Windows-Cygwin version.]\\n\\n     * symlinks work under the cygwin version (which is dynamically\\n\\n       linked).\\n\\n     * Fixed potential deadlock when synchronizing between Windows and\\n\\n       Unix\\n\\n     * Small improvements:\\n\\n          + If neither the\\n\\n            tt USERPROFILE nor the\\n\\n            tt HOME environment variables are set, then Unison will put\\n\\n            its temporary commit log (called\\n\\n            tt DANGER.README) into the directory named by the\\n\\n            tt UNISON environment variable, if any; otherwise it will use\\n\\n            tt C:.\\n\\n          + alternative set of values for fastcheck: yes = true; no =\\n\\n            false; default = auto.\\n\\n          + -silent implies -contactquietly\\n\\n     * Source code:\\n\\n          + Code reorganization and tidying. (Started breaking up some of\\n\\n            the basic utility modules so that the non-unison-specific\\n\\n            stuff can be made available for other projects.)\\n\\n          + several Makefile and docs changes (for release);\\n\\n          + further comments in ``update.ml\\'\\';\\n\\n          + connection information is not stored in global variables\\n\\n            anymore.\\n\\n       \\n\\n   Changes since 2.7.78:\\n\\n     * Small bugfix to textual user interface under Unix (to avoid\\n\\n       leaving the terminal in a bad state where it would not echo inputs\\n\\n       after Unison exited).\\n\\n       \\n\\n   Changes since 2.7.39:\\n\\n     * Improvements to the main web page (stable and beta version docs\\n\\n       are now both accessible).\\n\\n     * User manual revised.\\n\\n     * Added some new preferences:\\n\\n          + ``sshcmd\\'\\' and ``rshcmd\\'\\' for specifying paths to ssh and rsh\\n\\n            programs.\\n\\n          + ``contactquietly\\'\\' for suppressing the ``contacting server\\'\\'\\n\\n            message during Unison startup (under the graphical UI).\\n\\n     * Bug fixes:\\n\\n          + Fixed small bug in UI that neglected to change the displayed\\n\\n            column headers if loading a new profile caused the roots to\\n\\n            change.\\n\\n          + Fixed a bug that would put the text UI into an infinite loop\\n\\n            if it encountered a conflict when run in batch mode.\\n\\n          + Added some code to try to fix the display of non-Ascii\\n\\n            characters in filenames on Windows systems in the GTK UI.\\n\\n            (This code is currently untested---if you\\'re one of the\\n\\n            people that had reported problems with display of non-ascii\\n\\n            filenames, we\\'d appreciate knowing if this actually fixes\\n\\n            things.)\\n\\n          + `-prefer/-force newer\\' works properly now. (The bug was\\n\\n            reported by Sebastian Urbaniak and Sean Fulton.)\\n\\n     * User interface and Unison behavior:\\n\\n          + Renamed `Proceed\\' to `Go\\' in the graphical UI.\\n\\n          + Added exit status for the textual user interface.\\n\\n          + Paths that are not synchronized because of conflicts or\\n\\n            errors during update detection are now noted in the log file.\\n\\n          + [END] messages in log now use a briefer format\\n\\n          + Changed the text UI startup sequence so that\\n\\n            tt ./unison -ui text will use the default profile instead of\\n\\n            failing.\\n\\n          + Made some improvements to the error messages.\\n\\n          + Added some debugging messages to remote.ml.\\n\\n       \\n\\n   Changes since 2.7.7:\\n\\n     * Incorporated, once again, a multi-threaded transport sub-system.\\n\\n       It transfers several files at the same time, thereby making much\\n\\n       more effective use of available network bandwidth. Unlike the\\n\\n       earlier attempt, this time we do not rely on the native thread\\n\\n       library of OCaml. Instead, we implement a light-weight,\\n\\n       non-preemptive multi-thread library in OCaml directly. This\\n\\n       version appears stable.\\n\\n       Some adjustments to unison are made to accommodate the\\n\\n       multi-threaded version. These include, in particular, changes to\\n\\n       the user interface and logging, for example:\\n\\n          + Two log entries for each transferring task, one for the\\n\\n            beginning, one for the end.\\n\\n          + Suppressed warning messages against removing temp files left\\n\\n            by a previous unison run, because warning does not work\\n\\n            nicely under multi-threading. The temp file names are made\\n\\n            less likely to coincide with the name of a file created by\\n\\n            the user. They take the form\\n\\n            .#<filename>.<serial>.unison.tmp.\\n\\n     * Added a new command to the GTK user interface: pressing \\'f\\' causes\\n\\n       Unison to start a new update detection phase, using as paths just\\n\\n       those paths that have been detected as changed and not yet marked\\n\\n       as successfully completed. Use this command to quickly restart\\n\\n       Unison on just the set of paths still needing attention after a\\n\\n       previous run.\\n\\n     * Made the ignorecase preference user-visible, and changed the\\n\\n       initialization code so that it can be manually set to true, even\\n\\n       if neither host is running Windows. (This may be useful, e.g.,\\n\\n       when using Unison running on a Unix system with a FAT volume\\n\\n       mounted.)\\n\\n     * Small improvements and bug fixes:\\n\\n          + Errors in preference files now generate fatal errors rather\\n\\n            than warnings at startup time. (I.e., you can\\'t go on from\\n\\n            them.) Also, we fixed a bug that was preventing these\\n\\n            warnings from appearing in the text UI, so some users who\\n\\n            have been running (unsuspectingly) with garbage in their\\n\\n            prefs files may now get error reports.\\n\\n          + Error reporting for preference files now provides file name\\n\\n            and line number.\\n\\n          + More intelligible message in the case of identical change to\\n\\n            the same files: ``Nothing to do: replicas have been changed\\n\\n            only in identical ways since last sync.\\'\\'\\n\\n          + Files with prefix \\'.#\\' excluded when scanning for preference\\n\\n            files.\\n\\n          + Rsync instructions are send directly instead of first\\n\\n            marshaled.\\n\\n          + Won\\'t try forever to get the fingerprint of a continuously\\n\\n            changing file: unison will give up after certain number of\\n\\n            retries.\\n\\n          + Other bug fixes, including the one reported by Peter Selinger\\n\\n            (force=older preference not working).\\n\\n     * Compilation:\\n\\n          + Upgraded to the new OCaml 3.04 compiler, with the LablGtk\\n\\n            1.2.3 library (patched version used for compiling under\\n\\n            Windows).\\n\\n          + Added the option to compile unison on the Windows platform\\n\\n            with Cygwin GNU C compiler. This option only supports\\n\\n            building dynamically linked unison executables.\\n\\n       \\n\\n   Changes since 2.7.4:\\n\\n     * Fixed a silly (but debilitating) bug in the client startup\\n\\n       sequence.\\n\\n       \\n\\n   Changes since 2.7.1:\\n\\n     * Added addprefsto preference, which (when set) controls which\\n\\n       preference file new preferences (e.g. new ignore patterns) are\\n\\n       added to.\\n\\n     * Bug fix: read the initial connection header one byte at a time, so\\n\\n       that we don\\'t block if the header is shorter than expected. (This\\n\\n       bug did not affect normal operation --- it just made it hard to\\n\\n       tell when you were trying to use Unison incorrectly with an old\\n\\n       version of the server, since it would hang instead of giving an\\n\\n       error message.)\\n\\n       \\n\\n   Changes since 2.6.59:\\n\\n     * Changed fastcheck from a boolean to a string preference. Its legal\\n\\n       values are yes (for a fast check), no (for a safe check), or\\n\\n       default (for a fast check---which also happens to be safe---when\\n\\n       running on Unix and a safe check when on Windows). The default is\\n\\n       default.\\n\\n     * Several preferences have been renamed for consistency. All\\n\\n       preference names are now spelled out in lowercase. For backward\\n\\n       compatibility, the old names still work, but they are not\\n\\n       mentioned in the manual any more.\\n\\n     * The temp files created by the \\'diff\\' and \\'merge\\' commands are now\\n\\n       named by prepending a new prefix to the file name, rather than\\n\\n       appending a suffix. This should avoid confusing diff/merge\\n\\n       programs that depend on the suffix to guess the type of the file\\n\\n       contents.\\n\\n     * We now set the keepalive option on the server socket, to make sure\\n\\n       that the server times out if the communication link is\\n\\n       unexpectedly broken.\\n\\n     * Bug fixes:\\n\\n          + When updating small files, Unison now closes the destination\\n\\n            file.\\n\\n          + File permissions are properly updated when the file is behind\\n\\n            a followed link.\\n\\n          + Several other small fixes.\\n\\n       \\n\\n   Changes since 2.6.38:\\n\\n     * Major Windows performance improvement!\\n\\n       We\\'ve added a preference fastcheck that makes Unison look only at\\n\\n       a file\\'s creation time and last-modified time to check whether it\\n\\n       has changed. This should result in a huge speedup when checking\\n\\n       for updates in large replicas.\\n\\n       When this switch is set, Unison will use file creation times as\\n\\n       \\'pseudo inode numbers\\' when scanning Windows replicas for updates,\\n\\n       instead of reading the full contents of every file. This may cause\\n\\n       Unison to miss propagating an update if the create time,\\n\\n       modification time, and length of the file are all unchanged by the\\n\\n       update (this is not easy to achieve, but it can be done). However,\\n\\n       Unison will never overwrite such an update with a change from the\\n\\n       other replica, since it always does a safe check for updates just\\n\\n       before propagating a change. Thus, it is reasonable to use this\\n\\n       switch most of the time and occasionally run Unison once with\\n\\n       fastcheck set to false, if you are worried that Unison may have\\n\\n       overlooked an update.\\n\\n       Warning: This change is has not yet been thoroughly field-tested.\\n\\n       If you set the fastcheck preference, pay careful attention to what\\n\\n       Unison is doing.\\n\\n     * New functionality: centralized backups and merging\\n\\n          + This version incorporates two pieces of major new\\n\\n            functionality, implemented by Sylvain Roy during a summer\\n\\n            internship at Penn: a centralized backup facility that keeps\\n\\n            a full backup of (selected files in) each replica, and a\\n\\n            merging feature that allows Unison to invoke an external\\n\\n            file-merging tool to resolve conflicting changes to\\n\\n            individual files.\\n\\n          + Centralized backups:\\n\\n               o Unison now maintains full backups of the\\n\\n                 last-synchronized versions of (some of) the files in\\n\\n                 each replica; these function both as backups in the\\n\\n                 usual sense and as the ``common version\\'\\' when invoking\\n\\n                 external merge programs.\\n\\n               o The backed up files are stored in a directory\\n\\n                 /.unison/backup on each host. (The name of this\\n\\n                 directory can be changed by setting the environment\\n\\n                 variable UNISONBACKUPDIR.)\\n\\n               o The predicate backup controls which files are actually\\n\\n                 backed up: giving the preference \\'backup = Path *\\'\\n\\n                 causes backing up of all files.\\n\\n               o Files are added to the backup directory whenever unison\\n\\n                 updates its archive. This means that\\n\\n                    # When unison reconstructs its archive from scratch\\n\\n                      (e.g., because of an upgrade, or because the\\n\\n                      archive files have been manually deleted), all\\n\\n                      files will be backed up.\\n\\n                    # Otherwise, each file will be backed up the first\\n\\n                      time unison propagates an update for it.\\n\\n               o The preference backupversions controls how many previous\\n\\n                 versions of each file are kept. The default is 2 (i.e.,\\n\\n                 the last synchronized version plus one backup).\\n\\n               o For backward compatibility, the backups preference is\\n\\n                 also still supported, but backup is now preferred.\\n\\n               o It is OK to manually delete files from the backup\\n\\n                 directory (or to throw away the directory itself).\\n\\n                 Before unison uses any of these files for anything\\n\\n                 important, it checks that its fingerprint matches the\\n\\n                 one that it expects.\\n\\n          + Merging:\\n\\n               o Both user interfaces offer a new \\'merge\\' command,\\n\\n                 invoked by pressing \\'m\\' (with a changed file selected).\\n\\n               o The actual merging is performed by an external program.\\n\\n                 The preferences merge and merge2 control how this\\n\\n                 program is invoked. If a backup exists for this file\\n\\n                 (see the backup preference), then the merge preference\\n\\n                 is used for this purpose; otherwise merge2 is used. In\\n\\n                 both cases, the value of the preference should be a\\n\\n                 string representing the command that should be passed to\\n\\n                 a shell to invoke the merge program. Within this string,\\n\\n                 the special substrings CURRENT1, CURRENT2, NEW, and OLD\\n\\n                 may appear at any point. Unison will substitute these as\\n\\n                 follows before invoking the command:\\n\\n                    # CURRENT1 is replaced by the name of the local copy\\n\\n                      of the file;\\n\\n                    # CURRENT2 is replaced by the name of a temporary\\n\\n                      file, into which the contents of the remote copy of\\n\\n                      the file have been transferred by Unison prior to\\n\\n                      performing the merge;\\n\\n                    # NEW is replaced by the name of a temporary file\\n\\n                      that Unison expects to be written by the merge\\n\\n                      program when it finishes, giving the desired new\\n\\n                      contents of the file; and\\n\\n                    # OLD is replaced by the name of the backed up copy\\n\\n                      of the original version of the file (i.e., its\\n\\n                      state at the end of the last successful run of\\n\\n                      Unison), if one exists (applies only to merge, not\\n\\n                      merge2).\\n\\n                 For example, on Unix systems setting the merge\\n\\n                 preference to\\n\\n\\n\\n   merge = diff3 -m CURRENT1 OLD CURRENT2 > NEW\\n\\n                 will tell Unison to use the external diff3 program for\\n\\n                 merging.\\n\\n                 A large number of external merging programs are\\n\\n                 available. For example, emacs users may find the\\n\\n                 following convenient:\\n\\n\\n\\n    merge2 = emacs -q --eval \\'(ediff-merge-files \"CURRENT1\" \"CURRENT2\"\\n\\n               nil \"NEW\")\\'\\n\\n    merge = emacs -q --eval \\'(ediff-merge-files-with-ancestor\\n\\n               \"CURRENT1\" \"CURRENT2\" \"OLD\" nil \"NEW\")\\'\\n\\n                 (These commands are displayed here on two lines to avoid\\n\\n                 running off the edge of the page. In your preference\\n\\n                 file, each should be written on a single line.)\\n\\n               o If the external program exits without leaving any file\\n\\n                 at the path NEW, Unison considers the merge to have\\n\\n                 failed. If the merge program writes a file called NEW\\n\\n                 but exits with a non-zero status code, then Unison\\n\\n                 considers the merge to have succeeded but to have\\n\\n                 generated conflicts. In this case, it attempts to invoke\\n\\n                 an external editor so that the user can resolve the\\n\\n                 conflicts. The value of the editor preference controls\\n\\n                 what editor is invoked by Unison. The default is emacs.\\n\\n               o Please send us suggestions for other useful values of\\n\\n                 the merge2 and merge preferences -- we\\'d like to give\\n\\n                 several examples in the manual.\\n\\n     * Smaller changes:\\n\\n          + When one preference file includes another, unison no longer\\n\\n            adds the suffix \\'.prf\\' to the included file by default. If a\\n\\n            file with precisely the given name exists in the .unison\\n\\n            directory, it will be used; otherwise Unison will add .prf,\\n\\n            as it did before. (This change means that included preference\\n\\n            files can be named blah.include instead of blah.prf, so that\\n\\n            unison will not offer them in its \\'choose a preference file\\'\\n\\n            dialog.)\\n\\n          + For Linux systems, we now offer both a statically linked and\\n\\n            a dynamically linked executable. The static one is larger,\\n\\n            but will probably run on more systems, since it doesn\\'t\\n\\n            depend on the same versions of dynamically linked library\\n\\n            modules being available.\\n\\n          + Fixed the force and prefer preferences, which were getting\\n\\n            the propagation direction exactly backwards.\\n\\n          + Fixed a bug in the startup code that would cause unison to\\n\\n            crash when the default profile (~/.unison/default.prf) does\\n\\n            not exist.\\n\\n          + Fixed a bug where, on the run when a profile is first\\n\\n            created, Unison would confusingly display the roots in\\n\\n            reverse order in the user interface.\\n\\n     * For developers:\\n\\n          + We\\'ve added a module dependency diagram to the source\\n\\n            distribution, in src/DEPENDENCIES.ps, to help new prospective\\n\\n            developers with navigating the code.\\n\\n       \\n\\n   Changes since 2.6.11:\\n\\n     * INCOMPATIBLE CHANGE: Archive format has changed.\\n\\n     * INCOMPATIBLE CHANGE: The startup sequence has been completely\\n\\n       rewritten and greatly simplified. The main user-visible change is\\n\\n       that the defaultpath preference has been removed. Its effect can\\n\\n       be approximated by using multiple profiles, with include\\n\\n       directives to incorporate common settings. All uses of defaultpath\\n\\n       in existing profiles should be changed to path.\\n\\n       Another change in startup behavior that will affect some users is\\n\\n       that it is no longer possible to specify roots both in the profile\\n\\n       and on the command line.\\n\\n       You can achieve a similar effect, though, by breaking your profile\\n\\n       into two:\\n\\n\\n\\n\\n\\n  default.prf =\\n\\n      root = blah\\n\\n      root = foo\\n\\n      include common\\n\\n\\n\\n  common.prf =\\n\\n      <everything else>\\n\\n       Now do\\n\\n\\n\\n  unison common root1 root2\\n\\n       when you want to specify roots explicitly.\\n\\n     * The -prefer and -force options have been extended to allow users\\n\\n       to specify that files with more recent modtimes should be\\n\\n       propagated, writing either -prefer newer or -force newer. (For\\n\\n       symmetry, Unison will also accept -prefer older or -force older.)\\n\\n       The -force older/newer options can only be used when -times is\\n\\n       also set.\\n\\n       The graphical user interface provides access to these facilities\\n\\n       on a one-off basis via the Actions menu.\\n\\n     * Names of roots can now be ``aliased\\'\\' to allow replicas to be\\n\\n       relocated without changing the name of the archive file where\\n\\n       Unison stores information between runs. (This feature is for\\n\\n       experts only. See the ``Archive Files\\'\\' section of the manual for\\n\\n       more information.)\\n\\n     * Graphical user-interface:\\n\\n          + A new command is provided in the Synchronization menu for\\n\\n            switching to a new profile without restarting Unison from\\n\\n            scratch.\\n\\n          + The GUI also supports one-key shortcuts for commonly used\\n\\n            profiles. If a profile contains a preference of the form \\'key\\n\\n            = n\\', where n is a single digit, then pressing this key will\\n\\n            cause Unison to immediately switch to this profile and begin\\n\\n            synchronization again from scratch. (Any actions that may\\n\\n            have been selected for a set of changes currently being\\n\\n            displayed will be discarded.)\\n\\n          + Each profile may include a preference \\'label = <string>\\'\\n\\n            giving a descriptive string that described the options\\n\\n            selected in this profile. The string is listed along with the\\n\\n            profile name in the profile selection dialog, and displayed\\n\\n            in the top-right corner of the main Unison window.\\n\\n     * Minor:\\n\\n          + Fixed a bug that would sometimes cause the \\'diff\\' display to\\n\\n            order the files backwards relative to the main user\\n\\n            interface. (Thanks to Pascal Brisset for this fix.)\\n\\n          + On Unix systems, the graphical version of Unison will check\\n\\n            the DISPLAY variable and, if it is not set, automatically\\n\\n            fall back to the textual user interface.\\n\\n          + Synchronization paths (path preferences) are now matched\\n\\n            against the ignore preferences. So if a path is both\\n\\n            specified in a path preference and ignored, it will be\\n\\n            skipped.\\n\\n          + Numerous other bugfixes and small improvements.\\n\\n       \\n\\n   Changes since 2.6.1:\\n\\n     * The synchronization of modification times has been disabled for\\n\\n       directories.\\n\\n     * Preference files may now include lines of the form include <name>,\\n\\n       which will cause name.prf to be read at that point.\\n\\n     * The synchronization of permission between Windows and Unix now\\n\\n       works properly.\\n\\n     * A binding CYGWIN=binmode in now added to the environment so that\\n\\n       the Cygwin port of OpenSSH works properly in a non-Cygwin context.\\n\\n     * The servercmd and addversionno preferences can now be used\\n\\n       together: -addversionno appends an appropriate -NNN to the server\\n\\n       command, which is found by using the value of the -servercmd\\n\\n       preference if there is one, or else just unison.\\n\\n     * Both \\'-pref=val\\' and \\'-pref val\\' are now allowed for boolean\\n\\n       values. (The former can be used to set a preference to false.)\\n\\n     * Lot of small bugs fixed.\\n\\n       \\n\\n   Changes since 2.5.31:\\n\\n     * The log preference is now set to true by default, since the log\\n\\n       file seems useful for most users.\\n\\n     * Several miscellaneous bugfixes (most involving symlinks).\\n\\n       \\n\\n   Changes since 2.5.25:\\n\\n     * INCOMPATIBLE CHANGE: Archive format has changed (again).\\n\\n     * Several significant bugs introduced in 2.5.25 have been fixed.\\n\\n       \\n\\n   Changes since 2.5.1:\\n\\n     * INCOMPATIBLE CHANGE: Archive format has changed. Make sure you\\n\\n       synchronize your replicas before upgrading, to avoid spurious\\n\\n       conflicts. The first sync after upgrading will be slow.\\n\\n     * New functionality:\\n\\n          + Unison now synchronizes file modtimes, user-ids, and\\n\\n            group-ids.\\n\\n            These new features are controlled by a set of new\\n\\n            preferences, all of which are currently false by default.\\n\\n               o When the times preference is set to true, file\\n\\n                 modification times are propaged. (Because the\\n\\n                 representations of time may not have the same\\n\\n                 granularity on both replicas, Unison may not always be\\n\\n                 able to make the modtimes precisely equal, but it will\\n\\n                 get them as close as the operating systems involved\\n\\n                 allow.)\\n\\n               o When the owner preference is set to true, file ownership\\n\\n                 information is synchronized.\\n\\n               o When the group preference is set to true, group\\n\\n                 information is synchronized.\\n\\n               o When the numericIds preference is set to true, owner and\\n\\n                 group information is synchronized numerically. By\\n\\n                 default, owner and group numbers are converted to names\\n\\n                 on each replica and these names are synchronized. (The\\n\\n                 special user id 0 and the special group 0 are never\\n\\n                 mapped via user/group names even if this preference is\\n\\n                 not set.)\\n\\n          + Added an integer-valued preference perms that can be used to\\n\\n            control the propagation of permission bits. The value of this\\n\\n            preference is a mask indicating which permission bits should\\n\\n            be synchronized. It is set by default to 0o1777: all bits but\\n\\n            the set-uid and set-gid bits are synchronised (synchronizing\\n\\n            theses latter bits can be a security hazard). If you want to\\n\\n            synchronize all bits, you can set the value of this\\n\\n            preference to -1.\\n\\n          + Added a log preference (default false), which makes Unison\\n\\n            keep a complete record of the changes it makes to the\\n\\n            replicas. By default, this record is written to a file called\\n\\n            unison.log in the user\\'s home directory (the value of the\\n\\n            HOME environment variable). If you want it someplace else,\\n\\n            set the logfile preference to the full pathname you want\\n\\n            Unison to use.\\n\\n          + Added an ignorenot preference that maintains a set of\\n\\n            patterns for paths that should definitely not be ignored,\\n\\n            whether or not they match an ignore pattern. (That is, a path\\n\\n            will now be ignored iff it matches an ignore pattern and does\\n\\n            not match any ignorenot patterns.)\\n\\n     * User-interface improvements:\\n\\n          + Roots are now displayed in the user interface in the same\\n\\n            order as they were given on the command line or in the\\n\\n            preferences file.\\n\\n          + When the batch preference is set, the graphical user\\n\\n            interface no longer waits for user confirmation when it\\n\\n            displays a warning message: it simply pops up an advisory\\n\\n            window with a Dismiss button at the bottom and keeps on\\n\\n            going.\\n\\n          + Added a new preference for controlling how many status\\n\\n            messages are printed during update detection: statusdepth\\n\\n            controls the maximum depth for paths on the local machine\\n\\n            (longer paths are not displayed, nor are non-directory\\n\\n            paths). The value should be an integer; default is 1.\\n\\n          + Removed the trace and silent preferences. They did not seem\\n\\n            very useful, and there were too many preferences for\\n\\n            controlling output in various ways.\\n\\n          + The text UI now displays just the default command (the one\\n\\n            that will be used if the user just types <return>) instead of\\n\\n            all available commands. Typing ? will print the full list of\\n\\n            possibilities.\\n\\n          + The function that finds the canonical hostname of the local\\n\\n            host (which is used, for example, in calculating the name of\\n\\n            the archive file used to remember which files have been\\n\\n            synchronized) normally uses the gethostname operating system\\n\\n            call. However, if the environment variable\\n\\n            UNISONLOCALHOSTNAME is set, its value will now be used\\n\\n            instead. This makes it easier to use Unison in situations\\n\\n            where a machine\\'s name changes frequently (e.g., because it\\n\\n            is a laptop and gets moved around a lot).\\n\\n          + File owner and group are now displayed in the ``detail\\n\\n            window\\'\\' at the bottom of the screen, when unison is\\n\\n            configured to synchronize them.\\n\\n     * For hackers:\\n\\n          + Updated to Jacques Garrigue\\'s new version of lablgtk, which\\n\\n            means we can throw away our local patched version.\\n\\n            If you\\'re compiling the GTK version of unison from sources,\\n\\n            you\\'ll need to update your copy of lablgtk to the developers\\n\\n            release, available from\\n\\n            http://wwwfun.kurims.kyoto-u.ac.jp/soft/olabl/lablgtk.html\\n\\n            (Warning: installing lablgtk under Windows is currently a bit\\n\\n            challenging.)\\n\\n          + The TODO.txt file (in the source distribution) has been\\n\\n            cleaned up and reorganized. The list of pending tasks should\\n\\n            be much easier to make sense of, for people that may want to\\n\\n            contribute their programming energies. There is also a\\n\\n            separate file BUGS.txt for open bugs.\\n\\n          + The Tk user interface has been removed (it was not being\\n\\n            maintained and no longer compiles).\\n\\n          + The debug preference now prints quite a bit of additional\\n\\n            information that should be useful for identifying sources of\\n\\n            problems.\\n\\n          + The version number of the remote server is now checked right\\n\\n            away during the connection setup handshake, rather than\\n\\n            later. (Somebody sent a bug report of a server crash that\\n\\n            turned out to come from using inconsistent versions: better\\n\\n            to check this earlier and in a way that can\\'t crash either\\n\\n            client or server.)\\n\\n          + Unison now runs correctly on 64-bit architectures (e.g. Alpha\\n\\n            linux). We will not be distributing binaries for these\\n\\n            architectures ourselves (at least for a while) but if someone\\n\\n            would like to make them available, we\\'ll be glad to provide a\\n\\n            link to them.\\n\\n     * Bug fixes:\\n\\n          + Pattern matching (e.g. for ignore) is now case-insensitive\\n\\n            when Unison is in case-insensitive mode (i.e., when one of\\n\\n            the replicas is on a windows machine).\\n\\n          + Some people had trouble with mysterious failures during\\n\\n            propagation of updates, where files would be falsely reported\\n\\n            as having changed during synchronization. This should be\\n\\n            fixed.\\n\\n          + Numerous smaller fixes.\\n\\n       \\n\\n   Changes since 2.4.1:\\n\\n     * Added a number of \\'sorting modes\\' for the user interface. By\\n\\n       default, conflicting changes are displayed at the top, and the\\n\\n       rest of the entries are sorted in alphabetical order. This\\n\\n       behavior can be changed in the following ways:\\n\\n          + Setting the sortnewfirst preference to true causes newly\\n\\n            created files to be displayed before changed files.\\n\\n          + Setting sortbysize causes files to be displayed in increasing\\n\\n            order of size.\\n\\n          + Giving the preference sortfirst=<pattern> (where <pattern> is\\n\\n            a path descriptor in the same format as \\'ignore\\' and \\'follow\\'\\n\\n            patterns, causes paths matching this pattern to be displayed\\n\\n            first.\\n\\n          + Similarly, giving the preference sortlast=<pattern> causes\\n\\n            paths matching this pattern to be displayed last.\\n\\n       The sorting preferences are described in more detail in the user\\n\\n       manual. The sortnewfirst and sortbysize flags can also be accessed\\n\\n       from the \\'Sort\\' menu in the grpahical user interface.\\n\\n     * Added two new preferences that can be used to change unison\\'s\\n\\n       fundamental behavior to make it more like a mirroring tool instead\\n\\n       of a synchronizer.\\n\\n          + Giving the preference prefer with argument <root> (by adding\\n\\n            -prefer <root> to the command line or prefer=<root>) to your\\n\\n            profile) means that, if there is a conflict, the contents of\\n\\n            <root> should be propagated to the other replica (with no\\n\\n            questions asked). Non-conflicting changes are treated as\\n\\n            usual.\\n\\n          + Giving the preference force with argument <root> will make\\n\\n            unison resolve all differences in favor of the given root,\\n\\n            even if it was the other replica that was changed.\\n\\n       These options should be used with care! (More information is\\n\\n       available in the manual.)\\n\\n     * Small changes:\\n\\n          + Changed default answer to \\'Yes\\' in all two-button dialogs in\\n\\n            the graphical interface (this seems more intuitive).\\n\\n          + The rsync preference has been removed (it was used to\\n\\n            activate rsync compression for file transfers, but rsync\\n\\n            compression is now enabled by default).\\n\\n          + In the text user interface, the arrows indicating which\\n\\n            direction changes are being propagated are printed\\n\\n            differently when the user has overridded Unison\\'s default\\n\\n            recommendation (====> instead of ---->). This matches the\\n\\n            behavior of the graphical interface, which displays such\\n\\n            arrows in a different color.\\n\\n          + Carriage returns (Control-M\\'s) are ignored at the ends of\\n\\n            lines in profiles, for Windows compatibility.\\n\\n          + All preferences are now fully documented in the user manual.\\n\\n       \\n\\n   Changes since 2.3.12:\\n\\n     * INCOMPATIBLE CHANGE: Archive format has changed. Make sure you\\n\\n       synchronize your replicas before upgrading, to avoid spurious\\n\\n       conflicts. The first sync after upgrading will be slow.\\n\\n     * New/improved functionality:\\n\\n          + A new preference -sortbysize controls the order in which\\n\\n            changes are displayed to the user: when it is set to true,\\n\\n            the smallest changed files are displayed first. (The default\\n\\n            setting is false.)\\n\\n          + A new preference -sortnewfirst causes newly created files to\\n\\n            be listed before other updates in the user interface.\\n\\n          + We now allow the ssh protocol to specify a port.\\n\\n          + Incompatible change: The unison: protocol is deprecated, and\\n\\n            we added file: and socket:. You may have to modify your\\n\\n            profiles in the .unison directory. If a replica is specified\\n\\n            without an explicit protocol, we now assume it refers to a\\n\\n            file. (Previously \"//saul/foo\" meant to use SSH to connect to\\n\\n            saul, then access the foo directory. Now it means to access\\n\\n            saul via a remote file mechanism such as samba; the old\\n\\n            effect is now achieved by writing ssh://saul/foo.)\\n\\n          + Changed the startup sequence for the case where roots are\\n\\n            given but no profile is given on the command line. The new\\n\\n            behavior is to use the default profile (creating it if it\\n\\n            does not exist), and temporarily override its roots. The\\n\\n            manual claimed that this case would work by reading no\\n\\n            profile at all, but AFAIK this was never true.\\n\\n          + In all user interfaces, files with conflicts are always\\n\\n            listed first\\n\\n          + A new preference \\'sshversion\\' can be used to control which\\n\\n            version of ssh should be used to connect to the server. Legal\\n\\n            values are 1 and 2. (Default is empty, which will make unison\\n\\n            use whatever version of ssh is installed as the default \\'ssh\\'\\n\\n            command.)\\n\\n          + The situation when the permissions of a file was updated the\\n\\n            same on both side is now handled correctly (we used to report\\n\\n            a spurious conflict)\\n\\n     * Improvements for the Windows version:\\n\\n          + The fact that filenames are treated case-insensitively under\\n\\n            Windows should now be handled correctly. The exact behavior\\n\\n            is described in the cross-platform section of the manual.\\n\\n          + It should be possible to synchronize with Windows shares,\\n\\n            e.g., //host/drive/path.\\n\\n          + Workarounds to the bug in syncing root directories in\\n\\n            Windows. The most difficult thing to fix is an ocaml bug:\\n\\n            Unix.opendir fails on c: in some versions of Windows.\\n\\n     * Improvements to the GTK user interface (the Tk interface is no\\n\\n       longer being maintained):\\n\\n          + The UI now displays actions differently (in blue) when they\\n\\n            have been explicitly changed by the user from Unison\\'s\\n\\n            default recommendation.\\n\\n          + More colorful appearance.\\n\\n          + The initial profile selection window works better.\\n\\n          + If any transfers failed, a message to this effect is\\n\\n            displayed along with \\'Synchronization complete\\' at the end of\\n\\n            the transfer phase (in case they may have scrolled off the\\n\\n            top).\\n\\n          + Added a global progress meter, displaying the percentage of\\n\\n            total bytes that have been transferred so far.\\n\\n     * Improvements to the text user interface:\\n\\n          + The file details will be displayed automatically when a\\n\\n            conflict is been detected.\\n\\n          + when a warning is generated (e.g. for a temporary file left\\n\\n            over from a previous run of unison) Unison will no longer\\n\\n            wait for a response if it is running in -batch mode.\\n\\n          + The UI now displays a short list of possible inputs each time\\n\\n            it waits for user interaction.\\n\\n          + The UI now quits immediately (rather than looping back and\\n\\n            starting the interaction again) if the user presses \\'q\\' when\\n\\n            asked whether to propagate changes.\\n\\n          + Pressing \\'g\\' in the text user interface will proceed\\n\\n            immediately with propagating updates, without asking any more\\n\\n            questions.\\n\\n     * Documentation and installation changes:\\n\\n          + The manual now includes a FAQ, plus sections on common\\n\\n            problems and on tricks contributed by users.\\n\\n          + Both the download page and the download directory explicitly\\n\\n            say what are the current stable and beta-test version\\n\\n            numbers.\\n\\n          + The OCaml sources for the up-to-the-minute developers\\'\\n\\n            version (not guaranteed to be stable, or even to compile, at\\n\\n            any given time!) are now available from the download page.\\n\\n          + Added a subsection to the manual describing cross-platform\\n\\n            issues (case conflicts, illegal filenames)\\n\\n     * Many small bug fixes and random improvements.\\n\\n       \\n\\n   Changes since 2.3.1:\\n\\n     * Several bug fixes. The most important is a bug in the rsync module\\n\\n       that would occasionally cause change propagation to fail with a\\n\\n       \\'rename\\' error.\\n\\n       \\n\\n   Changes since 2.2:\\n\\n     * The multi-threaded transport system is now disabled by default.\\n\\n       (It is not stable enough yet.)\\n\\n     * Various bug fixes.\\n\\n     * A new experimental feature:\\n\\n       The final component of a -path argument may now be the wildcard\\n\\n       specifier *. When Unison sees such a path, it expands this path on\\n\\n       the client into into the corresponding list of paths by listing\\n\\n       the contents of that directory.\\n\\n       Note that if you use wildcard paths from the command line, you\\n\\n       will probably need to use quotes or a backslash to prevent the *\\n\\n       from being interpreted by your shell.\\n\\n       If both roots are local, the contents of the first one will be\\n\\n       used for expanding wildcard paths. (Nb: this is the first one\\n\\n       after the canonization step -- i.e., the one that is listed first\\n\\n       in the user interface -- not the one listed first on the command\\n\\n       line or in the preferences file.)\\n\\n       \\n\\n   Changes since 2.1:\\n\\n     * The transport subsystem now includes an implementation by Sylvain\\n\\n       Gommier and Norman Ramsey of Tridgell and Mackerras\\'s rsync\\n\\n       protocol. This protocol achieves much faster transfers when only a\\n\\n       small part of a large file has been changed by sending just diffs.\\n\\n       This feature is mainly helpful for transfers over slow links---on\\n\\n       fast local area networks it can actually degrade performance---so\\n\\n       we have left it off by default. Start unison with the -rsync\\n\\n       option (or put rsync=true in your preferences file) to turn it on.\\n\\n     * ``Progress bars\\'\\' are now diplayed during remote file transfers,\\n\\n       showing what percentage of each file has been transferred so far.\\n\\n     * The version numbering scheme has changed. New releases will now be\\n\\n       have numbers like 2.2.30, where the second component is\\n\\n       incremented on every significant public release and the third\\n\\n       component is the ``patch level.\\'\\'\\n\\n     * Miscellaneous improvements to the GTK-based user interface.\\n\\n     * The manual is now available in PDF format.\\n\\n     * We are experimenting with using a multi-threaded transport\\n\\n       subsystem to transfer several files at the same time, making much\\n\\n       more effective use of available network bandwidth. This feature is\\n\\n       not completely stable yet, so by default it is disabled in the\\n\\n       release version of Unison.\\n\\n       If you want to play with the multi-threaded version, you\\'ll need\\n\\n       to recompile Unison from sources (as described in the\\n\\n       documentation), setting the THREADS flag in Makefile.OCaml to\\n\\n       true. Make sure that your OCaml compiler has been installed with\\n\\n       the -with-pthreads configuration option. (You can verify this by\\n\\n       checking whether the file threads/threads.cma in the OCaml\\n\\n       standard library directory contains the string -lpthread near the\\n\\n       end.)\\n\\n       \\n\\n   Changes since 1.292:\\n\\n     * Reduced memory footprint (this is especially important during the\\n\\n       first run of unison, where it has to gather information about all\\n\\n       the files in both repositories).\\n\\n     * Fixed a bug that would cause the socket server under NT to fail\\n\\n       after the client exits.\\n\\n     * Added a SHIFT modifier to the Ignore menu shortcut keys in GTK\\n\\n       interface (to avoid hitting them accidentally).\\n\\n       \\n\\n   Changes since 1.231:\\n\\n     * Tunneling over ssh is now supported in the Windows version. See\\n\\n       the installation section of the manual for detailed instructions.\\n\\n     * The transport subsystem now includes an implementation of the\\n\\n       rsync protocol, built by Sylvain Gommier and Norman Ramsey. This\\n\\n       protocol achieves much faster transfers when only a small part of\\n\\n       a large file has been changed by sending just diffs. The rsync\\n\\n       feature is off by default in the current version. Use the -rsync\\n\\n       switch to turn it on. (Nb. We still have a lot of tuning to do:\\n\\n       you may not notice much speedup yet.)\\n\\n     * We\\'re experimenting with a multi-threaded transport subsystem,\\n\\n       written by Jerome Vouillon. The downloadable binaries are still\\n\\n       single-threaded: if you want to try the multi-threaded version,\\n\\n       you\\'ll need to recompile from sources. (Say make THREADS=true.)\\n\\n       Native thread support from the compiler is required. Use the\\n\\n       option -threads N to select the maximal number of concurrent\\n\\n       threads (default is 5). Multi-threaded and single-threaded\\n\\n       clients/servers can interoperate.\\n\\n     * A new GTK-based user interface is now available, thanks to Jacques\\n\\n       Garrigue. The Tk user interface still works, but we\\'ll be shifting\\n\\n       development effort to the GTK interface from now on.\\n\\n     * OCaml 3.00 is now required for compiling Unison from sources. The\\n\\n       modules uitk and myfileselect have been changed to use labltk\\n\\n       instead of camltk. To compile the Tk interface in Windows, you\\n\\n       must have ocaml-3.00 and tk8.3. When installing tk8.3, put it in\\n\\n       c:\\\\Tcl rather than the suggested c:\\\\Program Files\\\\Tcl, and be sure\\n\\n       to install the headers and libraries (which are not installed by\\n\\n       default).\\n\\n     * Added a new -addversionno switch, which causes unison to use\\n\\n       unison-<currentversionnumber> instead of just unison as the remote\\n\\n       server command. This allows multiple versions of unison to coexist\\n\\n       conveniently on the same server: whichever version is run on the\\n\\n       client, the same version will be selected on the server.\\n\\n       \\n\\n   Changes since 1.219:\\n\\n     * INCOMPATIBLE CHANGE: Archive format has changed. Make sure you\\n\\n       synchronize your replicas before upgrading, to avoid spurious\\n\\n       conflicts. The first sync after upgrading will be slow.\\n\\n     * This version fixes several annoying bugs, including:\\n\\n          + Some cases where propagation of file permissions was not\\n\\n            working.\\n\\n          + umask is now ignored when creating directories\\n\\n          + directories are create writable, so that a read-only\\n\\n            directory and its contents can be propagated.\\n\\n          + Handling of warnings generated by the server.\\n\\n          + Synchronizing a path whose parent is not a directory on both\\n\\n            sides is now flagged as erroneous.\\n\\n          + Fixed some bugs related to symnbolic links and nonexistant\\n\\n            roots.\\n\\n               o When a change (deletion or new contents) is propagated\\n\\n                 onto a \\'follow\\'ed symlink, the file pointed to by the\\n\\n                 link is now changed. (We used to change the link itself,\\n\\n                 which doesn\\'t fit our assertion that \\'follow\\' means the\\n\\n                 link is completely invisible)\\n\\n               o When one root did not exist, propagating the other root\\n\\n                 on top of it used to fail, becuase unison could not\\n\\n                 calculate the working directory into which to write\\n\\n                 changes. This should be fixed.\\n\\n     * A human-readable timestamp has been added to Unison\\'s archive\\n\\n       files.\\n\\n     * The semantics of Path and Name regular expressions now correspond\\n\\n       better.\\n\\n     * Some minor improvements to the text UI (e.g. a command for going\\n\\n       back to previous items)\\n\\n     * The organization of the export directory has changed --- should be\\n\\n       easier to find / download things now.\\n\\n       \\n\\n   Changes since 1.200:\\n\\n     * INCOMPATIBLE CHANGE: Archive format has changed. Make sure you\\n\\n       synchronize your replicas before upgrading, to avoid spurious\\n\\n       conflicts. The first sync after upgrading will be slow.\\n\\n     * This version has not been tested extensively on Windows.\\n\\n     * Major internal changes designed to make unison safer to run at the\\n\\n       same time as the replicas are being changed by the user.\\n\\n     * Internal performance improvements.\\n\\n       \\n\\n   Changes since 1.190:\\n\\n     * INCOMPATIBLE CHANGE: Archive format has changed. Make sure you\\n\\n       synchronize your replicas before upgrading, to avoid spurious\\n\\n       conflicts. The first sync after upgrading will be slow.\\n\\n     * A number of internal functions have been changed to reduce the\\n\\n       amount of memory allocation, especially during the first\\n\\n       synchronization. This should help power users with very big\\n\\n       replicas.\\n\\n     * Reimplementation of low-level remote procedure call stuff, in\\n\\n       preparation for adding rsync-like smart file transfer in a later\\n\\n       release.\\n\\n     * Miscellaneous bug fixes.\\n\\n       \\n\\n   Changes since 1.180:\\n\\n     * INCOMPATIBLE CHANGE: Archive format has changed. Make sure you\\n\\n       synchronize your replicas before upgrading, to avoid spurious\\n\\n       conflicts. The first sync after upgrading will be slow.\\n\\n     * Fixed some small bugs in the interpretation of ignore patterns.\\n\\n     * Fixed some problems that were preventing the Windows version from\\n\\n       working correctly when click-started.\\n\\n     * Fixes to treatment of file permissions under Windows, which were\\n\\n       causing spurious reports of different permissions when\\n\\n       synchronizing between windows and unix systems.\\n\\n     * Fixed one more non-tail-recursive list processing function, which\\n\\n       was causing stack overflows when synchronizing very large\\n\\n       replicas.\\n\\n       \\n\\n   Changes since 1.169:\\n\\n     * The text user interface now provides commands for ignoring files.\\n\\n     * We found and fixed some more non-tail-recursive list processing\\n\\n       functions. Some power users have reported success with very large\\n\\n       replicas.\\n\\n     * INCOMPATIBLE CHANGE: Files ending in .tmp are no longer ignored\\n\\n       automatically. If you want to ignore such files, put an\\n\\n       appropriate ignore pattern in your profile.\\n\\n     * INCOMPATIBLE CHANGE: The syntax of ignore and follow patterns has\\n\\n       changed. Instead of putting a line of the form\\n\\n\\n\\n                 ignore = <regexp>\\n\\n       in your profile (.unison/default.prf), you should put:\\n\\n\\n\\n                 ignore = Regexp <regexp>\\n\\n       Moreover, two other styles of pattern are also recognized:\\n\\n\\n\\n                 ignore = Name <name>\\n\\n       matches any path in which one component matches <name>, while\\n\\n\\n\\n                 ignore = Path <path>\\n\\n       matches exactly the path <path>.\\n\\n       Standard ``globbing\\'\\' conventions can be used in <name> and\\n\\n       <path>:\\n\\n          + a ? matches any single character except /\\n\\n          + a * matches any sequence of characters not including /\\n\\n          + [xyz] matches any character from the set {x, y, z }\\n\\n          + {a,bb,ccc} matches any one of a, bb, or ccc.\\n\\n       See the user manual for some examples.\\n\\n       \\n\\n   Changes since 1.146:\\n\\n     * Some users were reporting stack overflows when synchronizing huge\\n\\n       directories. We found and fixed some non-tail-recursive list\\n\\n       processing functions, which we hope will solve the problem. Please\\n\\n       give it a try and let us know.\\n\\n     * Major additions to the documentation.\\n\\n       \\n\\n   Changes since 1.142:\\n\\n     * Major internal tidying and many small bugfixes.\\n\\n     * Major additions to the user manual.\\n\\n     * Unison can now be started with no arguments -- it will prompt\\n\\n       automatically for the name of a profile file containing the roots\\n\\n       to be synchronized. This makes it possible to start the graphical\\n\\n       UI from a desktop icon.\\n\\n     * Fixed a small bug where the text UI on NT was raising a \\'no such\\n\\n       signal\\' exception.\\n\\n       \\n\\n   Changes since 1.139:\\n\\n     * The precompiled windows binary in the last release was compiled\\n\\n       with an old OCaml compiler, causing propagation of permissions not\\n\\n       to work (and perhaps leading to some other strange behaviors we\\'ve\\n\\n       heard reports about). This has been corrected. If you\\'re using\\n\\n       precompiled binaries on Windows, please upgrade.\\n\\n     * Added a -debug command line flag, which controls debugging of\\n\\n       various modules. Say -debug XXX to enable debug tracing for module\\n\\n       XXX, or -debug all to turn on absolutely everything.\\n\\n     * Fixed a small bug where the text UI on NT was raising a \\'no such\\n\\n       signal\\' exception.\\n\\n       \\n\\n   Changes since 1.111:\\n\\n     * INCOMPATIBLE CHANGE: The names and formats of the preference files\\n\\n       in the .unison directory have changed. In particular:\\n\\n          + the file ``prefs\\'\\' should be renamed to default.prf\\n\\n          + the contents of the file ``ignore\\'\\' should be merged into\\n\\n            default.prf. Each line of the form REGEXP in ignore should\\n\\n            become a line of the form ignore = REGEXP in default.prf.\\n\\n     * Unison now handles permission bits and symbolic links. See the\\n\\n       manual for details.\\n\\n     * You can now have different preference files in your .unison\\n\\n       directory. If you start unison like this\\n\\n\\n\\n             unison profilename\\n\\n       (i.e. with just one ``anonymous\\'\\' command-line argument), then the\\n\\n       file ~/.unison/profilename.prf will be loaded instead of\\n\\n       default.prf.\\n\\n     * Some improvements to terminal handling in the text user interface\\n\\n     * Added a switch -killServer that terminates the remote server\\n\\n       process when the unison client is shutting down, even when using\\n\\n       sockets for communication. (By default, a remote server created\\n\\n       using ssh/rsh is terminated automatically, while a socket server\\n\\n       is left running.)\\n\\n     * When started in \\'socket server\\' mode, unison prints \\'server\\n\\n       started\\' on stderr when it is ready to accept connections. (This\\n\\n       may be useful for scripts that want to tell when a socket-mode\\n\\n       server has finished initalization.)\\n\\n     * We now make a nightly mirror of our current internal development\\n\\n       tree, in case anyone wants an up-to-the-minute version to hack\\n\\n       around with.\\n\\n     * Added a file CONTRIB with some suggestions for how to help us make\\n\\n       Unison better.\\n\\n       \\n\\n\\n\\n\\n\\nTo unsubscribe from this group, send an email to:\\n\\nunison-announce-unsubscribe@egroups.com\\n\\n\\n\\n \\n\\n\\n\\nYour use of Yahoo! Groups is subject to http://docs.yahoo.com/info/terms/ \\n\\n\\n\\n\\n\\n\\n'"
      ]
     },
     "execution_count": 134,
     "metadata": {},
     "output_type": "execute_result"
    }
   ],
   "source": [
    "#row name\n",
    "data.at[np.argmax(clean_email_lengths),'MESSAGE']"
   ]
  },
  {
   "cell_type": "code",
   "execution_count": null,
   "id": "50f18007",
   "metadata": {},
   "outputs": [],
   "source": []
  }
 ],
 "metadata": {
  "kernelspec": {
   "display_name": "Python 3 (ipykernel)",
   "language": "python",
   "name": "python3"
  },
  "language_info": {
   "codemirror_mode": {
    "name": "ipython",
    "version": 3
   },
   "file_extension": ".py",
   "mimetype": "text/x-python",
   "name": "python",
   "nbconvert_exporter": "python",
   "pygments_lexer": "ipython3",
   "version": "3.9.7"
  }
 },
 "nbformat": 4,
 "nbformat_minor": 5
}
