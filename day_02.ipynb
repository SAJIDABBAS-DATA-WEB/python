{
  "nbformat": 4,
  "nbformat_minor": 0,
  "metadata": {
    "colab": {
      "provenance": [],
      "authorship_tag": "ABX9TyMZa4lsde2Kjte1QT+LyFRQ",
      "include_colab_link": true
    },
    "kernelspec": {
      "name": "python3",
      "display_name": "Python 3"
    },
    "language_info": {
      "name": "python"
    }
  },
  "cells": [
    {
      "cell_type": "markdown",
      "metadata": {
        "id": "view-in-github",
        "colab_type": "text"
      },
      "source": [
        "<a href=\"https://colab.research.google.com/github/sajid-the-data-guy/python/blob/main/day_02.ipynb\" target=\"_parent\"><img src=\"https://colab.research.google.com/assets/colab-badge.svg\" alt=\"Open In Colab\"/></a>"
      ]
    },
    {
      "cell_type": "code",
      "execution_count": null,
      "metadata": {
        "colab": {
          "base_uri": "https://localhost:8080/"
        },
        "id": "9-qg7svisvc8",
        "outputId": "8174a1da-6cc3-4e2a-b5b7-134b16afc5d0"
      },
      "outputs": [
        {
          "output_type": "stream",
          "name": "stdout",
          "text": [
            "l\n",
            "123123\n",
            "246\n",
            "3.2\n"
          ]
        }
      ],
      "source": [
        "#data types\n",
        "\n",
        "\n",
        "#string\n",
        "print(\"hello\"[2]);\n",
        "\n",
        "print(\"123\" + \"123\")\n",
        "\n",
        "#integer\n",
        "print(123 + 123)\n",
        "\n",
        "#float\n",
        "#any number with point is known as float\n",
        "3.14159\n",
        "\n",
        "#boolean\n",
        "True                   \n",
        "False"
      ]
    },
    {
      "cell_type": "code",
      "source": [
        "street_name = \"Abbey Road\"\n",
        "print(street_name[4] + street_name[7])"
      ],
      "metadata": {
        "colab": {
          "base_uri": "https://localhost:8080/"
        },
        "id": "hpC4Tsf0vqXQ",
        "outputId": "7111126b-5710-49cd-bbdb-dd25d5911036"
      },
      "execution_count": null,
      "outputs": [
        {
          "output_type": "stream",
          "name": "stdout",
          "text": [
            "yo\n"
          ]
        }
      ]
    },
    {
      "cell_type": "code",
      "source": [
        "num_char = len(input(\"what is your name\"))\n",
        "\n",
        "print(\"your name as\" + num_char + \"character\")\n",
        "\n"
      ],
      "metadata": {
        "colab": {
          "base_uri": "https://localhost:8080/",
          "height": 236
        },
        "id": "abei52T9v27q",
        "outputId": "dbdeabdd-0457-451a-902b-18947677348e"
      },
      "execution_count": null,
      "outputs": [
        {
          "name": "stdout",
          "output_type": "stream",
          "text": [
            "what is your namesajid\n"
          ]
        },
        {
          "output_type": "error",
          "ename": "TypeError",
          "evalue": "ignored",
          "traceback": [
            "\u001b[0;31m---------------------------------------------------------------------------\u001b[0m",
            "\u001b[0;31mTypeError\u001b[0m                                 Traceback (most recent call last)",
            "\u001b[0;32m<ipython-input-19-0d000b4eb5e6>\u001b[0m in \u001b[0;36m<module>\u001b[0;34m\u001b[0m\n\u001b[1;32m      1\u001b[0m \u001b[0mnum_char\u001b[0m \u001b[0;34m=\u001b[0m \u001b[0mlen\u001b[0m\u001b[0;34m(\u001b[0m\u001b[0minput\u001b[0m\u001b[0;34m(\u001b[0m\u001b[0;34m\"what is your name\"\u001b[0m\u001b[0;34m)\u001b[0m\u001b[0;34m)\u001b[0m\u001b[0;34m\u001b[0m\u001b[0;34m\u001b[0m\u001b[0m\n\u001b[1;32m      2\u001b[0m \u001b[0;34m\u001b[0m\u001b[0m\n\u001b[0;32m----> 3\u001b[0;31m \u001b[0mprint\u001b[0m\u001b[0;34m(\u001b[0m\u001b[0;34m\"your name as\"\u001b[0m \u001b[0;34m+\u001b[0m \u001b[0mnum_char\u001b[0m \u001b[0;34m+\u001b[0m \u001b[0;34m\"character\"\u001b[0m\u001b[0;34m)\u001b[0m\u001b[0;34m\u001b[0m\u001b[0;34m\u001b[0m\u001b[0m\n\u001b[0m\u001b[1;32m      4\u001b[0m \u001b[0;34m\u001b[0m\u001b[0m\n",
            "\u001b[0;31mTypeError\u001b[0m: can only concatenate str (not \"int\") to str"
          ]
        }
      ]
    },
    {
      "cell_type": "code",
      "source": [
        "new_num_char = str(num_char)\n",
        "print(new_num_char)"
      ],
      "metadata": {
        "colab": {
          "base_uri": "https://localhost:8080/"
        },
        "id": "rAzlsydFyRgC",
        "outputId": "9fd4d206-eaa6-4f9b-fdca-1925b2cc941f"
      },
      "execution_count": null,
      "outputs": [
        {
          "output_type": "stream",
          "name": "stdout",
          "text": [
            "5\n"
          ]
        }
      ]
    },
    {
      "cell_type": "code",
      "source": [
        "#type checking by using type check function\n",
        "type(num_char)"
      ],
      "metadata": {
        "colab": {
          "base_uri": "https://localhost:8080/"
        },
        "id": "2eMrq4J0xMVJ",
        "outputId": "76a2a61f-5cbf-473e-9900-eb97e6e9ec3d"
      },
      "execution_count": null,
      "outputs": [
        {
          "output_type": "execute_result",
          "data": {
            "text/plain": [
              "int"
            ]
          },
          "metadata": {},
          "execution_count": 17
        }
      ]
    },
    {
      "cell_type": "code",
      "source": [
        "#converting data type into a string\n",
        "str(num_char)\n",
        "print(num_char)"
      ],
      "metadata": {
        "colab": {
          "base_uri": "https://localhost:8080/"
        },
        "id": "kNhU8VlsxjaE",
        "outputId": "e105d71f-ddfc-487c-c642-b5b47ea8acea"
      },
      "execution_count": null,
      "outputs": [
        {
          "output_type": "stream",
          "name": "stdout",
          "text": [
            "5\n"
          ]
        }
      ]
    },
    {
      "cell_type": "code",
      "source": [
        "a = 1123\n",
        "b = \"sajid\"\n",
        "c = 21.23\n",
        "d = False \n",
        "print(type(a))\n",
        "print(type(b))\n",
        "print(type(c))\n",
        "print(type(d))"
      ],
      "metadata": {
        "colab": {
          "base_uri": "https://localhost:8080/"
        },
        "id": "FkDPq5rHyoPB",
        "outputId": "b03c05d3-1c69-4383-994f-308023c9b73b"
      },
      "execution_count": null,
      "outputs": [
        {
          "output_type": "stream",
          "name": "stdout",
          "text": [
            "<class 'int'>\n",
            "<class 'str'>\n",
            "<class 'float'>\n",
            "<class 'bool'>\n"
          ]
        }
      ]
    },
    {
      "cell_type": "code",
      "source": [
        "print(str(123)+ str(212))"
      ],
      "metadata": {
        "colab": {
          "base_uri": "https://localhost:8080/"
        },
        "id": "EE8lh5rHyjGc",
        "outputId": "f704d307-b15d-4c8b-eaaa-bc52c98a9241"
      },
      "execution_count": null,
      "outputs": [
        {
          "output_type": "stream",
          "name": "stdout",
          "text": [
            "123212\n"
          ]
        }
      ]
    },
    {
      "cell_type": "code",
      "source": [
        "#day 2 task to add two digit number from the input\n",
        "two_digit_num = input(\"enter a two digit number: \")\n",
        "type(two_digit_num)\n",
        "\n",
        "output= int(two_digit_num[0])+int(two_digit_num[1])\n",
        "print(output)"
      ],
      "metadata": {
        "colab": {
          "base_uri": "https://localhost:8080/"
        },
        "id": "9fhCn6990GQ2",
        "outputId": "e0422ae4-4a36-414d-c5c8-e39acd10f4a7"
      },
      "execution_count": null,
      "outputs": [
        {
          "output_type": "stream",
          "name": "stdout",
          "text": [
            "enter a two digit number: 31\n",
            "4\n"
          ]
        }
      ]
    },
    {
      "cell_type": "code",
      "source": [
        "#mathematical operation\n",
        "3 + 1\n",
        "7 - 4\n",
        "3*2\n",
        "#while diving operation we will get output in float\n",
        "6/2\n",
        "# 2 power 3\n",
        "print(2**3) # 2 x 2 x 2 meaning of power"
      ],
      "metadata": {
        "colab": {
          "base_uri": "https://localhost:8080/"
        },
        "id": "k6xQPi-y29by",
        "outputId": "00eab6f2-b406-4873-ce62-f6c63580bbb2"
      },
      "execution_count": null,
      "outputs": [
        {
          "output_type": "stream",
          "name": "stdout",
          "text": [
            "8\n"
          ]
        }
      ]
    },
    {
      "cell_type": "code",
      "source": [
        "#pemdas fullform\n",
        "#parentheses ()\n",
        "#exponents **\n",
        "#multiplication *\n",
        "#division /\n",
        "#addition +\n",
        "#subtraction -\n",
        "print(3 * 3 + 3 / 3 - 3)\n",
        "print(3 * (3 + 3) / 3 - 3)\n"
      ],
      "metadata": {
        "colab": {
          "base_uri": "https://localhost:8080/"
        },
        "id": "AP5qOQjJ4H_5",
        "outputId": "c0af45eb-18d8-4b37-931f-a75a25aeacde"
      },
      "execution_count": null,
      "outputs": [
        {
          "output_type": "stream",
          "name": "stdout",
          "text": [
            "7.0\n"
          ]
        }
      ]
    },
    {
      "cell_type": "markdown",
      "source": [],
      "metadata": {
        "id": "4iq7wSkiBbnF"
      }
    },
    {
      "cell_type": "code",
      "source": [
        "#calculating the body mass index\n",
        "#bmi = weight (kg)/height**2(m**2)\n",
        "\n",
        "height = input(\"enter your height in m: \")\n",
        "weight = input(\"enter your weight in kg: \")\n",
        "\n",
        "bmi = int(weight) / float(height)**2   \n",
        "print(bmi)\n",
        "\n",
        "bmi_as_int = int(bmi)\n",
        "print(bmi_as_int)\n"
      ],
      "metadata": {
        "colab": {
          "base_uri": "https://localhost:8080/"
        },
        "id": "fGPt10Ik6hYa",
        "outputId": "d1549bd6-6fc8-4713-d3e4-8ced75203705"
      },
      "execution_count": null,
      "outputs": [
        {
          "output_type": "stream",
          "name": "stdout",
          "text": [
            "enter your height in m: 1.8\n",
            "enter your weight in kg: 64\n",
            "19.753086419753085\n",
            "19\n"
          ]
        }
      ]
    },
    {
      "cell_type": "code",
      "source": [
        "result = round(2.3333222 ,1)\n",
        "print(type(result))\n",
        "\n",
        "score = 90\n",
        "\n",
        "score += 1\n",
        "print(score)\n",
        "\n",
        "height = 1.8\n",
        "iswinning = True\n",
        "# f-string\n",
        "print(f\"our score is {score}\")\n",
        "print(f\"score is {score},your height is {height},you are winning is {iswinning}\")\n",
        "\n",
        "\n"
      ],
      "metadata": {
        "colab": {
          "base_uri": "https://localhost:8080/"
        },
        "id": "wZqH_-JfW6WF",
        "outputId": "04470ae5-f6cc-46d0-8f63-30f1af603d0e"
      },
      "execution_count": 24,
      "outputs": [
        {
          "output_type": "stream",
          "name": "stdout",
          "text": [
            "<class 'float'>\n",
            "91\n",
            "our score is 91\n",
            "score is 91,your height is 1.8,you are winning is True\n"
          ]
        }
      ]
    },
    {
      "cell_type": "code",
      "source": [
        "#your life in weeks\n",
        "\n",
        "age_in_int = int(input(\"what is your age: \"))\n",
        "\n",
        "\n",
        "# lets consider max age limit is 90\n",
        "years_remaining = 90 - age_in_int\n",
        "days_remaining = years_remaining * 365\n",
        "weeks_remaining =  years_remaining * 52\n",
        "months_remaining = years_remaining * 12\n",
        "message = (f\"your  remaining years is {years_remaining},days is {days_remaining},weeks is {weeks_remaining},months is {months_remaining}\")\n",
        "print(message)"
      ],
      "metadata": {
        "colab": {
          "base_uri": "https://localhost:8080/"
        },
        "id": "OVK5YoStd-g7",
        "outputId": "4692952b-1de8-4067-fc2c-f5f73984e82b"
      },
      "execution_count": 31,
      "outputs": [
        {
          "output_type": "stream",
          "name": "stdout",
          "text": [
            "what is your age: 22\n",
            "your  remaining years is 68,days is 24820,weeks is 3536,months is 816\n"
          ]
        }
      ]
    },
    {
      "cell_type": "code",
      "source": [
        "#tip& share per person\n",
        "print(\"welcome to the tip & share per person calc. \")\n",
        "total_bill = int(input(\"what is your total bill $\"))\n",
        "tip = int(input(\"what percentage tip would you like to give? 10,12, or 15? $\"))\n",
        "split_bill = int(input(\"how many people to split the bill? \"))\n",
        "\n",
        "amount = (total_bill / split_bill)\n",
        "amount += tip\n",
        "#format is used to get decimal number .00\n",
        "amount = \"{:.2f}\".format(amount)\n",
        "print(amount)\n"
      ],
      "metadata": {
        "colab": {
          "base_uri": "https://localhost:8080/"
        },
        "id": "h4IToxx7jvRa",
        "outputId": "b8f8e80d-2629-4a7f-9014-e36680c89efb"
      },
      "execution_count": 41,
      "outputs": [
        {
          "output_type": "stream",
          "name": "stdout",
          "text": [
            "welcome to the tip & share per person calc. \n",
            "what is your total bill 100\n",
            "what percentage tip would you like to give? 10,12, or 15?10\n",
            "how many people to split the bill? 3\n",
            "43.33\n"
          ]
        }
      ]
    }
  ]
}